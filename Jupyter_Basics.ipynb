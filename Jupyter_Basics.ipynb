{
 "cells": [
  {
   "cell_type": "markdown",
   "id": "6d071e5e-e1d9-40a2-a45d-f5db8b5f51c0",
   "metadata": {},
   "source": [
    "## Jupyter Notebook, Reference & Basic Notes\n",
    "**Markdown**"
   ]
  },
  {
   "cell_type": "raw",
   "id": "6eaaabb0-a63b-4cdf-932b-09e1e50819bc",
   "metadata": {},
   "source": [
    "## Title\n",
    "[issue]link\n",
    "** bold **\n",
    "_ italic _\n",
    "> quotebox"
   ]
  },
  {
   "cell_type": "markdown",
   "id": "352ac6ed-9bd0-441d-9a0b-f878eb1c2337",
   "metadata": {},
   "source": [
    "**Commands**"
   ]
  },
  {
   "cell_type": "raw",
   "id": "b8fe6b7d-dc06-406a-95f3-1979841c68c6",
   "metadata": {},
   "source": [
    "a: add cell above\n",
    "b: add cell below\n",
    "dd: delete selected cell\n",
    "Esc: Leave Editing\n",
    "Enter: Edit\n",
    "z: Undo\n",
    "m: Markdown selected cell\n",
    "y: Python selected cell\n",
    "x: cut, c: copy, v: paste\n",
    "ctrl+Enter: Run&Stay\n",
    "shift+Enter: Run&Next"
   ]
  },
  {
   "cell_type": "markdown",
   "id": "f17d6069-f157-4f49-93b5-11a0600f47cc",
   "metadata": {},
   "source": [
    "### Notes\n",
    "Jupyter is actually a python interpreter, making for a convenient log & presentation of outputs. Consists of a sequence of multiple cells, and execites cell-by-cell. Can generate pdfs|html reports. Cells gain execution numbers in order of their execution. Cells -must- be executed to contribute.\n",
    "### Libraries\n",
    "numpy,matplotlib,boken,pandas,requests  \n",
    "Export via jupyter labs"
   ]
  },
  {
   "cell_type": "code",
   "execution_count": null,
   "id": "112f5d42-ecc9-4d70-ade5-3393369742cb",
   "metadata": {},
   "outputs": [],
   "source": []
  },
  {
   "cell_type": "code",
   "execution_count": null,
   "id": "e8da675f-54e7-4534-941a-bfb198e388d8",
   "metadata": {},
   "outputs": [],
   "source": []
  }
 ],
 "metadata": {
  "kernelspec": {
   "display_name": "Python 3 (ipykernel)",
   "language": "python",
   "name": "python3"
  },
  "language_info": {
   "codemirror_mode": {
    "name": "ipython",
    "version": 3
   },
   "file_extension": ".py",
   "mimetype": "text/x-python",
   "name": "python",
   "nbconvert_exporter": "python",
   "pygments_lexer": "ipython3",
   "version": "3.12.4"
  }
 },
 "nbformat": 4,
 "nbformat_minor": 5
}
