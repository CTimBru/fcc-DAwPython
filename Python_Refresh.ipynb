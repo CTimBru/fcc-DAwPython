{
 "cells": [
  {
   "cell_type": "code",
   "execution_count": 5,
   "id": "8d75c468-c0db-45af-afa0-cbc51c6e53f6",
   "metadata": {},
   "outputs": [],
   "source": [
    "def add_numbers(x,y):\n",
    "    try:\n",
    "        return x + y\n",
    "    except: print('error')"
   ]
  },
  {
   "cell_type": "code",
   "execution_count": 7,
   "id": "e7fdf465-a854-49bc-b0ac-3ce461a4c974",
   "metadata": {},
   "outputs": [
    {
     "name": "stdout",
     "output_type": "stream",
     "text": [
      "error\n"
     ]
    }
   ],
   "source": [
    "add_numbers('5',11)"
   ]
  },
  {
   "cell_type": "code",
   "execution_count": 9,
   "id": "d884d588-1cd0-47a0-97a6-ce434925c9fc",
   "metadata": {},
   "outputs": [
    {
     "name": "stdout",
     "output_type": "stream",
     "text": [
      "Not Snek.\n"
     ]
    }
   ],
   "source": [
    "language = \"Pythons\"\n",
    "\n",
    "if language == \"Python\":\n",
    "    print('Release the Snakes!')\n",
    "else:\n",
    "    print('Not Snek.')"
   ]
  },
  {
   "cell_type": "code",
   "execution_count": 10,
   "id": "37f0fa12-f86d-4102-a907-7142434a1005",
   "metadata": {},
   "outputs": [
    {
     "name": "stdout",
     "output_type": "stream",
     "text": [
      "Mary\n"
     ]
    }
   ],
   "source": [
    "name = \"Mary\"\n",
    "print(name)"
   ]
  },
  {
   "cell_type": "code",
   "execution_count": 11,
   "id": "8b3eeeff-49d2-4230-89b8-c266acfbf3f1",
   "metadata": {},
   "outputs": [
    {
     "name": "stdout",
     "output_type": "stream",
     "text": [
      "30\n"
     ]
    }
   ],
   "source": [
    "age = 30\n",
    "print(age)"
   ]
  },
  {
   "cell_type": "code",
   "execution_count": 12,
   "id": "492be825-0d05-4825-ba02-8ad3287925cc",
   "metadata": {},
   "outputs": [
    {
     "name": "stdout",
     "output_type": "stream",
     "text": [
      "Mary is 30 years old\n"
     ]
    }
   ],
   "source": [
    "print(name, \"is\", age, \"years old\")"
   ]
  },
  {
   "cell_type": "code",
   "execution_count": 15,
   "id": "2258a34a-07e7-441b-a934-c571622316dc",
   "metadata": {},
   "outputs": [
    {
     "data": {
      "text/plain": [
       "int"
      ]
     },
     "execution_count": 15,
     "metadata": {},
     "output_type": "execute_result"
    }
   ],
   "source": [
    "type(age)"
   ]
  },
  {
   "cell_type": "code",
   "execution_count": 16,
   "id": "5b32dea4-5326-4447-af65-a07836a1b375",
   "metadata": {},
   "outputs": [
    {
     "data": {
      "text/plain": [
       "str"
      ]
     },
     "execution_count": 16,
     "metadata": {},
     "output_type": "execute_result"
    }
   ],
   "source": [
    "type(name)"
   ]
  },
  {
   "cell_type": "code",
   "execution_count": 17,
   "id": "fa1b2112-06ef-4a41-bbb4-c2f4a86e97eb",
   "metadata": {},
   "outputs": [],
   "source": [
    "price = 2.50"
   ]
  },
  {
   "cell_type": "code",
   "execution_count": 18,
   "id": "3d984da0-5378-45e3-ade3-69c1b4eab028",
   "metadata": {},
   "outputs": [
    {
     "data": {
      "text/plain": [
       "2.5"
      ]
     },
     "execution_count": 18,
     "metadata": {},
     "output_type": "execute_result"
    }
   ],
   "source": [
    "price"
   ]
  },
  {
   "cell_type": "code",
   "execution_count": 19,
   "id": "f9fc011a-30e4-4c34-9f6a-ddcdd5f6c2eb",
   "metadata": {},
   "outputs": [
    {
     "data": {
      "text/plain": [
       "float"
      ]
     },
     "execution_count": 19,
     "metadata": {},
     "output_type": "execute_result"
    }
   ],
   "source": [
    "type(price)"
   ]
  },
  {
   "cell_type": "code",
   "execution_count": 20,
   "id": "c9542348-1b78-4c34-8027-cd71338e0b2f",
   "metadata": {},
   "outputs": [
    {
     "data": {
      "text/plain": [
       "0.30000000000000004"
      ]
     },
     "execution_count": 20,
     "metadata": {},
     "output_type": "execute_result"
    }
   ],
   "source": [
    "0.1*3"
   ]
  },
  {
   "cell_type": "code",
   "execution_count": 22,
   "id": "e16a7080-5549-4977-a6c3-65da4a50de8d",
   "metadata": {},
   "outputs": [],
   "source": [
    "from decimal import Decimal as dec"
   ]
  },
  {
   "cell_type": "code",
   "execution_count": 23,
   "id": "bd05b66d-46b4-4f3e-af4f-f01f2934fd4f",
   "metadata": {},
   "outputs": [
    {
     "data": {
      "text/plain": [
       "Decimal('0.3')"
      ]
     },
     "execution_count": 23,
     "metadata": {},
     "output_type": "execute_result"
    }
   ],
   "source": [
    "dec('0.1')*3"
   ]
  },
  {
   "cell_type": "code",
   "execution_count": 25,
   "id": "c5583d29-4aae-4bba-9665-f9c4b67d4224",
   "metadata": {},
   "outputs": [
    {
     "name": "stdout",
     "output_type": "stream",
     "text": [
      "Atta Boy unicode 👋\n"
     ]
    }
   ],
   "source": [
    "print(\"Atta Boy unicode 👋\")"
   ]
  },
  {
   "cell_type": "code",
   "execution_count": 26,
   "id": "77a93fd7-7fdb-4fa8-933a-020e33604dad",
   "metadata": {},
   "outputs": [
    {
     "data": {
      "text/plain": [
       "5"
      ]
     },
     "execution_count": 26,
     "metadata": {},
     "output_type": "execute_result"
    }
   ],
   "source": [
    "len('Hello')"
   ]
  },
  {
   "cell_type": "code",
   "execution_count": 28,
   "id": "26a00f67-992b-4793-b69a-9707a627b7c0",
   "metadata": {},
   "outputs": [
    {
     "name": "stdout",
     "output_type": "stream",
     "text": [
      "\n",
      "Me: What's the best thing about Switzerkand?\n",
      "Friend: Dunno.\n",
      "Me: I don't know, but the flag is a big plus\n",
      "F: 😒\n",
      "\n"
     ]
    }
   ],
   "source": [
    "joke = \"\"\"\n",
    "Me: What's the best thing about Switzerkand?\n",
    "Friend: Dunno.\n",
    "Me: I don't know, but the flag is a big plus\n",
    "F: 😒\n",
    "\"\"\"\n",
    "\n",
    "print(joke)"
   ]
  },
  {
   "cell_type": "code",
   "execution_count": 29,
   "id": "bc3ea402-4f9f-43f8-84dd-e7e61ad6304b",
   "metadata": {},
   "outputs": [
    {
     "data": {
      "text/plain": [
       "True"
      ]
     },
     "execution_count": 29,
     "metadata": {},
     "output_type": "execute_result"
    }
   ],
   "source": [
    "True"
   ]
  },
  {
   "cell_type": "code",
   "execution_count": 30,
   "id": "cca55b53-dd12-4915-9d6d-bc9e5ce0cddf",
   "metadata": {},
   "outputs": [
    {
     "data": {
      "text/plain": [
       "bool"
      ]
     },
     "execution_count": 30,
     "metadata": {},
     "output_type": "execute_result"
    }
   ],
   "source": [
    "type(False)"
   ]
  },
  {
   "cell_type": "code",
   "execution_count": 31,
   "id": "2f594970-d29b-4d35-887f-8a6fa2d2ba19",
   "metadata": {},
   "outputs": [],
   "source": [
    "x = None"
   ]
  },
  {
   "cell_type": "code",
   "execution_count": 32,
   "id": "bd988689-b426-43fc-8d1e-02b90fb2da9a",
   "metadata": {},
   "outputs": [],
   "source": [
    "x"
   ]
  },
  {
   "cell_type": "code",
   "execution_count": 33,
   "id": "ea8ee1df-9de3-48da-863b-49ec6152da1c",
   "metadata": {},
   "outputs": [
    {
     "name": "stdout",
     "output_type": "stream",
     "text": [
      "None\n"
     ]
    }
   ],
   "source": [
    "print(x)"
   ]
  },
  {
   "cell_type": "code",
   "execution_count": 34,
   "id": "4d54d72a-09d6-43f0-95d6-897f8a41b646",
   "metadata": {},
   "outputs": [
    {
     "data": {
      "text/plain": [
       "NoneType"
      ]
     },
     "execution_count": 34,
     "metadata": {},
     "output_type": "execute_result"
    }
   ],
   "source": [
    "type(None)"
   ]
  },
  {
   "cell_type": "code",
   "execution_count": 35,
   "id": "0515ea13-8c22-4705-91bd-55ca313bdc13",
   "metadata": {},
   "outputs": [],
   "source": [
    "age_as_string=\"28\""
   ]
  },
  {
   "cell_type": "code",
   "execution_count": 36,
   "id": "31ba9c90-e43c-4058-bbfc-e9565b02f758",
   "metadata": {},
   "outputs": [
    {
     "data": {
      "text/plain": [
       "str"
      ]
     },
     "execution_count": 36,
     "metadata": {},
     "output_type": "execute_result"
    }
   ],
   "source": [
    "type(age_as_string)"
   ]
  },
  {
   "cell_type": "code",
   "execution_count": 37,
   "id": "78398ce0-2c45-43cd-be15-467267ac198a",
   "metadata": {},
   "outputs": [
    {
     "data": {
      "text/plain": [
       "28"
      ]
     },
     "execution_count": 37,
     "metadata": {},
     "output_type": "execute_result"
    }
   ],
   "source": [
    "int(age_as_string)"
   ]
  },
  {
   "cell_type": "code",
   "execution_count": 38,
   "id": "e8b2078f-c5b5-4a21-8b30-75db834b0d12",
   "metadata": {},
   "outputs": [],
   "source": [
    "age = int(age_as_string)"
   ]
  },
  {
   "cell_type": "code",
   "execution_count": 39,
   "id": "d7f13776-74e2-42a8-aaef-8fcee3c87455",
   "metadata": {},
   "outputs": [
    {
     "data": {
      "text/plain": [
       "int"
      ]
     },
     "execution_count": 39,
     "metadata": {},
     "output_type": "execute_result"
    }
   ],
   "source": [
    "type(age)"
   ]
  },
  {
   "cell_type": "code",
   "execution_count": 40,
   "id": "d39ad93a-9e6a-40cd-a382-3c95e16eb859",
   "metadata": {},
   "outputs": [
    {
     "data": {
      "text/plain": [
       "True"
      ]
     },
     "execution_count": 40,
     "metadata": {},
     "output_type": "execute_result"
    }
   ],
   "source": [
    "type(13) == int"
   ]
  },
  {
   "cell_type": "code",
   "execution_count": 41,
   "id": "2abde752-d76d-401e-a0fe-50a3dc2b9760",
   "metadata": {},
   "outputs": [],
   "source": [
    "def hello():\n",
    "    return 'Hi!'"
   ]
  },
  {
   "cell_type": "code",
   "execution_count": 42,
   "id": "fccc2e36-0293-4ea1-98e7-98bb29a77246",
   "metadata": {},
   "outputs": [
    {
     "data": {
      "text/plain": [
       "'Hi!'"
      ]
     },
     "execution_count": 42,
     "metadata": {},
     "output_type": "execute_result"
    }
   ],
   "source": [
    "hello()"
   ]
  },
  {
   "cell_type": "code",
   "execution_count": 43,
   "id": "a31ce9fb-c979-4985-86ef-02048e6d2e5d",
   "metadata": {},
   "outputs": [],
   "source": [
    "result = hello()"
   ]
  },
  {
   "cell_type": "code",
   "execution_count": 45,
   "id": "dbef0831-2fd7-41b4-9ae3-0888a00e46db",
   "metadata": {},
   "outputs": [
    {
     "data": {
      "text/plain": [
       "'Hi!'"
      ]
     },
     "execution_count": 45,
     "metadata": {},
     "output_type": "execute_result"
    }
   ],
   "source": [
    "result"
   ]
  },
  {
   "cell_type": "code",
   "execution_count": 52,
   "id": "e5bde07e-3d53-4f80-b92c-9ead087a7ca1",
   "metadata": {},
   "outputs": [],
   "source": [
    "def empty():\n",
    "    x = 3\n",
    "\n",
    "def not_empty():\n",
    "    x = 3\n",
    "    return x"
   ]
  },
  {
   "cell_type": "code",
   "execution_count": 53,
   "id": "bf82bec2-83a7-4477-af9f-c8b3b9d549c9",
   "metadata": {},
   "outputs": [],
   "source": [
    "result = empty()"
   ]
  },
  {
   "cell_type": "code",
   "execution_count": 54,
   "id": "efc5485a-2944-4e09-bb7e-3661f06122c6",
   "metadata": {},
   "outputs": [
    {
     "name": "stdout",
     "output_type": "stream",
     "text": [
      "None\n"
     ]
    }
   ],
   "source": [
    "print(result)"
   ]
  },
  {
   "cell_type": "code",
   "execution_count": 55,
   "id": "102736e1-4a0a-4cea-a7b3-d3ef4c4e84ce",
   "metadata": {},
   "outputs": [
    {
     "name": "stdout",
     "output_type": "stream",
     "text": [
      "3\n"
     ]
    }
   ],
   "source": [
    "print(not_empty())"
   ]
  },
  {
   "cell_type": "code",
   "execution_count": 56,
   "id": "d1d6b042-1eb0-4984-98ad-fd577cf73868",
   "metadata": {},
   "outputs": [],
   "source": [
    "def add(x,y):\n",
    "    try:\n",
    "        return x + y\n",
    "    except:\n",
    "        print('error')"
   ]
  },
  {
   "cell_type": "code",
   "execution_count": 57,
   "id": "5a617686-55c5-4176-bb68-eb684c160c03",
   "metadata": {},
   "outputs": [
    {
     "data": {
      "text/plain": [
       "5"
      ]
     },
     "execution_count": 57,
     "metadata": {},
     "output_type": "execute_result"
    }
   ],
   "source": [
    "add(2,3)"
   ]
  },
  {
   "cell_type": "code",
   "execution_count": 58,
   "id": "d22d4d81-edc9-4407-92ac-39ed8704f6b4",
   "metadata": {},
   "outputs": [
    {
     "name": "stdout",
     "output_type": "stream",
     "text": [
      "error\n"
     ]
    }
   ],
   "source": [
    "add(\"2\",3)"
   ]
  },
  {
   "cell_type": "code",
   "execution_count": 59,
   "id": "940817fb-fc7c-45ca-899d-a42365791347",
   "metadata": {},
   "outputs": [],
   "source": [
    "def add(*args):\n",
    "    try:\n",
    "        return sum(args)\n",
    "    except:\n",
    "        print('error')"
   ]
  },
  {
   "cell_type": "code",
   "execution_count": 60,
   "id": "4b1bcd02-d44e-4797-9929-27e3ec356f6b",
   "metadata": {},
   "outputs": [
    {
     "data": {
      "text/plain": [
       "10"
      ]
     },
     "execution_count": 60,
     "metadata": {},
     "output_type": "execute_result"
    }
   ],
   "source": [
    "add(1,1,1,1,1,1,1,1,1,1)"
   ]
  },
  {
   "cell_type": "code",
   "execution_count": 61,
   "id": "f4157380-35df-40df-879e-4d29f4cf3a84",
   "metadata": {},
   "outputs": [
    {
     "name": "stdout",
     "output_type": "stream",
     "text": [
      "error\n"
     ]
    }
   ],
   "source": [
    "add('1',1,1,1,1,11,1,1,1,)"
   ]
  },
  {
   "cell_type": "code",
   "execution_count": 62,
   "id": "eb8baa36-d756-4ed6-8360-245e283d6087",
   "metadata": {},
   "outputs": [
    {
     "data": {
      "text/plain": [
       "1"
      ]
     },
     "execution_count": 62,
     "metadata": {},
     "output_type": "execute_result"
    }
   ],
   "source": [
    "add(1)"
   ]
  },
  {
   "cell_type": "code",
   "execution_count": 63,
   "id": "65b65fbf-8e6d-4fee-9b53-534dabfd12a7",
   "metadata": {},
   "outputs": [
    {
     "data": {
      "text/plain": [
       "6"
      ]
     },
     "execution_count": 63,
     "metadata": {},
     "output_type": "execute_result"
    }
   ],
   "source": [
    "3+3"
   ]
  },
  {
   "cell_type": "code",
   "execution_count": 64,
   "id": "628a62a5-b4ca-4a2b-9d6c-67d6cd5d5533",
   "metadata": {},
   "outputs": [
    {
     "data": {
      "text/plain": [
       "4"
      ]
     },
     "execution_count": 64,
     "metadata": {},
     "output_type": "execute_result"
    }
   ],
   "source": [
    "11%7"
   ]
  },
  {
   "cell_type": "code",
   "execution_count": 65,
   "id": "c5ff4651-3ea8-47de-a489-9e10097c3786",
   "metadata": {},
   "outputs": [
    {
     "data": {
      "text/plain": [
       "16"
      ]
     },
     "execution_count": 65,
     "metadata": {},
     "output_type": "execute_result"
    }
   ],
   "source": [
    "2**4"
   ]
  },
  {
   "cell_type": "code",
   "execution_count": 66,
   "id": "32fb4739-c639-4f59-b356-36d600786a6c",
   "metadata": {},
   "outputs": [
    {
     "data": {
      "text/plain": [
       "23"
      ]
     },
     "execution_count": 66,
     "metadata": {},
     "output_type": "execute_result"
    }
   ],
   "source": [
    "3+4*5"
   ]
  },
  {
   "cell_type": "code",
   "execution_count": 67,
   "id": "2a9e66eb-2203-475d-9ce5-ae1c317660d7",
   "metadata": {},
   "outputs": [
    {
     "data": {
      "text/plain": [
       "35"
      ]
     },
     "execution_count": 67,
     "metadata": {},
     "output_type": "execute_result"
    }
   ],
   "source": [
    "3+4*2**3"
   ]
  },
  {
   "cell_type": "code",
   "execution_count": 68,
   "id": "78aaa0c6-fbd3-40e4-921c-7240693110e1",
   "metadata": {},
   "outputs": [
    {
     "data": {
      "text/plain": [
       "True"
      ]
     },
     "execution_count": 68,
     "metadata": {},
     "output_type": "execute_result"
    }
   ],
   "source": [
    "7>3"
   ]
  },
  {
   "cell_type": "code",
   "execution_count": 69,
   "id": "5f979570-830a-4195-ba62-e0bb783c2d35",
   "metadata": {},
   "outputs": [
    {
     "data": {
      "text/plain": [
       "True"
      ]
     },
     "execution_count": 69,
     "metadata": {},
     "output_type": "execute_result"
    }
   ],
   "source": [
    "8>=8"
   ]
  },
  {
   "cell_type": "code",
   "execution_count": 70,
   "id": "de08c020-0b93-4b41-9a5f-7ac74ccbb1a8",
   "metadata": {},
   "outputs": [
    {
     "ename": "TypeError",
     "evalue": "'>' not supported between instances of 'int' and 'str'",
     "output_type": "error",
     "traceback": [
      "\u001b[1;31m---------------------------------------------------------------------------\u001b[0m",
      "\u001b[1;31mTypeError\u001b[0m                                 Traceback (most recent call last)",
      "Cell \u001b[1;32mIn[70], line 1\u001b[0m\n\u001b[1;32m----> 1\u001b[0m \u001b[38;5;241;43m8\u001b[39;49m\u001b[38;5;241;43m>\u001b[39;49m\u001b[38;5;124;43m'\u001b[39;49m\u001b[38;5;124;43mabc\u001b[39;49m\u001b[38;5;124;43m'\u001b[39;49m\n",
      "\u001b[1;31mTypeError\u001b[0m: '>' not supported between instances of 'int' and 'str'"
     ]
    }
   ],
   "source": [
    "8>'abc'"
   ]
  },
  {
   "cell_type": "code",
   "execution_count": 71,
   "id": "7a5e1f2b-ffaa-4eee-8b8b-338db72db254",
   "metadata": {},
   "outputs": [
    {
     "data": {
      "text/plain": [
       "True"
      ]
     },
     "execution_count": 71,
     "metadata": {},
     "output_type": "execute_result"
    }
   ],
   "source": [
    "True and True"
   ]
  },
  {
   "cell_type": "code",
   "execution_count": 72,
   "id": "18ce0a44-7772-4543-9cfb-9388aa4ea80b",
   "metadata": {},
   "outputs": [
    {
     "data": {
      "text/plain": [
       "True"
      ]
     },
     "execution_count": 72,
     "metadata": {},
     "output_type": "execute_result"
    }
   ],
   "source": [
    "not False"
   ]
  },
  {
   "cell_type": "code",
   "execution_count": 73,
   "id": "e0897847-0d5b-4d11-96a0-c29996a8fb03",
   "metadata": {},
   "outputs": [
    {
     "data": {
      "text/plain": [
       "True"
      ]
     },
     "execution_count": 73,
     "metadata": {},
     "output_type": "execute_result"
    }
   ],
   "source": [
    "False or True"
   ]
  },
  {
   "cell_type": "code",
   "execution_count": 74,
   "id": "05d9a285-25c2-4449-9579-af87fbab7621",
   "metadata": {},
   "outputs": [],
   "source": [
    "days_subscribed = 28"
   ]
  },
  {
   "cell_type": "code",
   "execution_count": 75,
   "id": "6605f790-7a8a-4487-880f-a4cbc55d4162",
   "metadata": {},
   "outputs": [
    {
     "name": "stdout",
     "output_type": "stream",
     "text": [
      "Halfway There\n"
     ]
    }
   ],
   "source": [
    "if days_subscribed >= 30:\n",
    "    print('Loyal Customer')\n",
    "elif days_subscribed >=15:\n",
    "    print('Halfway There')\n",
    "elif days_subscribed >=1:\n",
    "    print('Building Confidence')\n",
    "else:\n",
    "    print('Way Early')"
   ]
  },
  {
   "cell_type": "code",
   "execution_count": 76,
   "id": "b3519bcf-7f87-4574-a440-25821042723a",
   "metadata": {},
   "outputs": [],
   "source": [
    "names = ['Monica', 'Ross', 'Chandler', 'Joey', 'Rachel']"
   ]
  },
  {
   "cell_type": "code",
   "execution_count": 77,
   "id": "191f126a-f0ac-45cf-aa12-d2a097cbdbdf",
   "metadata": {},
   "outputs": [
    {
     "name": "stdout",
     "output_type": "stream",
     "text": [
      "Monica\n",
      "Ross\n",
      "Chandler\n",
      "Joey\n",
      "Rachel\n"
     ]
    }
   ],
   "source": [
    "for name in names:\n",
    "    print(name)"
   ]
  },
  {
   "cell_type": "code",
   "execution_count": 79,
   "id": "a645b107-ec2d-409c-8236-d6573b0d431f",
   "metadata": {},
   "outputs": [
    {
     "name": "stdout",
     "output_type": "stream",
     "text": [
      "Counting...\n",
      "Counting...\n",
      "Counting...\n"
     ]
    }
   ],
   "source": [
    "count=0\n",
    "while count <3:\n",
    "    print('Counting...')\n",
    "    count+=1"
   ]
  },
  {
   "cell_type": "code",
   "execution_count": 80,
   "id": "5aac0eac-cd19-4da2-a3aa-476db5e43537",
   "metadata": {},
   "outputs": [],
   "source": [
    "l = [3,'Hello World',True]"
   ]
  },
  {
   "cell_type": "code",
   "execution_count": 81,
   "id": "7925eea8-df2f-4574-8eaf-08c6a722d7bd",
   "metadata": {},
   "outputs": [
    {
     "data": {
      "text/plain": [
       "3"
      ]
     },
     "execution_count": 81,
     "metadata": {},
     "output_type": "execute_result"
    }
   ],
   "source": [
    "len(l)"
   ]
  },
  {
   "cell_type": "code",
   "execution_count": 82,
   "id": "b5e510db-de22-40c6-a031-f07b2de21fe9",
   "metadata": {},
   "outputs": [
    {
     "data": {
      "text/plain": [
       "3"
      ]
     },
     "execution_count": 82,
     "metadata": {},
     "output_type": "execute_result"
    }
   ],
   "source": [
    "l[0]"
   ]
  },
  {
   "cell_type": "code",
   "execution_count": 83,
   "id": "63be3113-6fda-4252-aeeb-341d4ac327c9",
   "metadata": {},
   "outputs": [
    {
     "data": {
      "text/plain": [
       "'Hello World'"
      ]
     },
     "execution_count": 83,
     "metadata": {},
     "output_type": "execute_result"
    }
   ],
   "source": [
    "l[1]"
   ]
  },
  {
   "cell_type": "code",
   "execution_count": 84,
   "id": "7bfd340d-45a1-4abb-818b-a28fe01bc285",
   "metadata": {},
   "outputs": [
    {
     "data": {
      "text/plain": [
       "True"
      ]
     },
     "execution_count": 84,
     "metadata": {},
     "output_type": "execute_result"
    }
   ],
   "source": [
    "l[-1]"
   ]
  },
  {
   "cell_type": "code",
   "execution_count": 86,
   "id": "acef72fb-161a-45e4-8c7f-44bf1d7c0b2f",
   "metadata": {},
   "outputs": [
    {
     "data": {
      "text/plain": [
       "'Hello World'"
      ]
     },
     "execution_count": 86,
     "metadata": {},
     "output_type": "execute_result"
    }
   ],
   "source": [
    "l[-2]"
   ]
  },
  {
   "cell_type": "code",
   "execution_count": 87,
   "id": "356ee4f2-c51f-4df9-8d9d-eada47405a2f",
   "metadata": {},
   "outputs": [],
   "source": [
    "l.append('Python 🐍 hisssss')"
   ]
  },
  {
   "cell_type": "code",
   "execution_count": 88,
   "id": "1f27f07a-7300-4220-a4a1-c79e6bcdfa41",
   "metadata": {},
   "outputs": [
    {
     "data": {
      "text/plain": [
       "[3, 'Hello World', True, 'Python 🐍 hisssss']"
      ]
     },
     "execution_count": 88,
     "metadata": {},
     "output_type": "execute_result"
    }
   ],
   "source": [
    "l"
   ]
  },
  {
   "cell_type": "code",
   "execution_count": 89,
   "id": "b0e59870-ec88-4fc5-ba11-cd182460650d",
   "metadata": {},
   "outputs": [
    {
     "data": {
      "text/plain": [
       "True"
      ]
     },
     "execution_count": 89,
     "metadata": {},
     "output_type": "execute_result"
    }
   ],
   "source": [
    "'Python 🐍 hisssss' in l"
   ]
  },
  {
   "cell_type": "code",
   "execution_count": 90,
   "id": "e50aea7f-1d5d-4188-b13e-746c7fa6f69a",
   "metadata": {},
   "outputs": [
    {
     "data": {
      "text/plain": [
       "False"
      ]
     },
     "execution_count": 90,
     "metadata": {},
     "output_type": "execute_result"
    }
   ],
   "source": [
    "'Ruby ♦️' in l"
   ]
  },
  {
   "cell_type": "code",
   "execution_count": 91,
   "id": "3dbc0758-1b06-4653-ba62-ebf675957aa9",
   "metadata": {},
   "outputs": [],
   "source": [
    "t = (3,'Hello World', True)"
   ]
  },
  {
   "cell_type": "code",
   "execution_count": 92,
   "id": "7ac7ab05-b43c-4573-9ef3-ad72896db11c",
   "metadata": {},
   "outputs": [
    {
     "data": {
      "text/plain": [
       "3"
      ]
     },
     "execution_count": 92,
     "metadata": {},
     "output_type": "execute_result"
    }
   ],
   "source": [
    "t[0]"
   ]
  },
  {
   "cell_type": "code",
   "execution_count": 93,
   "id": "9061a8dc-c20b-4dba-852f-eecff1e7055d",
   "metadata": {},
   "outputs": [
    {
     "data": {
      "text/plain": [
       "True"
      ]
     },
     "execution_count": 93,
     "metadata": {},
     "output_type": "execute_result"
    }
   ],
   "source": [
    "t[-1]"
   ]
  },
  {
   "cell_type": "code",
   "execution_count": 95,
   "id": "c52a186e-7f16-4221-b68c-34c931558140",
   "metadata": {},
   "outputs": [
    {
     "data": {
      "text/plain": [
       "True"
      ]
     },
     "execution_count": 95,
     "metadata": {},
     "output_type": "execute_result"
    }
   ],
   "source": [
    "'Hello World' in t"
   ]
  },
  {
   "cell_type": "code",
   "execution_count": 96,
   "id": "c4dfabb0-c52f-468b-ae10-0b53c6907a92",
   "metadata": {},
   "outputs": [],
   "source": [
    "user = {\n",
    "    \"name\": \"Mary Smith\",\n",
    "    \"email\": \"mary@smith.com\",\n",
    "    \"age\": 30,\n",
    "    \"subscribed\": True\n",
    "}"
   ]
  },
  {
   "cell_type": "code",
   "execution_count": 97,
   "id": "bedc50ae-3bf5-4c36-9848-965b25e2ce87",
   "metadata": {},
   "outputs": [
    {
     "data": {
      "text/plain": [
       "'mary@smith.com'"
      ]
     },
     "execution_count": 97,
     "metadata": {},
     "output_type": "execute_result"
    }
   ],
   "source": [
    "user['email']"
   ]
  },
  {
   "cell_type": "code",
   "execution_count": 98,
   "id": "5005aff3-f2d5-4296-962a-410fc745972b",
   "metadata": {},
   "outputs": [
    {
     "data": {
      "text/plain": [
       "True"
      ]
     },
     "execution_count": 98,
     "metadata": {},
     "output_type": "execute_result"
    }
   ],
   "source": [
    "'age' in user"
   ]
  },
  {
   "cell_type": "code",
   "execution_count": 99,
   "id": "53078f39-a86d-4aaa-b7b4-8a58dc4e3422",
   "metadata": {},
   "outputs": [
    {
     "data": {
      "text/plain": [
       "False"
      ]
     },
     "execution_count": 99,
     "metadata": {},
     "output_type": "execute_result"
    }
   ],
   "source": [
    "'last_name' in user"
   ]
  },
  {
   "cell_type": "code",
   "execution_count": 100,
   "id": "6a9143b2-7759-4f56-9488-088d7616002b",
   "metadata": {},
   "outputs": [],
   "source": [
    "s = {3,1,3,7,9,1,3,1}"
   ]
  },
  {
   "cell_type": "code",
   "execution_count": 101,
   "id": "5e922e70-b0d5-4078-9b7b-a3b82a806300",
   "metadata": {},
   "outputs": [
    {
     "data": {
      "text/plain": [
       "{1, 3, 7, 9}"
      ]
     },
     "execution_count": 101,
     "metadata": {},
     "output_type": "execute_result"
    }
   ],
   "source": [
    "s"
   ]
  },
  {
   "cell_type": "code",
   "execution_count": 102,
   "id": "bb9ce063-7ad3-4720-8eb4-0e1b85c98242",
   "metadata": {},
   "outputs": [],
   "source": [
    "s.add(10)"
   ]
  },
  {
   "cell_type": "code",
   "execution_count": 103,
   "id": "07e0b1ac-6809-4347-a2d4-6a4aa64babb2",
   "metadata": {},
   "outputs": [
    {
     "data": {
      "text/plain": [
       "1"
      ]
     },
     "execution_count": 103,
     "metadata": {},
     "output_type": "execute_result"
    }
   ],
   "source": [
    "s.pop()"
   ]
  },
  {
   "cell_type": "code",
   "execution_count": 104,
   "id": "4cc11918-8f6e-444e-b188-42f6acb491d0",
   "metadata": {},
   "outputs": [
    {
     "data": {
      "text/plain": [
       "{3, 7, 9, 10}"
      ]
     },
     "execution_count": 104,
     "metadata": {},
     "output_type": "execute_result"
    }
   ],
   "source": [
    "s"
   ]
  },
  {
   "cell_type": "code",
   "execution_count": 105,
   "id": "e807ee8a-9ce7-4e32-9540-d57aab5eade0",
   "metadata": {},
   "outputs": [],
   "source": [
    "l = [3,'Hello World',True]"
   ]
  },
  {
   "cell_type": "code",
   "execution_count": 106,
   "id": "8eabed90-d161-49a6-922f-d5226dd84a15",
   "metadata": {},
   "outputs": [
    {
     "name": "stdout",
     "output_type": "stream",
     "text": [
      "3\n",
      "Hello World\n",
      "True\n"
     ]
    }
   ],
   "source": [
    "for elem in l:\n",
    "    print(elem)"
   ]
  },
  {
   "cell_type": "code",
   "execution_count": 107,
   "id": "2e712c8c-054b-4001-af98-0ad9389c0138",
   "metadata": {},
   "outputs": [
    {
     "name": "stdout",
     "output_type": "stream",
     "text": [
      "Name => Mary Smith\n",
      "Email => mary@smith.com\n",
      "Age => 30\n",
      "Subscribed => True\n"
     ]
    }
   ],
   "source": [
    "for key in user:\n",
    "    print(key.title(),'=>',user[key])"
   ]
  },
  {
   "cell_type": "code",
   "execution_count": 108,
   "id": "e8c677d5-adbe-4bad-abd6-cc858e3cc7e4",
   "metadata": {},
   "outputs": [],
   "source": [
    "import random"
   ]
  },
  {
   "cell_type": "code",
   "execution_count": 109,
   "id": "6733eb00-edaf-4623-9182-c491abc6ac22",
   "metadata": {},
   "outputs": [
    {
     "data": {
      "text/plain": [
       "98"
      ]
     },
     "execution_count": 109,
     "metadata": {},
     "output_type": "execute_result"
    }
   ],
   "source": [
    "random.randint(0,99)"
   ]
  },
  {
   "cell_type": "code",
   "execution_count": 110,
   "id": "68ddec14-1778-4b7a-a7f0-a7e81101d633",
   "metadata": {},
   "outputs": [],
   "source": [
    "age = \"30\""
   ]
  },
  {
   "cell_type": "code",
   "execution_count": 111,
   "id": "64ac0761-5a80-45d7-9875-baa8a37bf9ae",
   "metadata": {},
   "outputs": [
    {
     "ename": "TypeError",
     "evalue": "'>' not supported between instances of 'str' and 'int'",
     "output_type": "error",
     "traceback": [
      "\u001b[1;31m---------------------------------------------------------------------------\u001b[0m",
      "\u001b[1;31mTypeError\u001b[0m                                 Traceback (most recent call last)",
      "Cell \u001b[1;32mIn[111], line 1\u001b[0m\n\u001b[1;32m----> 1\u001b[0m \u001b[38;5;28;01mif\u001b[39;00m \u001b[43mage\u001b[49m\u001b[43m \u001b[49m\u001b[38;5;241;43m>\u001b[39;49m\u001b[43m \u001b[49m\u001b[38;5;241;43m21\u001b[39;49m:\n\u001b[0;32m      2\u001b[0m     \u001b[38;5;28mprint\u001b[39m(\u001b[38;5;124m\"\u001b[39m\u001b[38;5;124mAllowed Enterance\u001b[39m\u001b[38;5;124m\"\u001b[39m)\n",
      "\u001b[1;31mTypeError\u001b[0m: '>' not supported between instances of 'str' and 'int'"
     ]
    }
   ],
   "source": [
    "if age > 21:\n",
    "    print(\"Allowed Enterance\")"
   ]
  },
  {
   "cell_type": "code",
   "execution_count": 112,
   "id": "7fffa38f-f478-4120-ad36-e2cf29ca26a9",
   "metadata": {},
   "outputs": [
    {
     "name": "stdout",
     "output_type": "stream",
     "text": [
      "error\n"
     ]
    }
   ],
   "source": [
    "try:\n",
    "    if age> 21:\n",
    "        print('Allowed Enterance')\n",
    "except:\n",
    "    print('error')"
   ]
  },
  {
   "cell_type": "code",
   "execution_count": 113,
   "id": "a273a40f-bd79-4b10-ae95-1ec7bfd023b6",
   "metadata": {},
   "outputs": [
    {
     "name": "stdout",
     "output_type": "stream",
     "text": [
      "Age is of the wrong type\n"
     ]
    }
   ],
   "source": [
    "try:\n",
    "    if age > 21:\n",
    "        print('Allowed Enterance')\n",
    "except TypeError:\n",
    "    print('Age is of the wrong type')"
   ]
  },
  {
   "cell_type": "code",
   "execution_count": 115,
   "id": "bacca7d7-a2b9-4ebc-a3fd-03c1cde5b95a",
   "metadata": {},
   "outputs": [
    {
     "data": {
      "text/plain": [
       "500000"
      ]
     },
     "execution_count": 115,
     "metadata": {},
     "output_type": "execute_result"
    }
   ],
   "source": [
    "#Ex1\n",
    "revenue_as_string = '500000'\n",
    "revenue_as_int = int(revenue_as_string)\n",
    "revenue_as_int"
   ]
  },
  {
   "cell_type": "code",
   "execution_count": 121,
   "id": "cf6d8e0c-b933-4ff3-be18-6a6a6568f253",
   "metadata": {},
   "outputs": [
    {
     "data": {
      "text/plain": [
       "4"
      ]
     },
     "execution_count": 121,
     "metadata": {},
     "output_type": "execute_result"
    }
   ],
   "source": [
    "def func_f(x,y):\n",
    "    try:\n",
    "        return 2*x+y\n",
    "    except TypeError:\n",
    "        print('Types are not numeric')\n",
    "    except:\n",
    "        print('unknown error')\n",
    "func_f(-3,10)"
   ]
  },
  {
   "cell_type": "code",
   "execution_count": 124,
   "id": "2b7474dc-230d-4267-afd5-25b1f6111230",
   "metadata": {},
   "outputs": [
    {
     "data": {
      "text/plain": [
       "'e'"
      ]
     },
     "execution_count": 124,
     "metadata": {},
     "output_type": "execute_result"
    }
   ],
   "source": [
    "def antipop(string):\n",
    "    try:\n",
    "        return string[-1]\n",
    "    except:\n",
    "        print('error')\n",
    "antipop('dope')"
   ]
  },
  {
   "cell_type": "code",
   "execution_count": 132,
   "id": "cfc067b5-021a-4d7d-933a-f5b4a3411804",
   "metadata": {},
   "outputs": [
    {
     "name": "stdout",
     "output_type": "stream",
     "text": [
      "List has no elements\n"
     ]
    }
   ],
   "source": [
    "def list_length(lis):\n",
    "    try:\n",
    "        if isinstance(lis,list):\n",
    "            if len(lis)>0:\n",
    "                return len(lis)\n",
    "            else:\n",
    "                print('List has no elements')\n",
    "                \n",
    "        else:\n",
    "            print('Not a list')\n",
    "    except:\n",
    "        print('error')\n",
    "values = []\n",
    "list_length(values)"
   ]
  }
 ],
 "metadata": {
  "kernelspec": {
   "display_name": "Python 3 (ipykernel)",
   "language": "python",
   "name": "python3"
  },
  "language_info": {
   "codemirror_mode": {
    "name": "ipython",
    "version": 3
   },
   "file_extension": ".py",
   "mimetype": "text/x-python",
   "name": "python",
   "nbconvert_exporter": "python",
   "pygments_lexer": "ipython3",
   "version": "3.12.4"
  }
 },
 "nbformat": 4,
 "nbformat_minor": 5
}
