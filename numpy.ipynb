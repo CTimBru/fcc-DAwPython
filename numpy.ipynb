{
 "cells": [
  {
   "cell_type": "code",
   "execution_count": 58,
   "id": "e07ac06a-70e4-42b6-9947-935c23f9ca3b",
   "metadata": {},
   "outputs": [],
   "source": [
    "import numpy as np\n",
    "import sys"
   ]
  },
  {
   "cell_type": "markdown",
   "id": "2b53126d-dd1b-4ded-b509-c9cfd10ecbe1",
   "metadata": {},
   "source": [
    "## A basic exploration of numpy, following the FreeCodeCamp tutuorial for Data Analysis\n",
    "[issue]https://www.freecodecamp.org/learn/data-analysis-with-python"
   ]
  },
  {
   "cell_type": "markdown",
   "id": "a394951b-3dfd-4d0f-baae-92e14f5e145a",
   "metadata": {},
   "source": [
    "How many bits to store a number up to 120?\n",
    "Critically important for processing data, less so for storage (but still has an impact)."
   ]
  },
  {
   "cell_type": "code",
   "execution_count": 3,
   "id": "47b0ab17-68fb-4bb5-810d-8231c9982c4b",
   "metadata": {},
   "outputs": [
    {
     "data": {
      "text/plain": [
       "128"
      ]
     },
     "execution_count": 3,
     "metadata": {},
     "output_type": "execute_result"
    }
   ],
   "source": [
    "2**7"
   ]
  },
  {
   "cell_type": "markdown",
   "id": "070a811e-c614-446e-9f1b-5923860bcb8e",
   "metadata": {},
   "source": [
    "Numpy will allow us to explicitly select number of bits an integer requires. Python is very high level & object orientated, so even a simple integer will take up 20 bytes (20*8bits)"
   ]
  },
  {
   "cell_type": "code",
   "execution_count": 5,
   "id": "adef8fca-8f31-4e31-b329-3e55fd0ea5cf",
   "metadata": {},
   "outputs": [],
   "source": [
    "x=5"
   ]
  },
  {
   "cell_type": "code",
   "execution_count": 8,
   "id": "377aa05f-c82b-4508-8a34-8069bd8c7d01",
   "metadata": {},
   "outputs": [
    {
     "data": {
      "text/plain": [
       "numpy.int8"
      ]
     },
     "execution_count": 8,
     "metadata": {},
     "output_type": "execute_result"
    }
   ],
   "source": [
    "np.int8"
   ]
  },
  {
   "cell_type": "markdown",
   "id": "6c8373b8-a8f0-4278-8a54-0c00c422ca18",
   "metadata": {},
   "source": [
    "We can select 8,16,32,64 with numpy.\n",
    "List, arrays etc. in python are not built for efficient computing. Python won't place array numbers for instances in none-contiguous positions. Additionally, cpus may not be strong at array computations.\n",
    "With numpy taking control, numbers will be now int8 long, stored together in the memory, and very fast computationally.\n",
    "The larger the dataset, the more important numpy becomes."
   ]
  },
  {
   "cell_type": "code",
   "execution_count": 11,
   "id": "10da5c1e-a364-4c32-8d43-a08abba1098d",
   "metadata": {},
   "outputs": [
    {
     "name": "stdout",
     "output_type": "stream",
     "text": [
      "[['a' 'b']\n",
      " ['d' 'e']\n",
      " ['g' 'h']]\n"
     ]
    }
   ],
   "source": [
    "A = np.array([\n",
    "    ['a', 'b', 'c'],\n",
    "    ['d', 'e', 'f'],\n",
    "    ['g', 'h', 'i']\n",
    "])\n",
    "\n",
    "print(A[:,:2])"
   ]
  },
  {
   "cell_type": "code",
   "execution_count": 22,
   "id": "60f07bf2-ab9e-444c-919f-b3db11948fe4",
   "metadata": {},
   "outputs": [
    {
     "name": "stdout",
     "output_type": "stream",
     "text": [
      "e\n"
     ]
    }
   ],
   "source": [
    "print(A[(1,1)])"
   ]
  },
  {
   "cell_type": "code",
   "execution_count": 24,
   "id": "a21a99f0-c4da-4c74-a7e3-9ebbfac1be13",
   "metadata": {},
   "outputs": [
    {
     "name": "stdout",
     "output_type": "stream",
     "text": [
      "[['d' 'e' 'f']\n",
      " ['a' 'b' 'c']]\n"
     ]
    }
   ],
   "source": [
    "print(A[[1,0]])"
   ]
  },
  {
   "cell_type": "code",
   "execution_count": 25,
   "id": "aa2844af-dfa9-4d6e-baa9-1832ac976bee",
   "metadata": {},
   "outputs": [
    {
     "data": {
      "text/plain": [
       "dtype('<U1')"
      ]
     },
     "execution_count": 25,
     "metadata": {},
     "output_type": "execute_result"
    }
   ],
   "source": [
    "A.dtype"
   ]
  },
  {
   "cell_type": "markdown",
   "id": "53cd2cda-6979-4b18-90fc-1cf68bd9fb9f",
   "metadata": {},
   "source": [
    "Numpy is usually used for numeric processing. We can create multi-dimensional arrays efficiently.  \n",
    "These martrices will be processed -very- efficiently compared to python"
   ]
  },
  {
   "cell_type": "code",
   "execution_count": 26,
   "id": "d0ae8148-c3a4-46c1-a921-864ff4c937dc",
   "metadata": {},
   "outputs": [],
   "source": [
    "B = np.array([\n",
    "    [\n",
    "        [12,11,10],\n",
    "        [9,8,7]\n",
    "    ],\n",
    "    [\n",
    "        [6,5,4],\n",
    "        [3,2,1]\n",
    "    ]\n",
    "])"
   ]
  },
  {
   "cell_type": "code",
   "execution_count": 27,
   "id": "92ac55e8-6f70-42ce-8260-fd3b098034be",
   "metadata": {},
   "outputs": [
    {
     "data": {
      "text/plain": [
       "array([[[12, 11, 10],\n",
       "        [ 9,  8,  7]],\n",
       "\n",
       "       [[ 6,  5,  4],\n",
       "        [ 3,  2,  1]]])"
      ]
     },
     "execution_count": 27,
     "metadata": {},
     "output_type": "execute_result"
    }
   ],
   "source": [
    "B"
   ]
  },
  {
   "cell_type": "code",
   "execution_count": 28,
   "id": "c3efad0a-9386-44c5-aa95-ee4a9f4ab166",
   "metadata": {},
   "outputs": [
    {
     "data": {
      "text/plain": [
       "(2, 2, 3)"
      ]
     },
     "execution_count": 28,
     "metadata": {},
     "output_type": "execute_result"
    }
   ],
   "source": [
    "B.shape"
   ]
  },
  {
   "cell_type": "code",
   "execution_count": 30,
   "id": "bbfb8baf-937a-4371-aef8-a6c1b7691216",
   "metadata": {},
   "outputs": [
    {
     "data": {
      "text/plain": [
       "3"
      ]
     },
     "execution_count": 30,
     "metadata": {},
     "output_type": "execute_result"
    }
   ],
   "source": [
    "B.ndim"
   ]
  },
  {
   "cell_type": "code",
   "execution_count": 31,
   "id": "bfdd01e6-5c65-4abc-8a4d-843f545e2bb4",
   "metadata": {},
   "outputs": [
    {
     "data": {
      "text/plain": [
       "12"
      ]
     },
     "execution_count": 31,
     "metadata": {},
     "output_type": "execute_result"
    }
   ],
   "source": [
    "B.size"
   ]
  },
  {
   "cell_type": "markdown",
   "id": "3c7e09f5-6c59-470e-89c3-58765a917ea8",
   "metadata": {},
   "source": [
    "Dimensions must match. If incorrect, objects will be made instead.  \n",
    "### Splicing Matricies"
   ]
  },
  {
   "cell_type": "code",
   "execution_count": 36,
   "id": "dd3ffc11-11d2-4edb-ae39-50d0fbb3feb7",
   "metadata": {},
   "outputs": [
    {
     "data": {
      "text/plain": [
       "array(['d', 'e', 'f'], dtype='<U1')"
      ]
     },
     "execution_count": 36,
     "metadata": {},
     "output_type": "execute_result"
    }
   ],
   "source": [
    "A[1]"
   ]
  },
  {
   "cell_type": "markdown",
   "id": "557c6bd3-e27d-474d-aa2c-fc82b00ac784",
   "metadata": {},
   "source": [
    "Displays first row of a 2D Array."
   ]
  },
  {
   "cell_type": "code",
   "execution_count": 37,
   "id": "5b4c0190-1309-490e-b73e-f7329851c093",
   "metadata": {},
   "outputs": [
    {
     "data": {
      "text/plain": [
       "'d'"
      ]
     },
     "execution_count": 37,
     "metadata": {},
     "output_type": "execute_result"
    }
   ],
   "source": [
    "A[1][0]"
   ]
  },
  {
   "cell_type": "markdown",
   "id": "3852cc33-57f6-436a-a8f6-1a4741fd5d33",
   "metadata": {},
   "source": [
    "Explicitly select first element of 2nd row."
   ]
  },
  {
   "cell_type": "code",
   "execution_count": 39,
   "id": "9024bfca-f3b5-4432-ab4d-459d0e4f7611",
   "metadata": {},
   "outputs": [
    {
     "data": {
      "text/plain": [
       "'d'"
      ]
     },
     "execution_count": 39,
     "metadata": {},
     "output_type": "execute_result"
    }
   ],
   "source": [
    "A[1,0]"
   ]
  },
  {
   "cell_type": "markdown",
   "id": "eb4e3e6a-088f-44df-9908-067224d6af32",
   "metadata": {},
   "source": [
    "Multidemsional selection /w numpy.  \n",
    "Sytax selects dim1, dim2, dim3, dim4..."
   ]
  },
  {
   "cell_type": "code",
   "execution_count": 40,
   "id": "04ab6c01-dffe-4625-b266-ea50636c1523",
   "metadata": {},
   "outputs": [
    {
     "data": {
      "text/plain": [
       "12"
      ]
     },
     "execution_count": 40,
     "metadata": {},
     "output_type": "execute_result"
    }
   ],
   "source": [
    "B[0,0,0]"
   ]
  },
  {
   "cell_type": "markdown",
   "id": "893d24db-5118-42a4-849f-85ca1ae0ff0e",
   "metadata": {},
   "source": [
    "Allows slicing"
   ]
  },
  {
   "cell_type": "code",
   "execution_count": 43,
   "id": "62b41bd4-dada-4625-97fa-6cca0eaf7dc1",
   "metadata": {},
   "outputs": [
    {
     "data": {
      "text/plain": [
       "array([[[12, 11, 10],\n",
       "        [ 9,  8,  7]]])"
      ]
     },
     "execution_count": 43,
     "metadata": {},
     "output_type": "execute_result"
    }
   ],
   "source": [
    "B[0:1]"
   ]
  },
  {
   "cell_type": "code",
   "execution_count": 46,
   "id": "7bc88fbc-02fa-4c86-acf7-819ab7fe7284",
   "metadata": {},
   "outputs": [
    {
     "data": {
      "text/plain": [
       "array([[[12, 11, 10]],\n",
       "\n",
       "       [[ 6,  5,  4]]])"
      ]
     },
     "execution_count": 46,
     "metadata": {},
     "output_type": "execute_result"
    }
   ],
   "source": [
    "B[:,0:1]"
   ]
  },
  {
   "cell_type": "code",
   "execution_count": 52,
   "id": "f128c0d4-58be-4f27-9e3d-a806dfede1d1",
   "metadata": {},
   "outputs": [
    {
     "data": {
      "text/plain": [
       "array([[[10],\n",
       "        [ 7]],\n",
       "\n",
       "       [[ 4],\n",
       "        [ 1]]])"
      ]
     },
     "execution_count": 52,
     "metadata": {},
     "output_type": "execute_result"
    }
   ],
   "source": [
    "B[:,:,2:]"
   ]
  },
  {
   "cell_type": "markdown",
   "id": "4f0971de-9666-43ce-ac5b-4b6362eebb4a",
   "metadata": {},
   "source": [
    "Last example selects from each matrix, from each array, the 3rd digit and beyond.  \n",
    "Additionally we can modify arrays utilizing a similar syntax."
   ]
  },
  {
   "cell_type": "code",
   "execution_count": 61,
   "id": "9665893e-fda0-4d8f-826c-6fc0d78a21de",
   "metadata": {},
   "outputs": [],
   "source": [
    "A[2] = np.array(['j','k','l'])"
   ]
  },
  {
   "cell_type": "code",
   "execution_count": 60,
   "id": "3d584c57-2bab-4af6-a145-4fcd3f20b0e1",
   "metadata": {},
   "outputs": [
    {
     "data": {
      "text/plain": [
       "array([['a', 'b', 'c'],\n",
       "       ['d', 'e', 'f'],\n",
       "       ['j', 'k', 'l']], dtype='<U1')"
      ]
     },
     "execution_count": 60,
     "metadata": {},
     "output_type": "execute_result"
    }
   ],
   "source": [
    "A"
   ]
  },
  {
   "cell_type": "code",
   "execution_count": 62,
   "id": "3d0ad5b3-e965-4798-8a40-b56f96f95094",
   "metadata": {},
   "outputs": [],
   "source": [
    "A[2] = 'z'"
   ]
  },
  {
   "cell_type": "code",
   "execution_count": 63,
   "id": "e02b445a-8ae2-4447-86f2-4cf5ba7531ef",
   "metadata": {},
   "outputs": [
    {
     "data": {
      "text/plain": [
       "array([['a', 'b', 'c'],\n",
       "       ['d', 'e', 'f'],\n",
       "       ['z', 'z', 'z']], dtype='<U1')"
      ]
     },
     "execution_count": 63,
     "metadata": {},
     "output_type": "execute_result"
    }
   ],
   "source": [
    "A"
   ]
  },
  {
   "cell_type": "code",
   "execution_count": 64,
   "id": "9b27c727-e8ae-442f-93dc-835fd6f5884a",
   "metadata": {},
   "outputs": [
    {
     "data": {
      "text/plain": [
       "78"
      ]
     },
     "execution_count": 64,
     "metadata": {},
     "output_type": "execute_result"
    }
   ],
   "source": [
    "B.sum()"
   ]
  },
  {
   "cell_type": "code",
   "execution_count": 65,
   "id": "73fde451-6d26-4358-88da-f55e4d18260d",
   "metadata": {},
   "outputs": [
    {
     "data": {
      "text/plain": [
       "6.5"
      ]
     },
     "execution_count": 65,
     "metadata": {},
     "output_type": "execute_result"
    }
   ],
   "source": [
    "B.mean()"
   ]
  },
  {
   "cell_type": "code",
   "execution_count": 66,
   "id": "2b185e4d-a9b2-41e7-a3ea-98424aa5b811",
   "metadata": {},
   "outputs": [
    {
     "data": {
      "text/plain": [
       "3.452052529534663"
      ]
     },
     "execution_count": 66,
     "metadata": {},
     "output_type": "execute_result"
    }
   ],
   "source": [
    "B.std()"
   ]
  },
  {
   "cell_type": "code",
   "execution_count": 67,
   "id": "71b9c508-9d9f-4704-8cbe-4178bf1a5051",
   "metadata": {},
   "outputs": [
    {
     "data": {
      "text/plain": [
       "11.916666666666666"
      ]
     },
     "execution_count": 67,
     "metadata": {},
     "output_type": "execute_result"
    }
   ],
   "source": [
    "B.var()"
   ]
  },
  {
   "cell_type": "code",
   "execution_count": 70,
   "id": "e8fe20ed-7057-4b6d-8514-6d10519d2b0e",
   "metadata": {},
   "outputs": [
    {
     "data": {
      "text/plain": [
       "array([[[12, 11, 10],\n",
       "        [ 9,  8,  7]],\n",
       "\n",
       "       [[ 6,  5,  4],\n",
       "        [ 3,  2,  1]]])"
      ]
     },
     "execution_count": 70,
     "metadata": {},
     "output_type": "execute_result"
    }
   ],
   "source": [
    "B"
   ]
  },
  {
   "cell_type": "code",
   "execution_count": 72,
   "id": "8a5ad16c-13dd-4303-852c-a15f629160cf",
   "metadata": {},
   "outputs": [
    {
     "data": {
      "text/plain": [
       "array([[18, 16, 14],\n",
       "       [12, 10,  8]])"
      ]
     },
     "execution_count": 72,
     "metadata": {},
     "output_type": "execute_result"
    }
   ],
   "source": [
    "B.sum(axis=0)"
   ]
  },
  {
   "cell_type": "markdown",
   "id": "32df92d1-afe4-410e-ae6a-06b548cde6dc",
   "metadata": {},
   "source": [
    "With this 3d array, adds first element in each 2d array together.  \n",
    "i.e. 12+6=18, 9+3=12"
   ]
  },
  {
   "cell_type": "code",
   "execution_count": 74,
   "id": "7aaedebd-0df7-4a62-84b6-b0e082655133",
   "metadata": {},
   "outputs": [
    {
     "data": {
      "text/plain": [
       "array([[21, 19, 17],\n",
       "       [ 9,  7,  5]])"
      ]
     },
     "execution_count": 74,
     "metadata": {},
     "output_type": "execute_result"
    }
   ],
   "source": [
    "B.sum(axis=1)"
   ]
  },
  {
   "cell_type": "code",
   "execution_count": 75,
   "id": "a84d98c6-4ef8-4305-a0d1-78319762cee0",
   "metadata": {},
   "outputs": [
    {
     "data": {
      "text/plain": [
       "array([[33, 24],\n",
       "       [15,  6]])"
      ]
     },
     "execution_count": 75,
     "metadata": {},
     "output_type": "execute_result"
    }
   ],
   "source": [
    "B.sum(axis=2)"
   ]
  },
  {
   "cell_type": "markdown",
   "id": "8da6ebea-939f-40be-8d4b-09a90607d939",
   "metadata": {},
   "source": [
    "All of the stats commands also accept axes as inputs"
   ]
  },
  {
   "cell_type": "markdown",
   "id": "29562b78-1b91-45ab-8ea6-feb742d567ab",
   "metadata": {},
   "source": [
    "### Numpy Operations"
   ]
  },
  {
   "cell_type": "code",
   "execution_count": 4,
   "id": "7203268c-3c7c-4e16-99d1-d91fe78a7707",
   "metadata": {},
   "outputs": [],
   "source": [
    "C = np.arange(4)"
   ]
  },
  {
   "cell_type": "code",
   "execution_count": 5,
   "id": "0ab439da-0bb9-4a7d-ab31-237c39428727",
   "metadata": {},
   "outputs": [
    {
     "data": {
      "text/plain": [
       "array([0, 1, 2, 3])"
      ]
     },
     "execution_count": 5,
     "metadata": {},
     "output_type": "execute_result"
    }
   ],
   "source": [
    "C"
   ]
  },
  {
   "cell_type": "code",
   "execution_count": 6,
   "id": "116b82f1-7d90-4211-bc98-427d699a012a",
   "metadata": {},
   "outputs": [
    {
     "data": {
      "text/plain": [
       "array([10, 11, 12, 13])"
      ]
     },
     "execution_count": 6,
     "metadata": {},
     "output_type": "execute_result"
    }
   ],
   "source": [
    "C+10"
   ]
  },
  {
   "cell_type": "code",
   "execution_count": 7,
   "id": "528f44a0-f1d6-4f3c-bab3-5104d48fb253",
   "metadata": {},
   "outputs": [
    {
     "data": {
      "text/plain": [
       "array([ 0, 10, 20, 30])"
      ]
     },
     "execution_count": 7,
     "metadata": {},
     "output_type": "execute_result"
    }
   ],
   "source": [
    "C*10"
   ]
  },
  {
   "cell_type": "code",
   "execution_count": 9,
   "id": "f143a1d5-9ad3-4a47-99e4-69682b1000f7",
   "metadata": {},
   "outputs": [],
   "source": [
    "C+=100"
   ]
  },
  {
   "cell_type": "code",
   "execution_count": 10,
   "id": "e9c31b27-39de-4711-b4e0-aacb0d142790",
   "metadata": {},
   "outputs": [
    {
     "data": {
      "text/plain": [
       "array([200, 201, 202, 203])"
      ]
     },
     "execution_count": 10,
     "metadata": {},
     "output_type": "execute_result"
    }
   ],
   "source": [
    "C"
   ]
  },
  {
   "cell_type": "code",
   "execution_count": 11,
   "id": "3d8575ad-a107-4475-9094-786b16657d54",
   "metadata": {},
   "outputs": [],
   "source": [
    "L = [0,1,2,3]"
   ]
  },
  {
   "cell_type": "code",
   "execution_count": 14,
   "id": "2a3cb32a-d6fa-47ad-92a9-efd99d159fb6",
   "metadata": {},
   "outputs": [
    {
     "data": {
      "text/plain": [
       "[0, 10, 20, 30]"
      ]
     },
     "execution_count": 14,
     "metadata": {},
     "output_type": "execute_result"
    }
   ],
   "source": [
    "[i * 10 for i in L]"
   ]
  },
  {
   "cell_type": "code",
   "execution_count": 16,
   "id": "35a5fd21-669f-4b77-b24d-a18c5915e54b",
   "metadata": {},
   "outputs": [],
   "source": [
    "C=np.arange(4)"
   ]
  },
  {
   "cell_type": "code",
   "execution_count": 17,
   "id": "561cd539-9a12-4196-9713-70dcd5cd91ea",
   "metadata": {},
   "outputs": [
    {
     "data": {
      "text/plain": [
       "array([0, 1, 2, 3])"
      ]
     },
     "execution_count": 17,
     "metadata": {},
     "output_type": "execute_result"
    }
   ],
   "source": [
    "C"
   ]
  },
  {
   "cell_type": "code",
   "execution_count": 18,
   "id": "ef0dee7c-8194-405e-a847-ea45f19bf836",
   "metadata": {},
   "outputs": [],
   "source": [
    "D=np.array([10,10,10,10])"
   ]
  },
  {
   "cell_type": "code",
   "execution_count": 19,
   "id": "063c42b1-f32b-41bc-a105-7ad284a40084",
   "metadata": {},
   "outputs": [
    {
     "data": {
      "text/plain": [
       "array([10, 11, 12, 13])"
      ]
     },
     "execution_count": 19,
     "metadata": {},
     "output_type": "execute_result"
    }
   ],
   "source": [
    "C+D"
   ]
  },
  {
   "cell_type": "code",
   "execution_count": 20,
   "id": "4b92161e-9f60-4177-b760-1c485a22750e",
   "metadata": {},
   "outputs": [
    {
     "data": {
      "text/plain": [
       "array([ 0, 10, 20, 30])"
      ]
     },
     "execution_count": 20,
     "metadata": {},
     "output_type": "execute_result"
    }
   ],
   "source": [
    "C*D"
   ]
  },
  {
   "cell_type": "markdown",
   "id": "9b4f2019-5200-4475-91ef-70e6623cd715",
   "metadata": {},
   "source": [
    "Numpy is an immutable first library, i.e. C|D will not update unless set to a new value."
   ]
  },
  {
   "cell_type": "markdown",
   "id": "29f93484-bc43-4e25-a6fa-068a4b885c0c",
   "metadata": {},
   "source": [
    "### Boolean Arrays"
   ]
  },
  {
   "cell_type": "code",
   "execution_count": 21,
   "id": "4525f3fe-fad9-43e2-a9bd-f46cbc40abb6",
   "metadata": {},
   "outputs": [],
   "source": [
    "E = np.arange(4)"
   ]
  },
  {
   "cell_type": "code",
   "execution_count": 23,
   "id": "8cd40d8e-80a0-41ec-b7da-d8f0f3327ac0",
   "metadata": {},
   "outputs": [
    {
     "data": {
      "text/plain": [
       "array([0, 1, 2, 3])"
      ]
     },
     "execution_count": 23,
     "metadata": {},
     "output_type": "execute_result"
    }
   ],
   "source": [
    "E"
   ]
  },
  {
   "cell_type": "code",
   "execution_count": 24,
   "id": "16039673-a61b-4db8-8670-54b61672a392",
   "metadata": {},
   "outputs": [
    {
     "data": {
      "text/plain": [
       "array([0, 3])"
      ]
     },
     "execution_count": 24,
     "metadata": {},
     "output_type": "execute_result"
    }
   ],
   "source": [
    "E[[0,-1]]"
   ]
  },
  {
   "cell_type": "code",
   "execution_count": 25,
   "id": "e4bfdc5b-f8ac-4a63-a743-64ede4ac1e51",
   "metadata": {},
   "outputs": [
    {
     "data": {
      "text/plain": [
       "array([1, 2])"
      ]
     },
     "execution_count": 25,
     "metadata": {},
     "output_type": "execute_result"
    }
   ],
   "source": [
    "E[[1,-2]]"
   ]
  },
  {
   "cell_type": "code",
   "execution_count": 26,
   "id": "6a8a09cb-0599-4ac4-8f59-346cba8e37c4",
   "metadata": {},
   "outputs": [
    {
     "data": {
      "text/plain": [
       "array([0, 3])"
      ]
     },
     "execution_count": 26,
     "metadata": {},
     "output_type": "execute_result"
    }
   ],
   "source": [
    "E[[True,False,False,True]]"
   ]
  },
  {
   "cell_type": "markdown",
   "id": "147ceb32-efe7-47b6-9120-5174133ce7d2",
   "metadata": {},
   "source": [
    "These arrays are the result of broadcasting boolean operations"
   ]
  },
  {
   "cell_type": "code",
   "execution_count": 27,
   "id": "47f226ea-ecb4-400e-b4f7-8cec83293834",
   "metadata": {},
   "outputs": [
    {
     "data": {
      "text/plain": [
       "array([False, False,  True,  True])"
      ]
     },
     "execution_count": 27,
     "metadata": {},
     "output_type": "execute_result"
    }
   ],
   "source": [
    "E >= 2"
   ]
  },
  {
   "cell_type": "code",
   "execution_count": 28,
   "id": "37d48b9d-1d29-40ee-b97e-b2e350a40a54",
   "metadata": {},
   "outputs": [
    {
     "data": {
      "text/plain": [
       "array([2, 3])"
      ]
     },
     "execution_count": 28,
     "metadata": {},
     "output_type": "execute_result"
    }
   ],
   "source": [
    "E[E>=2]"
   ]
  },
  {
   "cell_type": "markdown",
   "id": "1a0e7fd2-b36b-4fde-8d53-854e48244a8c",
   "metadata": {},
   "source": [
    "Above: Use this boolean array to construct a list of values in an array that match the statement"
   ]
  },
  {
   "cell_type": "code",
   "execution_count": 30,
   "id": "056075a9-6dc2-44a8-a0c6-90b50a690b59",
   "metadata": {},
   "outputs": [
    {
     "data": {
      "text/plain": [
       "1.5"
      ]
     },
     "execution_count": 30,
     "metadata": {},
     "output_type": "execute_result"
    }
   ],
   "source": [
    "E.mean()"
   ]
  },
  {
   "cell_type": "code",
   "execution_count": 31,
   "id": "73990564-ff76-44a9-b2bc-1860e58e40c5",
   "metadata": {},
   "outputs": [
    {
     "data": {
      "text/plain": [
       "array([2, 3])"
      ]
     },
     "execution_count": 31,
     "metadata": {},
     "output_type": "execute_result"
    }
   ],
   "source": [
    "E[E>E.mean()]"
   ]
  },
  {
   "cell_type": "code",
   "execution_count": 32,
   "id": "4b370a92-850f-470f-80a0-ca0d858d36b2",
   "metadata": {},
   "outputs": [
    {
     "data": {
      "text/plain": [
       "array([0, 1])"
      ]
     },
     "execution_count": 32,
     "metadata": {},
     "output_type": "execute_result"
    }
   ],
   "source": [
    "E[~(E>E.mean())]"
   ]
  },
  {
   "cell_type": "markdown",
   "id": "f56d63c6-4ca7-4fd7-96f0-a3e4d4f82f67",
   "metadata": {},
   "source": [
    "~: NOT"
   ]
  },
  {
   "cell_type": "code",
   "execution_count": 34,
   "id": "d5b24960-2e17-4136-88d0-d4b5385211be",
   "metadata": {},
   "outputs": [
    {
     "data": {
      "text/plain": [
       "array([0, 1])"
      ]
     },
     "execution_count": 34,
     "metadata": {},
     "output_type": "execute_result"
    }
   ],
   "source": [
    "E[(E ==0) | (E==1)]"
   ]
  },
  {
   "cell_type": "markdown",
   "id": "dedd4173-19c2-4a58-8cf9-798002acfe18",
   "metadata": {},
   "source": [
    "|: OR"
   ]
  },
  {
   "cell_type": "code",
   "execution_count": 38,
   "id": "7591c905-7632-47d1-818d-c8f7dc9ef10b",
   "metadata": {},
   "outputs": [
    {
     "data": {
      "text/plain": [
       "array([0, 2])"
      ]
     },
     "execution_count": 38,
     "metadata": {},
     "output_type": "execute_result"
    }
   ],
   "source": [
    "E[(E <= 2)&(E%2==0)]"
   ]
  },
  {
   "cell_type": "markdown",
   "id": "e5fd7ed5-bfcf-4d4e-9362-3ae5b0f9f4b8",
   "metadata": {},
   "source": [
    "&: AND  \n",
    "%: REMAINDER of x/y"
   ]
  },
  {
   "cell_type": "code",
   "execution_count": 40,
   "id": "cfad35de-d5d9-4907-8e83-d73101473a8c",
   "metadata": {},
   "outputs": [],
   "source": [
    "F = np.random.randint(100,size=(3,3))"
   ]
  },
  {
   "cell_type": "code",
   "execution_count": 41,
   "id": "cd6a7f13-c961-4b25-9cba-b3b2b0d67367",
   "metadata": {},
   "outputs": [
    {
     "data": {
      "text/plain": [
       "array([[36, 48, 86],\n",
       "       [17, 27,  7],\n",
       "       [35, 82, 53]])"
      ]
     },
     "execution_count": 41,
     "metadata": {},
     "output_type": "execute_result"
    }
   ],
   "source": [
    "F"
   ]
  },
  {
   "cell_type": "code",
   "execution_count": 42,
   "id": "df5e7fbf-d351-45e0-b86b-ed6546ced6eb",
   "metadata": {},
   "outputs": [
    {
     "data": {
      "text/plain": [
       "array([36, 86, 27, 35, 53])"
      ]
     },
     "execution_count": 42,
     "metadata": {},
     "output_type": "execute_result"
    }
   ],
   "source": [
    "F[np.array([\n",
    "    [True,False,True],\n",
    "    [False,True,False],\n",
    "    [True,False,True]\n",
    "])]"
   ]
  },
  {
   "cell_type": "code",
   "execution_count": 43,
   "id": "54ca888c-42fb-4371-842a-6cf58fd793c9",
   "metadata": {},
   "outputs": [
    {
     "data": {
      "text/plain": [
       "array([[ True,  True,  True],\n",
       "       [False, False, False],\n",
       "       [ True,  True,  True]])"
      ]
     },
     "execution_count": 43,
     "metadata": {},
     "output_type": "execute_result"
    }
   ],
   "source": [
    "F > 30"
   ]
  },
  {
   "cell_type": "code",
   "execution_count": 44,
   "id": "0ac4c2c7-c4ee-4ce4-b99b-68e3005bd054",
   "metadata": {},
   "outputs": [
    {
     "data": {
      "text/plain": [
       "array([36, 48, 86, 35, 82, 53])"
      ]
     },
     "execution_count": 44,
     "metadata": {},
     "output_type": "execute_result"
    }
   ],
   "source": [
    "F[F>30]"
   ]
  },
  {
   "cell_type": "markdown",
   "id": "1d6bb321-200b-49f9-8a92-8f10af1ac190",
   "metadata": {},
   "source": [
    "### Linear Algebra"
   ]
  },
  {
   "cell_type": "code",
   "execution_count": 46,
   "id": "3ca6435f-b05f-44a8-8955-dd8de48d5ed9",
   "metadata": {},
   "outputs": [],
   "source": [
    "G = np.array([\n",
    "    [1,2,3],\n",
    "    [4,5,6],\n",
    "    [7,8,9]\n",
    "])"
   ]
  },
  {
   "cell_type": "code",
   "execution_count": 47,
   "id": "866623e7-ef54-4680-9618-d4e0781787c2",
   "metadata": {},
   "outputs": [],
   "source": [
    "H=np.array([\n",
    "    [6,5],\n",
    "    [4,3],\n",
    "    [2,1]\n",
    "])"
   ]
  },
  {
   "cell_type": "code",
   "execution_count": 48,
   "id": "5671a709-c251-4103-98cd-269b9cfbc296",
   "metadata": {},
   "outputs": [
    {
     "data": {
      "text/plain": [
       "array([[20, 14],\n",
       "       [56, 41],\n",
       "       [92, 68]])"
      ]
     },
     "execution_count": 48,
     "metadata": {},
     "output_type": "execute_result"
    }
   ],
   "source": [
    "G.dot(H)"
   ]
  },
  {
   "cell_type": "code",
   "execution_count": 50,
   "id": "499c04da-9b25-4abb-baec-124b9319d262",
   "metadata": {},
   "outputs": [
    {
     "data": {
      "text/plain": [
       "array([[20, 14],\n",
       "       [56, 41],\n",
       "       [92, 68]])"
      ]
     },
     "execution_count": 50,
     "metadata": {},
     "output_type": "execute_result"
    }
   ],
   "source": [
    "G @ H"
   ]
  },
  {
   "cell_type": "markdown",
   "id": "63a4c364-d130-4566-9e4e-0481f1458833",
   "metadata": {},
   "source": [
    "@: Linear Dot Product"
   ]
  },
  {
   "cell_type": "code",
   "execution_count": 52,
   "id": "7126aee7-3e3f-482c-ac9d-8697937e3323",
   "metadata": {},
   "outputs": [
    {
     "data": {
      "text/plain": [
       "array([[6, 4, 2],\n",
       "       [5, 3, 1]])"
      ]
     },
     "execution_count": 52,
     "metadata": {},
     "output_type": "execute_result"
    }
   ],
   "source": [
    "H.T"
   ]
  },
  {
   "cell_type": "markdown",
   "id": "5127f904-8a2d-47af-9941-b1b8363e62a9",
   "metadata": {},
   "source": [
    ".T: View of Transposed Array"
   ]
  },
  {
   "cell_type": "code",
   "execution_count": 53,
   "id": "641f4a1c-f3bc-4d28-8cb9-2630c58deb78",
   "metadata": {},
   "outputs": [
    {
     "data": {
      "text/plain": [
       "array([[1, 2, 3],\n",
       "       [4, 5, 6],\n",
       "       [7, 8, 9]])"
      ]
     },
     "execution_count": 53,
     "metadata": {},
     "output_type": "execute_result"
    }
   ],
   "source": [
    "G"
   ]
  },
  {
   "cell_type": "code",
   "execution_count": 54,
   "id": "0823f9f4-ab3c-4922-8e4d-97ccf5739fa4",
   "metadata": {},
   "outputs": [
    {
     "data": {
      "text/plain": [
       "array([[36, 48, 60],\n",
       "       [24, 33, 42]])"
      ]
     },
     "execution_count": 54,
     "metadata": {},
     "output_type": "execute_result"
    }
   ],
   "source": [
    "H.T @ G"
   ]
  },
  {
   "cell_type": "markdown",
   "id": "8e55557a-decf-4b57-87ae-96bac236bb86",
   "metadata": {},
   "source": [
    "### Size of Objects in Memory\n",
    "Or how I learned to stop worrying and love the numpy"
   ]
  },
  {
   "cell_type": "code",
   "execution_count": 59,
   "id": "1be7a3b8-ca9c-48b1-8fd0-9e3eb69c5827",
   "metadata": {},
   "outputs": [
    {
     "data": {
      "text/plain": [
       "28"
      ]
     },
     "execution_count": 59,
     "metadata": {},
     "output_type": "execute_result"
    }
   ],
   "source": [
    "# An Integer in Python is > 20bytes\n",
    "sys.getsizeof(1)"
   ]
  },
  {
   "cell_type": "code",
   "execution_count": 60,
   "id": "dd3ccb57-652a-4ab9-8316-735adacb4fab",
   "metadata": {},
   "outputs": [
    {
     "data": {
      "text/plain": [
       "72"
      ]
     },
     "execution_count": 60,
     "metadata": {},
     "output_type": "execute_result"
    }
   ],
   "source": [
    "# Longs are even larger\n",
    "sys.getsizeof(10**100)"
   ]
  },
  {
   "cell_type": "code",
   "execution_count": 61,
   "id": "00b9d7fb-844f-40e0-afa3-632e11dbdc23",
   "metadata": {},
   "outputs": [
    {
     "data": {
      "text/plain": [
       "4"
      ]
     },
     "execution_count": 61,
     "metadata": {},
     "output_type": "execute_result"
    }
   ],
   "source": [
    "# Numpy size is much smaller\n",
    "np.dtype(int).itemsize"
   ]
  },
  {
   "cell_type": "code",
   "execution_count": 62,
   "id": "8e897423-e0d0-43d3-993d-4925c7dacbd8",
   "metadata": {},
   "outputs": [
    {
     "data": {
      "text/plain": [
       "8"
      ]
     },
     "execution_count": 62,
     "metadata": {},
     "output_type": "execute_result"
    }
   ],
   "source": [
    "np.dtype(float).itemsize"
   ]
  },
  {
   "cell_type": "code",
   "execution_count": 63,
   "id": "b0bb952e-1856-4cd7-864b-0f808b5a5da3",
   "metadata": {},
   "outputs": [
    {
     "data": {
      "text/plain": [
       "64"
      ]
     },
     "execution_count": 63,
     "metadata": {},
     "output_type": "execute_result"
    }
   ],
   "source": [
    "# Lists are Even LARGER\n",
    "sys.getsizeof([1])"
   ]
  },
  {
   "cell_type": "code",
   "execution_count": 64,
   "id": "b23220aa-fc38-43c9-b6b3-c89cc0ea4edb",
   "metadata": {},
   "outputs": [
    {
     "data": {
      "text/plain": [
       "4"
      ]
     },
     "execution_count": 64,
     "metadata": {},
     "output_type": "execute_result"
    }
   ],
   "source": [
    "# When compared to an array of one element in numpy\n",
    "np.array([1]).nbytes"
   ]
  },
  {
   "cell_type": "code",
   "execution_count": 70,
   "id": "8dcd11b3-859f-417f-9e00-1c31dfdb4d67",
   "metadata": {},
   "outputs": [],
   "source": [
    "# And performance is deeply impacted\n",
    "J = list(range(100000))"
   ]
  },
  {
   "cell_type": "code",
   "execution_count": 71,
   "id": "136283e2-f461-49e7-89f6-daa13c011297",
   "metadata": {},
   "outputs": [],
   "source": [
    "K = np.arange(100000)"
   ]
  },
  {
   "cell_type": "code",
   "execution_count": 72,
   "id": "7d1025d0-34a0-49be-aaa7-ec6c335cab9b",
   "metadata": {},
   "outputs": [
    {
     "name": "stdout",
     "output_type": "stream",
     "text": [
      "CPU times: total: 0 ns\n",
      "Wall time: 989 μs\n"
     ]
    },
    {
     "data": {
      "text/plain": [
       "216474736"
      ]
     },
     "execution_count": 72,
     "metadata": {},
     "output_type": "execute_result"
    }
   ],
   "source": [
    "%time np.sum(K **2)"
   ]
  },
  {
   "cell_type": "code",
   "execution_count": 73,
   "id": "25143e0b-4afb-4252-a808-11a81713a6c3",
   "metadata": {},
   "outputs": [
    {
     "name": "stdout",
     "output_type": "stream",
     "text": [
      "CPU times: total: 31.2 ms\n",
      "Wall time: 51.3 ms\n"
     ]
    },
    {
     "name": "stderr",
     "output_type": "stream",
     "text": [
      "<timed eval>:1: RuntimeWarning: overflow encountered in scalar add\n"
     ]
    },
    {
     "data": {
      "text/plain": [
       "216474736"
      ]
     },
     "execution_count": 73,
     "metadata": {},
     "output_type": "execute_result"
    }
   ],
   "source": [
    "%time sum([x**2 for x in K])"
   ]
  },
  {
   "cell_type": "markdown",
   "id": "de5bb7b2-ae30-4718-8f92-59908456e98d",
   "metadata": {},
   "source": [
    "### Useful Numpy Functions"
   ]
  },
  {
   "cell_type": "code",
   "execution_count": 76,
   "id": "7cce95c5-0add-45ad-adfb-2d50d3aefa77",
   "metadata": {},
   "outputs": [
    {
     "data": {
      "text/plain": [
       "array([0.31991719, 0.55917306])"
      ]
     },
     "execution_count": 76,
     "metadata": {},
     "output_type": "execute_result"
    }
   ],
   "source": [
    "np.random.random(size=2)"
   ]
  },
  {
   "cell_type": "code",
   "execution_count": 77,
   "id": "64f6abed-a4bb-47d2-90be-9eb2487eddeb",
   "metadata": {},
   "outputs": [
    {
     "data": {
      "text/plain": [
       "array([0.23039117, 0.22827436])"
      ]
     },
     "execution_count": 77,
     "metadata": {},
     "output_type": "execute_result"
    }
   ],
   "source": [
    "np.random.normal(size=2)"
   ]
  },
  {
   "cell_type": "code",
   "execution_count": 78,
   "id": "f70a8b71-b973-436c-a959-254727ac21d8",
   "metadata": {},
   "outputs": [
    {
     "data": {
      "text/plain": [
       "array([[0.25840284, 0.9898813 , 0.91126706, 0.35358998],\n",
       "       [0.96152503, 0.44421928, 0.28034049, 0.51306507]])"
      ]
     },
     "execution_count": 78,
     "metadata": {},
     "output_type": "execute_result"
    }
   ],
   "source": [
    "np.random.rand(2,4)"
   ]
  },
  {
   "cell_type": "code",
   "execution_count": 79,
   "id": "8f8a09cd-535b-4616-8f4f-fc512248408f",
   "metadata": {},
   "outputs": [
    {
     "data": {
      "text/plain": [
       "array([0, 1, 2, 3, 4, 5, 6, 7, 8, 9])"
      ]
     },
     "execution_count": 79,
     "metadata": {},
     "output_type": "execute_result"
    }
   ],
   "source": [
    "np.arange(10)"
   ]
  },
  {
   "cell_type": "code",
   "execution_count": 80,
   "id": "22449927-5341-4fac-8274-7b98c6f5a958",
   "metadata": {},
   "outputs": [
    {
     "data": {
      "text/plain": [
       "array([5, 6, 7, 8, 9])"
      ]
     },
     "execution_count": 80,
     "metadata": {},
     "output_type": "execute_result"
    }
   ],
   "source": [
    "np.arange(5,10)"
   ]
  },
  {
   "cell_type": "code",
   "execution_count": 81,
   "id": "70d42325-b316-4325-8931-a443c07408f3",
   "metadata": {},
   "outputs": [
    {
     "data": {
      "text/plain": [
       "array([0. , 0.1, 0.2, 0.3, 0.4, 0.5, 0.6, 0.7, 0.8, 0.9])"
      ]
     },
     "execution_count": 81,
     "metadata": {},
     "output_type": "execute_result"
    }
   ],
   "source": [
    "np.arange(0,1,.1)"
   ]
  },
  {
   "cell_type": "code",
   "execution_count": 82,
   "id": "d5a16634-6654-47ec-ac15-ae7cbc8556cf",
   "metadata": {},
   "outputs": [
    {
     "data": {
      "text/plain": [
       "array([[0, 1, 2, 3, 4],\n",
       "       [5, 6, 7, 8, 9]])"
      ]
     },
     "execution_count": 82,
     "metadata": {},
     "output_type": "execute_result"
    }
   ],
   "source": [
    "np.arange(10).reshape(2,5)"
   ]
  },
  {
   "cell_type": "code",
   "execution_count": 83,
   "id": "d15e8c00-08f6-47ce-8b2a-f6e3de5659c7",
   "metadata": {},
   "outputs": [
    {
     "data": {
      "text/plain": [
       "array([[0, 1],\n",
       "       [2, 3],\n",
       "       [4, 5],\n",
       "       [6, 7],\n",
       "       [8, 9]])"
      ]
     },
     "execution_count": 83,
     "metadata": {},
     "output_type": "execute_result"
    }
   ],
   "source": [
    "np.arange(10).reshape(5,2)"
   ]
  },
  {
   "cell_type": "code",
   "execution_count": 84,
   "id": "cd744e00-b544-44b0-9a0c-50b19ff9feca",
   "metadata": {},
   "outputs": [
    {
     "data": {
      "text/plain": [
       "array([0.  , 0.25, 0.5 , 0.75, 1.  ])"
      ]
     },
     "execution_count": 84,
     "metadata": {},
     "output_type": "execute_result"
    }
   ],
   "source": [
    "np.linspace(0,1,5)"
   ]
  },
  {
   "cell_type": "code",
   "execution_count": 85,
   "id": "19a276f1-4a18-483f-a532-240ed430fad9",
   "metadata": {},
   "outputs": [
    {
     "data": {
      "text/plain": [
       "array([0.        , 0.05263158, 0.10526316, 0.15789474, 0.21052632,\n",
       "       0.26315789, 0.31578947, 0.36842105, 0.42105263, 0.47368421,\n",
       "       0.52631579, 0.57894737, 0.63157895, 0.68421053, 0.73684211,\n",
       "       0.78947368, 0.84210526, 0.89473684, 0.94736842, 1.        ])"
      ]
     },
     "execution_count": 85,
     "metadata": {},
     "output_type": "execute_result"
    }
   ],
   "source": [
    "np.linspace(0,1,20)"
   ]
  },
  {
   "cell_type": "code",
   "execution_count": 88,
   "id": "f593b41c-d45e-4568-a693-2ef1d3a068ce",
   "metadata": {},
   "outputs": [
    {
     "data": {
      "text/plain": [
       "array([0.  , 0.05, 0.1 , 0.15, 0.2 , 0.25, 0.3 , 0.35, 0.4 , 0.45, 0.5 ,\n",
       "       0.55, 0.6 , 0.65, 0.7 , 0.75, 0.8 , 0.85, 0.9 , 0.95])"
      ]
     },
     "execution_count": 88,
     "metadata": {},
     "output_type": "execute_result"
    }
   ],
   "source": [
    "np.linspace(0,1,20,False)"
   ]
  },
  {
   "cell_type": "code",
   "execution_count": 89,
   "id": "9a98b5e2-0140-4cf6-8108-03e9fb65a3c3",
   "metadata": {},
   "outputs": [
    {
     "data": {
      "text/plain": [
       "array([0., 0., 0., 0., 0.])"
      ]
     },
     "execution_count": 89,
     "metadata": {},
     "output_type": "execute_result"
    }
   ],
   "source": [
    "np.zeros(5)"
   ]
  },
  {
   "cell_type": "code",
   "execution_count": 91,
   "id": "72e3ef47-6bf2-4b82-b225-58849208d331",
   "metadata": {},
   "outputs": [
    {
     "data": {
      "text/plain": [
       "array([[0., 0., 0.],\n",
       "       [0., 0., 0.],\n",
       "       [0., 0., 0.]])"
      ]
     },
     "execution_count": 91,
     "metadata": {},
     "output_type": "execute_result"
    }
   ],
   "source": [
    "np.zeros((3,3))"
   ]
  },
  {
   "cell_type": "code",
   "execution_count": 95,
   "id": "e4c6ad99-ffe7-4712-b868-9c751c8d1bab",
   "metadata": {},
   "outputs": [
    {
     "data": {
      "text/plain": [
       "array([[0, 0, 0],\n",
       "       [0, 0, 0],\n",
       "       [0, 0, 0]], dtype=int8)"
      ]
     },
     "execution_count": 95,
     "metadata": {},
     "output_type": "execute_result"
    }
   ],
   "source": [
    "np.zeros((3,3), dtype=np.int8)"
   ]
  },
  {
   "cell_type": "code",
   "execution_count": 96,
   "id": "c49c3695-6481-45fa-a1dd-bb3173b458a3",
   "metadata": {},
   "outputs": [
    {
     "data": {
      "text/plain": [
       "array([1., 1., 1., 1., 1.])"
      ]
     },
     "execution_count": 96,
     "metadata": {},
     "output_type": "execute_result"
    }
   ],
   "source": [
    "np.ones(5)"
   ]
  },
  {
   "cell_type": "code",
   "execution_count": 97,
   "id": "de5ca37a-d22c-4575-a0bc-908139324d34",
   "metadata": {},
   "outputs": [
    {
     "data": {
      "text/plain": [
       "array([[1., 1., 1.],\n",
       "       [1., 1., 1.],\n",
       "       [1., 1., 1.]])"
      ]
     },
     "execution_count": 97,
     "metadata": {},
     "output_type": "execute_result"
    }
   ],
   "source": [
    "np.ones((3,3))"
   ]
  },
  {
   "cell_type": "code",
   "execution_count": 98,
   "id": "a737c931-ef31-48a6-8cc6-42a7126044e8",
   "metadata": {},
   "outputs": [
    {
     "data": {
      "text/plain": [
       "array([1., 1., 1., 1., 1.])"
      ]
     },
     "execution_count": 98,
     "metadata": {},
     "output_type": "execute_result"
    }
   ],
   "source": [
    "np.empty(5)"
   ]
  },
  {
   "cell_type": "code",
   "execution_count": 99,
   "id": "051b7a4d-9b01-4eb4-bedf-4232b9ffe02a",
   "metadata": {},
   "outputs": [
    {
     "data": {
      "text/plain": [
       "array([[0.25, 0.5 ],\n",
       "       [0.75, 1.  ]])"
      ]
     },
     "execution_count": 99,
     "metadata": {},
     "output_type": "execute_result"
    }
   ],
   "source": [
    "np.empty((2,2))"
   ]
  },
  {
   "cell_type": "code",
   "execution_count": 100,
   "id": "2176bc31-194e-4ca6-a74d-9129ec08433d",
   "metadata": {},
   "outputs": [
    {
     "data": {
      "text/plain": [
       "array([[1., 0., 0.],\n",
       "       [0., 1., 0.],\n",
       "       [0., 0., 1.]])"
      ]
     },
     "execution_count": 100,
     "metadata": {},
     "output_type": "execute_result"
    }
   ],
   "source": [
    "np.identity(3)"
   ]
  },
  {
   "cell_type": "code",
   "execution_count": 101,
   "id": "8aeec80e-ea48-4704-aa82-66cbace63c2e",
   "metadata": {},
   "outputs": [
    {
     "data": {
      "text/plain": [
       "array([[1., 0., 0.],\n",
       "       [0., 1., 0.],\n",
       "       [0., 0., 1.]])"
      ]
     },
     "execution_count": 101,
     "metadata": {},
     "output_type": "execute_result"
    }
   ],
   "source": [
    "np.eye(3,3)"
   ]
  },
  {
   "cell_type": "code",
   "execution_count": 103,
   "id": "1160e310-6de9-440f-b446-c5f2673461cc",
   "metadata": {},
   "outputs": [
    {
     "data": {
      "text/plain": [
       "array([[1., 0., 0., 0.],\n",
       "       [0., 1., 0., 0.],\n",
       "       [0., 0., 1., 0.],\n",
       "       [0., 0., 0., 1.],\n",
       "       [0., 0., 0., 0.],\n",
       "       [0., 0., 0., 0.],\n",
       "       [0., 0., 0., 0.],\n",
       "       [0., 0., 0., 0.]])"
      ]
     },
     "execution_count": 103,
     "metadata": {},
     "output_type": "execute_result"
    }
   ],
   "source": [
    "np.eye(8,4)"
   ]
  },
  {
   "cell_type": "code",
   "execution_count": 109,
   "id": "5c7c9bcb-e0c2-40b7-bff8-9df0feda7823",
   "metadata": {},
   "outputs": [
    {
     "data": {
      "text/plain": [
       "array([[0., 1., 0., 0.],\n",
       "       [0., 0., 1., 0.],\n",
       "       [0., 0., 0., 1.],\n",
       "       [0., 0., 0., 0.],\n",
       "       [0., 0., 0., 0.],\n",
       "       [0., 0., 0., 0.],\n",
       "       [0., 0., 0., 0.],\n",
       "       [0., 0., 0., 0.]])"
      ]
     },
     "execution_count": 109,
     "metadata": {},
     "output_type": "execute_result"
    }
   ],
   "source": [
    "np.eye(8,4,k=1)"
   ]
  },
  {
   "cell_type": "code",
   "execution_count": 107,
   "id": "c27bc651-687d-49b8-a388-b558f9a38ec5",
   "metadata": {},
   "outputs": [
    {
     "data": {
      "text/plain": [
       "array([[0., 0., 0., 0.],\n",
       "       [0., 0., 0., 0.],\n",
       "       [0., 0., 0., 0.],\n",
       "       [1., 0., 0., 0.],\n",
       "       [0., 1., 0., 0.],\n",
       "       [0., 0., 1., 0.],\n",
       "       [0., 0., 0., 1.],\n",
       "       [0., 0., 0., 0.]])"
      ]
     },
     "execution_count": 107,
     "metadata": {},
     "output_type": "execute_result"
    }
   ],
   "source": [
    "np.eye(8,4, k=-3)"
   ]
  },
  {
   "cell_type": "code",
   "execution_count": 110,
   "id": "d49032f9-0ab1-46dc-8989-25ab4ba186c9",
   "metadata": {},
   "outputs": [
    {
     "data": {
      "text/plain": [
       "'W'"
      ]
     },
     "execution_count": 110,
     "metadata": {},
     "output_type": "execute_result"
    }
   ],
   "source": [
    "\"Hello World\"[6]"
   ]
  }
 ],
 "metadata": {
  "kernelspec": {
   "display_name": "Python 3 (ipykernel)",
   "language": "python",
   "name": "python3"
  },
  "language_info": {
   "codemirror_mode": {
    "name": "ipython",
    "version": 3
   },
   "file_extension": ".py",
   "mimetype": "text/x-python",
   "name": "python",
   "nbconvert_exporter": "python",
   "pygments_lexer": "ipython3",
   "version": "3.12.4"
  }
 },
 "nbformat": 4,
 "nbformat_minor": 5
}
