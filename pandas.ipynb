{
 "cells": [
  {
   "cell_type": "markdown",
   "id": "2398792a-e517-4d4e-9177-5fa7cb3340ee",
   "metadata": {},
   "source": [
    "## Pandas"
   ]
  },
  {
   "cell_type": "code",
   "execution_count": 21,
   "id": "6e471a45-7700-4d27-ba77-2ef3627ccb74",
   "metadata": {},
   "outputs": [],
   "source": [
    "import pandas as pd\n",
    "import numpy as np"
   ]
  },
  {
   "cell_type": "code",
   "execution_count": 2,
   "id": "8cc8351c-34f0-47e6-88be-1004a38d5dc7",
   "metadata": {},
   "outputs": [
    {
     "name": "stdout",
     "output_type": "stream",
     "text": [
      "Tom      8\n",
      "Kris     2\n",
      "Ahmad    5\n",
      "Beau     6\n",
      "dtype: int64\n"
     ]
    }
   ],
   "source": [
    "certificates_earned = pd.Series(\n",
    "    [8, 2, 5, 6],\n",
    "    index=['Tom', 'Kris', 'Ahmad', 'Beau']\n",
    ")\n",
    "print(certificates_earned)"
   ]
  },
  {
   "cell_type": "code",
   "execution_count": 5,
   "id": "ed561eff-6eac-4645-9f1b-87aea640deae",
   "metadata": {},
   "outputs": [
    {
     "name": "stdout",
     "output_type": "stream",
     "text": [
      "Tom     8\n",
      "Beau    6\n",
      "dtype: int64\n"
     ]
    }
   ],
   "source": [
    "print(certificates_earned[certificates_earned >5])"
   ]
  },
  {
   "cell_type": "code",
   "execution_count": 6,
   "id": "7f8b7472-9e36-42de-866f-dabb45f3432a",
   "metadata": {},
   "outputs": [
    {
     "name": "stdout",
     "output_type": "stream",
     "text": [
      "Certificates     5\n",
      "Time (months)    9\n",
      "Name: Ahmad, dtype: int64\n"
     ]
    }
   ],
   "source": [
    "certificates_by_time = pd.DataFrame({\n",
    "    'Certificates': [8,2,5,6],\n",
    "    'Time (months)': [16,5,9,12]\n",
    "})\n",
    "\n",
    "certificates_by_time.index = ['Tom','Kris','Ahmad','Beau']\n",
    "\n",
    "print(certificates_by_time.iloc[2])"
   ]
  },
  {
   "cell_type": "code",
   "execution_count": 7,
   "id": "bb907617-9698-4f06-bff7-c805d1f42471",
   "metadata": {},
   "outputs": [
    {
     "name": "stdout",
     "output_type": "stream",
     "text": [
      "       Certificates  Cost (Thousands)  Longest Streak\n",
      "Tom               8                16              13\n",
      "Kris              2                 5              11\n",
      "Ahmad             5                 9               9\n",
      "Bea               6                12               7\n"
     ]
    }
   ],
   "source": [
    "certificates_by_cost = pd.DataFrame({\n",
    "    'Certificates': [8,2,5,6],\n",
    "    'Cost (Thousands)': [16,5,9,12]\n",
    "})\n",
    "names = ['Tom','Kris','Ahmad','Bea']\n",
    "\n",
    "certificates_by_cost.index = names\n",
    "longest_streak = pd.Series([13,11,9,7], index=names)\n",
    "certificates_by_cost['Longest Streak']=longest_streak\n",
    "\n",
    "print(certificates_by_cost)"
   ]
  },
  {
   "cell_type": "code",
   "execution_count": 14,
   "id": "cf161101-77c0-4022-8950-26f0a0d3ea8a",
   "metadata": {},
   "outputs": [
    {
     "name": "stdout",
     "output_type": "stream",
     "text": [
      "       Certificates  Time (months)  Certificates per Month\n",
      "Tom               8             16                    0.50\n",
      "Kris              2              5                    0.40\n",
      "Ahmad             5              9                    0.56\n",
      "Beau              6             12                    0.50\n"
     ]
    }
   ],
   "source": [
    "certificates_by_time['Certificates per Month']=round(certificates_by_time['Certificates'] / certificates_by_time['Time (months)'],2)\n",
    "\n",
    "print(certificates_by_time)"
   ]
  },
  {
   "cell_type": "code",
   "execution_count": 3,
   "id": "dcb7f38a-44cc-423a-8629-c3903c1858c7",
   "metadata": {},
   "outputs": [],
   "source": [
    "# In million\n",
    "g7_pop = pd.Series([35.467, 63.951, 80.940, 60.665, 127.061, 64.511, 318.523])"
   ]
  },
  {
   "cell_type": "code",
   "execution_count": 4,
   "id": "43caa80c-dfa2-4fc1-a7c2-a3e33bc7e0c5",
   "metadata": {},
   "outputs": [
    {
     "data": {
      "text/plain": [
       "0     35.467\n",
       "1     63.951\n",
       "2     80.940\n",
       "3     60.665\n",
       "4    127.061\n",
       "5     64.511\n",
       "6    318.523\n",
       "dtype: float64"
      ]
     },
     "execution_count": 4,
     "metadata": {},
     "output_type": "execute_result"
    }
   ],
   "source": [
    "g7_pop"
   ]
  },
  {
   "cell_type": "code",
   "execution_count": 5,
   "id": "1f203c7b-a389-4134-8b40-b9067952dcd4",
   "metadata": {},
   "outputs": [],
   "source": [
    "g7_pop.name = \"G7 Population in Millions\""
   ]
  },
  {
   "cell_type": "code",
   "execution_count": 6,
   "id": "3f7d2925-75cf-4a7d-80e4-dcfd530160c8",
   "metadata": {},
   "outputs": [
    {
     "data": {
      "text/plain": [
       "0     35.467\n",
       "1     63.951\n",
       "2     80.940\n",
       "3     60.665\n",
       "4    127.061\n",
       "5     64.511\n",
       "6    318.523\n",
       "Name: G7 Population in Millions, dtype: float64"
      ]
     },
     "execution_count": 6,
     "metadata": {},
     "output_type": "execute_result"
    }
   ],
   "source": [
    "g7_pop"
   ]
  },
  {
   "cell_type": "code",
   "execution_count": 7,
   "id": "dc002490-75d6-4f9f-91c7-d817063f84b5",
   "metadata": {},
   "outputs": [
    {
     "data": {
      "text/plain": [
       "dtype('float64')"
      ]
     },
     "execution_count": 7,
     "metadata": {},
     "output_type": "execute_result"
    }
   ],
   "source": [
    "g7_pop.dtype"
   ]
  },
  {
   "cell_type": "code",
   "execution_count": 8,
   "id": "edb41c61-3337-49b9-ab93-dbc511807199",
   "metadata": {},
   "outputs": [
    {
     "data": {
      "text/plain": [
       "array([ 35.467,  63.951,  80.94 ,  60.665, 127.061,  64.511, 318.523])"
      ]
     },
     "execution_count": 8,
     "metadata": {},
     "output_type": "execute_result"
    }
   ],
   "source": [
    "g7_pop.values"
   ]
  },
  {
   "cell_type": "code",
   "execution_count": 9,
   "id": "165c49cd-5704-4536-b207-4e45b67c24f4",
   "metadata": {},
   "outputs": [
    {
     "data": {
      "text/plain": [
       "35.467"
      ]
     },
     "execution_count": 9,
     "metadata": {},
     "output_type": "execute_result"
    }
   ],
   "source": [
    "g7_pop[0]"
   ]
  },
  {
   "cell_type": "code",
   "execution_count": 10,
   "id": "8dd79647-b785-4fbb-bf63-35f7831f1c45",
   "metadata": {},
   "outputs": [
    {
     "data": {
      "text/plain": [
       "numpy.ndarray"
      ]
     },
     "execution_count": 10,
     "metadata": {},
     "output_type": "execute_result"
    }
   ],
   "source": [
    "type(g7_pop.values)"
   ]
  },
  {
   "cell_type": "code",
   "execution_count": 11,
   "id": "d109714a-d3ab-406d-8029-d07484516c51",
   "metadata": {},
   "outputs": [
    {
     "data": {
      "text/plain": [
       "RangeIndex(start=0, stop=7, step=1)"
      ]
     },
     "execution_count": 11,
     "metadata": {},
     "output_type": "execute_result"
    }
   ],
   "source": [
    "g7_pop.index"
   ]
  },
  {
   "cell_type": "code",
   "execution_count": 12,
   "id": "e1e96ab5-cd1c-4d07-94c1-2d58df287539",
   "metadata": {},
   "outputs": [],
   "source": [
    "l = ['a','b','c']"
   ]
  },
  {
   "cell_type": "code",
   "execution_count": 16,
   "id": "9192ad6f-0969-4998-9fff-cd4129107b04",
   "metadata": {},
   "outputs": [],
   "source": [
    "g7_pop.index = [\n",
    "    'Canada',\n",
    "    'France',\n",
    "    'Germany',\n",
    "    'Italy',\n",
    "    'Japan',\n",
    "    'United Kingdom',\n",
    "    'United States',\n",
    "    ]"
   ]
  },
  {
   "cell_type": "code",
   "execution_count": 17,
   "id": "26f77ed0-0a2f-4482-a08c-b10d2a0c99a5",
   "metadata": {},
   "outputs": [
    {
     "data": {
      "text/plain": [
       "Canada             35.467\n",
       "France             63.951\n",
       "Germany            80.940\n",
       "Italy              60.665\n",
       "Japan             127.061\n",
       "United Kingdom     64.511\n",
       "United States     318.523\n",
       "Name: G7 Population in Millions, dtype: float64"
      ]
     },
     "execution_count": 17,
     "metadata": {},
     "output_type": "execute_result"
    }
   ],
   "source": [
    "g7_pop"
   ]
  },
  {
   "cell_type": "markdown",
   "id": "c46c799d-a534-4d48-871b-39cb21982e99",
   "metadata": {},
   "source": [
    "Series is list|dictionaries. Except ordered (dictionaries now are ordered).  \n",
    "Alternate methods for creation:"
   ]
  },
  {
   "cell_type": "code",
   "execution_count": 18,
   "id": "b97dd900-c0ce-4f42-a9fa-38b39cca76c9",
   "metadata": {},
   "outputs": [
    {
     "data": {
      "text/plain": [
       "Canada             34.467\n",
       "France             63.951\n",
       "Germany            80.940\n",
       "Italy              60.665\n",
       "Japan             127.061\n",
       "United Kingdom     64.511\n",
       "United States     318.523\n",
       "Name: G7 Population in Millions, dtype: float64"
      ]
     },
     "execution_count": 18,
     "metadata": {},
     "output_type": "execute_result"
    }
   ],
   "source": [
    "pd.Series({\n",
    "    'Canada': 34.467,\n",
    "    'France': 63.951,\n",
    "    'Germany': 80.94,\n",
    "    'Italy': 60.665,\n",
    "    'Japan': 127.061,\n",
    "    'United Kingdom': 64.511,\n",
    "    'United States': 318.523\n",
    "}, name='G7 Population in Millions')"
   ]
  },
  {
   "cell_type": "code",
   "execution_count": 19,
   "id": "fb010df7-c5b1-45de-9e3e-dd0e3bd4b78e",
   "metadata": {},
   "outputs": [
    {
     "data": {
      "text/plain": [
       "Canada             34.467\n",
       "France             63.951\n",
       "Germany            80.940\n",
       "Italy              60.665\n",
       "Japan             127.061\n",
       "United Kingdom     64.511\n",
       "Untied States     318.523\n",
       "Name: G7 Population in Millions, dtype: float64"
      ]
     },
     "execution_count": 19,
     "metadata": {},
     "output_type": "execute_result"
    }
   ],
   "source": [
    "pd.Series(\n",
    "    [34.467, 63.951, 80.94, 60.665, 127.061, 64.511, 318.523],\n",
    "    index=['Canada','France','Germany','Italy','Japan','United Kingdom','Untied States'],\n",
    "    name='G7 Population in Millions')"
   ]
  },
  {
   "cell_type": "code",
   "execution_count": 20,
   "id": "d99a7160-0944-4876-a68e-8477b69b4b3f",
   "metadata": {},
   "outputs": [
    {
     "data": {
      "text/plain": [
       "France     63.951\n",
       "Germany    80.940\n",
       "Italy      60.665\n",
       "Spain         NaN\n",
       "Name: G7 Population in Millions, dtype: float64"
      ]
     },
     "execution_count": 20,
     "metadata": {},
     "output_type": "execute_result"
    }
   ],
   "source": [
    "pd.Series(g7_pop, index=['France', 'Germany', 'Italy', 'Spain'])"
   ]
  },
  {
   "cell_type": "markdown",
   "id": "38ea902f-8f9f-462c-ba13-58b0aebb6e28",
   "metadata": {},
   "source": [
    "### Indexing"
   ]
  },
  {
   "cell_type": "code",
   "execution_count": 24,
   "id": "f31c3795-1daf-4985-88a6-ec51db48363b",
   "metadata": {},
   "outputs": [
    {
     "data": {
      "text/plain": [
       "Canada             35.467\n",
       "France             63.951\n",
       "Germany            80.940\n",
       "Italy              60.665\n",
       "Japan             127.061\n",
       "United Kingdom     64.511\n",
       "United States     318.523\n",
       "Name: G7 Population in Millions, dtype: float64"
      ]
     },
     "execution_count": 24,
     "metadata": {},
     "output_type": "execute_result"
    }
   ],
   "source": [
    "g7_pop"
   ]
  },
  {
   "cell_type": "code",
   "execution_count": 25,
   "id": "0d042e0c-2df4-4265-8148-d05c3ac04941",
   "metadata": {},
   "outputs": [
    {
     "data": {
      "text/plain": [
       "35.467"
      ]
     },
     "execution_count": 25,
     "metadata": {},
     "output_type": "execute_result"
    }
   ],
   "source": [
    "g7_pop['Canada']"
   ]
  },
  {
   "cell_type": "code",
   "execution_count": 26,
   "id": "7f8c176b-996e-4058-ac06-3085c578de90",
   "metadata": {},
   "outputs": [
    {
     "data": {
      "text/plain": [
       "127.061"
      ]
     },
     "execution_count": 26,
     "metadata": {},
     "output_type": "execute_result"
    }
   ],
   "source": [
    "g7_pop['Japan']"
   ]
  },
  {
   "cell_type": "code",
   "execution_count": 27,
   "id": "cd060c5a-92b2-40c5-a61b-340ee9743827",
   "metadata": {},
   "outputs": [
    {
     "data": {
      "text/plain": [
       "35.467"
      ]
     },
     "execution_count": 27,
     "metadata": {},
     "output_type": "execute_result"
    }
   ],
   "source": [
    "g7_pop.iloc[0]"
   ]
  },
  {
   "cell_type": "code",
   "execution_count": 28,
   "id": "04ce6f7c-26ed-4507-97e3-61b7edb785e3",
   "metadata": {},
   "outputs": [
    {
     "data": {
      "text/plain": [
       "318.523"
      ]
     },
     "execution_count": 28,
     "metadata": {},
     "output_type": "execute_result"
    }
   ],
   "source": [
    "g7_pop.iloc[-1]"
   ]
  },
  {
   "cell_type": "code",
   "execution_count": 29,
   "id": "5ac01162-049f-4855-a891-96a164034e91",
   "metadata": {},
   "outputs": [
    {
     "data": {
      "text/plain": [
       "Italy     60.665\n",
       "France    63.951\n",
       "Name: G7 Population in Millions, dtype: float64"
      ]
     },
     "execution_count": 29,
     "metadata": {},
     "output_type": "execute_result"
    }
   ],
   "source": [
    "g7_pop[['Italy','France']]"
   ]
  },
  {
   "cell_type": "code",
   "execution_count": 30,
   "id": "d28a111b-927a-4be5-b941-fb9c03c7bd75",
   "metadata": {},
   "outputs": [
    {
     "data": {
      "text/plain": [
       "Canada    35.467\n",
       "France    63.951\n",
       "Name: G7 Population in Millions, dtype: float64"
      ]
     },
     "execution_count": 30,
     "metadata": {},
     "output_type": "execute_result"
    }
   ],
   "source": [
    "g7_pop.iloc[[0,1]]"
   ]
  },
  {
   "cell_type": "code",
   "execution_count": 31,
   "id": "9cd461af-bf64-45af-b9a9-8b4aabf23fde",
   "metadata": {},
   "outputs": [
    {
     "data": {
      "text/plain": [
       "Canada     35.467\n",
       "France     63.951\n",
       "Germany    80.940\n",
       "Italy      60.665\n",
       "Name: G7 Population in Millions, dtype: float64"
      ]
     },
     "execution_count": 31,
     "metadata": {},
     "output_type": "execute_result"
    }
   ],
   "source": [
    "g7_pop['Canada':'Italy']"
   ]
  },
  {
   "cell_type": "markdown",
   "id": "f1fd3b94-44b6-4aab-a607-9133dc60698d",
   "metadata": {},
   "source": [
    "IMPORTANT: Slices in Pandas includes the final element selected in the slice, which is not the case with vanilla python/numpy"
   ]
  },
  {
   "cell_type": "markdown",
   "id": "4d2c4218-cc34-4432-9665-a66a54616c26",
   "metadata": {},
   "source": [
    "### Conditional Selection"
   ]
  },
  {
   "cell_type": "code",
   "execution_count": 35,
   "id": "119e66ba-20ae-42c2-827d-88dcf15dff5e",
   "metadata": {},
   "outputs": [
    {
     "data": {
      "text/plain": [
       "Canada             35.467\n",
       "France             63.951\n",
       "Germany            80.940\n",
       "Italy              60.665\n",
       "Japan             127.061\n",
       "United Kingdom     64.511\n",
       "United States     318.523\n",
       "Name: G7 Population in Millions, dtype: float64"
      ]
     },
     "execution_count": 35,
     "metadata": {},
     "output_type": "execute_result"
    }
   ],
   "source": [
    "g7_pop"
   ]
  },
  {
   "cell_type": "code",
   "execution_count": 36,
   "id": "c3a8dd4a-7c73-4c15-bd4c-ec4a6610d197",
   "metadata": {},
   "outputs": [
    {
     "data": {
      "text/plain": [
       "Canada            False\n",
       "France            False\n",
       "Germany            True\n",
       "Italy             False\n",
       "Japan              True\n",
       "United Kingdom    False\n",
       "United States      True\n",
       "Name: G7 Population in Millions, dtype: bool"
      ]
     },
     "execution_count": 36,
     "metadata": {},
     "output_type": "execute_result"
    }
   ],
   "source": [
    "g7_pop > 70"
   ]
  },
  {
   "cell_type": "code",
   "execution_count": 37,
   "id": "1f8095c2-706d-4302-9fa1-3f3aaca00c48",
   "metadata": {},
   "outputs": [
    {
     "data": {
      "text/plain": [
       "Germany           80.940\n",
       "Japan            127.061\n",
       "United States    318.523\n",
       "Name: G7 Population in Millions, dtype: float64"
      ]
     },
     "execution_count": 37,
     "metadata": {},
     "output_type": "execute_result"
    }
   ],
   "source": [
    "g7_pop[g7_pop>70]"
   ]
  },
  {
   "cell_type": "code",
   "execution_count": 39,
   "id": "b24d8fed-b7de-48bf-8590-afec5f72594c",
   "metadata": {},
   "outputs": [
    {
     "data": {
      "text/plain": [
       "107.30257142857144"
      ]
     },
     "execution_count": 39,
     "metadata": {},
     "output_type": "execute_result"
    }
   ],
   "source": [
    "g7_pop.mean()"
   ]
  },
  {
   "cell_type": "code",
   "execution_count": 40,
   "id": "0b851d7d-be31-4959-b33e-585fdf63f43d",
   "metadata": {},
   "outputs": [
    {
     "data": {
      "text/plain": [
       "Japan            127.061\n",
       "United States    318.523\n",
       "Name: G7 Population in Millions, dtype: float64"
      ]
     },
     "execution_count": 40,
     "metadata": {},
     "output_type": "execute_result"
    }
   ],
   "source": [
    "g7_pop[g7_pop > g7_pop.mean()]"
   ]
  },
  {
   "cell_type": "code",
   "execution_count": 42,
   "id": "b3d716bf-6c1e-4293-9a02-8d1a4d9664ee",
   "metadata": {},
   "outputs": [
    {
     "data": {
      "text/plain": [
       "97.24996987121581"
      ]
     },
     "execution_count": 42,
     "metadata": {},
     "output_type": "execute_result"
    }
   ],
   "source": [
    "g7_pop.std()"
   ]
  },
  {
   "cell_type": "code",
   "execution_count": 66,
   "id": "b17a329f-f5a3-42e6-a95a-79cc115c2c3e",
   "metadata": {},
   "outputs": [
    {
     "data": {
      "text/plain": [
       "Canada            35.467\n",
       "United States    318.523\n",
       "Name: G7 Population in Millions, dtype: float64"
      ]
     },
     "execution_count": 66,
     "metadata": {},
     "output_type": "execute_result"
    }
   ],
   "source": [
    "g7_pop[(g7_pop<g7_pop.mean() - g7_pop.std()/2)|(g7_pop>g7_pop.mean() + g7_pop.std()/2)]"
   ]
  },
  {
   "cell_type": "code",
   "execution_count": 71,
   "id": "d519a462-6123-4392-8404-69eba6e1f250",
   "metadata": {},
   "outputs": [
    {
     "data": {
      "text/plain": [
       "Germany     80.940\n",
       "Japan      127.061\n",
       "Name: G7 Population in Millions, dtype: float64"
      ]
     },
     "execution_count": 71,
     "metadata": {},
     "output_type": "execute_result"
    }
   ],
   "source": [
    "g7_pop[(g7_pop > 80) & (g7_pop<200)]"
   ]
  },
  {
   "cell_type": "code",
   "execution_count": 49,
   "id": "ae9f63e0-495a-4082-ab6d-e360aad678e5",
   "metadata": {},
   "outputs": [],
   "source": [
    "### Operations and Methods"
   ]
  },
  {
   "cell_type": "code",
   "execution_count": 50,
   "id": "b6883770-3965-44f0-9b41-1feb9a6852a1",
   "metadata": {},
   "outputs": [
    {
     "data": {
      "text/plain": [
       "Canada             35.467\n",
       "France             63.951\n",
       "Germany            80.940\n",
       "Italy              60.665\n",
       "Japan             127.061\n",
       "United Kingdom     64.511\n",
       "United States     318.523\n",
       "Name: G7 Population in Millions, dtype: float64"
      ]
     },
     "execution_count": 50,
     "metadata": {},
     "output_type": "execute_result"
    }
   ],
   "source": [
    "g7_pop"
   ]
  },
  {
   "cell_type": "code",
   "execution_count": 55,
   "id": "af2cc028-917c-450a-856a-553e6ba4b4c9",
   "metadata": {},
   "outputs": [
    {
     "data": {
      "text/plain": [
       "Canada             35467000.0\n",
       "France             63951000.0\n",
       "Germany            80940000.0\n",
       "Italy              60665000.0\n",
       "Japan             127061000.0\n",
       "United Kingdom     64511000.0\n",
       "United States     318523000.0\n",
       "Name: G7 Population in Millions, dtype: float64"
      ]
     },
     "execution_count": 55,
     "metadata": {},
     "output_type": "execute_result"
    }
   ],
   "source": [
    "g7_pop * 1_000_000\n",
    "# The _ are just for readability"
   ]
  },
  {
   "cell_type": "code",
   "execution_count": 54,
   "id": "d98b62eb-4876-4e40-bdc0-9f68e7565651",
   "metadata": {},
   "outputs": [
    {
     "data": {
      "text/plain": [
       "Canada             35467000.0\n",
       "France             63951000.0\n",
       "Germany            80940000.0\n",
       "Italy              60665000.0\n",
       "Japan             127061000.0\n",
       "United Kingdom     64511000.0\n",
       "United States     318523000.0\n",
       "Name: G7 Population in Millions, dtype: float64"
      ]
     },
     "execution_count": 54,
     "metadata": {},
     "output_type": "execute_result"
    }
   ],
   "source": [
    "g7_pop * 1000000"
   ]
  },
  {
   "cell_type": "code",
   "execution_count": 56,
   "id": "c658e08a-1b6c-4a7a-9669-9b535a97e642",
   "metadata": {},
   "outputs": [
    {
     "data": {
      "text/plain": [
       "107.30257142857144"
      ]
     },
     "execution_count": 56,
     "metadata": {},
     "output_type": "execute_result"
    }
   ],
   "source": [
    "g7_pop.mean()"
   ]
  },
  {
   "cell_type": "code",
   "execution_count": 57,
   "id": "8d40e812-4137-404f-b56b-fd73b232a871",
   "metadata": {},
   "outputs": [
    {
     "data": {
      "text/plain": [
       "107302571.42857143"
      ]
     },
     "execution_count": 57,
     "metadata": {},
     "output_type": "execute_result"
    }
   ],
   "source": [
    "g7_pop.mean() * 1_000_000"
   ]
  },
  {
   "cell_type": "code",
   "execution_count": 59,
   "id": "cceaac49-d8f9-47fa-aebe-084ca3b31688",
   "metadata": {},
   "outputs": [
    {
     "data": {
      "text/plain": [
       "107302571.0"
      ]
     },
     "execution_count": 59,
     "metadata": {},
     "output_type": "execute_result"
    }
   ],
   "source": [
    "round(g7_pop.mean()*1_000_000,0)"
   ]
  },
  {
   "cell_type": "code",
   "execution_count": 62,
   "id": "203e888f-9660-4761-9488-638186dbbaa8",
   "metadata": {},
   "outputs": [
    {
     "data": {
      "text/plain": [
       "Canada            3.568603\n",
       "France            4.158117\n",
       "Germany           4.393708\n",
       "Italy             4.105367\n",
       "Japan             4.844667\n",
       "United Kingdom    4.166836\n",
       "United States     5.763695\n",
       "Name: G7 Population in Millions, dtype: float64"
      ]
     },
     "execution_count": 62,
     "metadata": {},
     "output_type": "execute_result"
    }
   ],
   "source": [
    "np.log(g7_pop)\n",
    "# np.log in ln"
   ]
  },
  {
   "cell_type": "markdown",
   "id": "b52fe6bb-836d-4949-9302-c8e2a6323969",
   "metadata": {},
   "source": [
    "### Modifying Series"
   ]
  },
  {
   "cell_type": "code",
   "execution_count": 72,
   "id": "94133e09-ce78-4661-a98f-2615d7882853",
   "metadata": {},
   "outputs": [],
   "source": [
    "g7_pop['Canada'] = 40.5"
   ]
  },
  {
   "cell_type": "code",
   "execution_count": 73,
   "id": "a11d3410-bc3f-4a4c-b758-535dadbb4052",
   "metadata": {},
   "outputs": [
    {
     "data": {
      "text/plain": [
       "Canada             40.500\n",
       "France             63.951\n",
       "Germany            80.940\n",
       "Italy              60.665\n",
       "Japan             127.061\n",
       "United Kingdom     64.511\n",
       "United States     318.523\n",
       "Name: G7 Population in Millions, dtype: float64"
      ]
     },
     "execution_count": 73,
     "metadata": {},
     "output_type": "execute_result"
    }
   ],
   "source": [
    "g7_pop"
   ]
  },
  {
   "cell_type": "code",
   "execution_count": 75,
   "id": "8c51d51a-6e2a-4615-9d59-4690a5febcfe",
   "metadata": {},
   "outputs": [],
   "source": [
    "g7_pop.iloc[-1] = 500"
   ]
  },
  {
   "cell_type": "code",
   "execution_count": 76,
   "id": "d51a3208-6279-4692-96dc-935ce31ff711",
   "metadata": {},
   "outputs": [
    {
     "data": {
      "text/plain": [
       "Canada             40.500\n",
       "France             63.951\n",
       "Germany            80.940\n",
       "Italy              60.665\n",
       "Japan             127.061\n",
       "United Kingdom     64.511\n",
       "United States     500.000\n",
       "Name: G7 Population in Millions, dtype: float64"
      ]
     },
     "execution_count": 76,
     "metadata": {},
     "output_type": "execute_result"
    }
   ],
   "source": [
    "g7_pop"
   ]
  },
  {
   "cell_type": "code",
   "execution_count": 77,
   "id": "5980fc2b-ed58-4962-a052-f56bf0ba82ce",
   "metadata": {},
   "outputs": [],
   "source": [
    "g7_pop[g7_pop < 70] = 99.99"
   ]
  },
  {
   "cell_type": "code",
   "execution_count": 78,
   "id": "10069301-847f-42a6-b831-af927f57c3bc",
   "metadata": {},
   "outputs": [
    {
     "data": {
      "text/plain": [
       "Canada             99.990\n",
       "France             99.990\n",
       "Germany            80.940\n",
       "Italy              99.990\n",
       "Japan             127.061\n",
       "United Kingdom     99.990\n",
       "United States     500.000\n",
       "Name: G7 Population in Millions, dtype: float64"
      ]
     },
     "execution_count": 78,
     "metadata": {},
     "output_type": "execute_result"
    }
   ],
   "source": [
    "g7_pop"
   ]
  },
  {
   "cell_type": "markdown",
   "id": "2a31b1c4-bd2a-4e68-b9b9-c4578088ca35",
   "metadata": {},
   "source": [
    "### Data Frames\n",
    "Similar in nature to a table, i.e. a section of an excel docuent."
   ]
  },
  {
   "cell_type": "markdown",
   "id": "ab742307-10e7-47c9-9a8c-b6f7b3afd2eb",
   "metadata": {},
   "source": [
    "**ISSUE:** Cannot add string to the dataframe?"
   ]
  },
  {
   "cell_type": "code",
   "execution_count": 87,
   "id": "a8917474-8c41-4b8b-8ea0-79b05d38f20a",
   "metadata": {},
   "outputs": [],
   "source": [
    "df = pd.DataFrame({\n",
    "    'Population': [35.467, 63.951, 80.94, 60.655, 127.061, 64.511, 318.523],\n",
    "    'GDP': [\n",
    "        1785387,\n",
    "        2833687,\n",
    "        3874437,\n",
    "        2167744,\n",
    "        4602367,\n",
    "        2950039,\n",
    "        17348075\n",
    "    ],\n",
    "    'Surface Area': [\n",
    "        9984670,\n",
    "        640679,\n",
    "        357114,\n",
    "        301336,\n",
    "        377930,\n",
    "        242495,\n",
    "        9525067\n",
    "    ],\n",
    "    'HDI':[\n",
    "        0.913,\n",
    "        0.888,\n",
    "        0.916,\n",
    "        0.873,\n",
    "        0.891,\n",
    "        0.907,\n",
    "        0.915\n",
    "    ],\n",
    "    'Contient': [\n",
    "        'America',\n",
    "        'Europe',\n",
    "        'Europe',\n",
    "        'Europe',\n",
    "        'Asia',\n",
    "        'Europe',\n",
    "        'America'\n",
    "    ]\n",
    "}, columns=['Population','GDP','Surface Area','HDI','Continent'])"
   ]
  },
  {
   "cell_type": "code",
   "execution_count": 89,
   "id": "09227b38-823b-4118-b103-8ead61e191f8",
   "metadata": {},
   "outputs": [
    {
     "data": {
      "text/html": [
       "<div>\n",
       "<style scoped>\n",
       "    .dataframe tbody tr th:only-of-type {\n",
       "        vertical-align: middle;\n",
       "    }\n",
       "\n",
       "    .dataframe tbody tr th {\n",
       "        vertical-align: top;\n",
       "    }\n",
       "\n",
       "    .dataframe thead th {\n",
       "        text-align: right;\n",
       "    }\n",
       "</style>\n",
       "<table border=\"1\" class=\"dataframe\">\n",
       "  <thead>\n",
       "    <tr style=\"text-align: right;\">\n",
       "      <th></th>\n",
       "      <th>Population</th>\n",
       "      <th>GDP</th>\n",
       "      <th>Surface Area</th>\n",
       "      <th>HDI</th>\n",
       "      <th>Continent</th>\n",
       "    </tr>\n",
       "  </thead>\n",
       "  <tbody>\n",
       "    <tr>\n",
       "      <th>0</th>\n",
       "      <td>35.467</td>\n",
       "      <td>1785387</td>\n",
       "      <td>9984670</td>\n",
       "      <td>0.913</td>\n",
       "      <td>NaN</td>\n",
       "    </tr>\n",
       "    <tr>\n",
       "      <th>1</th>\n",
       "      <td>63.951</td>\n",
       "      <td>2833687</td>\n",
       "      <td>640679</td>\n",
       "      <td>0.888</td>\n",
       "      <td>NaN</td>\n",
       "    </tr>\n",
       "    <tr>\n",
       "      <th>2</th>\n",
       "      <td>80.940</td>\n",
       "      <td>3874437</td>\n",
       "      <td>357114</td>\n",
       "      <td>0.916</td>\n",
       "      <td>NaN</td>\n",
       "    </tr>\n",
       "    <tr>\n",
       "      <th>3</th>\n",
       "      <td>60.655</td>\n",
       "      <td>2167744</td>\n",
       "      <td>301336</td>\n",
       "      <td>0.873</td>\n",
       "      <td>NaN</td>\n",
       "    </tr>\n",
       "    <tr>\n",
       "      <th>4</th>\n",
       "      <td>127.061</td>\n",
       "      <td>4602367</td>\n",
       "      <td>377930</td>\n",
       "      <td>0.891</td>\n",
       "      <td>NaN</td>\n",
       "    </tr>\n",
       "    <tr>\n",
       "      <th>5</th>\n",
       "      <td>64.511</td>\n",
       "      <td>2950039</td>\n",
       "      <td>242495</td>\n",
       "      <td>0.907</td>\n",
       "      <td>NaN</td>\n",
       "    </tr>\n",
       "    <tr>\n",
       "      <th>6</th>\n",
       "      <td>318.523</td>\n",
       "      <td>17348075</td>\n",
       "      <td>9525067</td>\n",
       "      <td>0.915</td>\n",
       "      <td>NaN</td>\n",
       "    </tr>\n",
       "  </tbody>\n",
       "</table>\n",
       "</div>"
      ],
      "text/plain": [
       "   Population       GDP  Surface Area    HDI Continent\n",
       "0      35.467   1785387       9984670  0.913       NaN\n",
       "1      63.951   2833687        640679  0.888       NaN\n",
       "2      80.940   3874437        357114  0.916       NaN\n",
       "3      60.655   2167744        301336  0.873       NaN\n",
       "4     127.061   4602367        377930  0.891       NaN\n",
       "5      64.511   2950039        242495  0.907       NaN\n",
       "6     318.523  17348075       9525067  0.915       NaN"
      ]
     },
     "execution_count": 89,
     "metadata": {},
     "output_type": "execute_result"
    }
   ],
   "source": [
    "df"
   ]
  },
  {
   "cell_type": "code",
   "execution_count": 91,
   "id": "f28418c6-a732-4bc0-9686-2e3f1e6a0c22",
   "metadata": {},
   "outputs": [],
   "source": [
    "df.index = [\n",
    "    'Canada',\n",
    "    'France',\n",
    "    'Germany',\n",
    "    'Italy',\n",
    "    'Japan',\n",
    "    'United Kingdom',\n",
    "    'United States'\n",
    "]"
   ]
  },
  {
   "cell_type": "code",
   "execution_count": 92,
   "id": "464ebf0f-b303-467b-84e7-6c0fa2b45d06",
   "metadata": {},
   "outputs": [
    {
     "data": {
      "text/html": [
       "<div>\n",
       "<style scoped>\n",
       "    .dataframe tbody tr th:only-of-type {\n",
       "        vertical-align: middle;\n",
       "    }\n",
       "\n",
       "    .dataframe tbody tr th {\n",
       "        vertical-align: top;\n",
       "    }\n",
       "\n",
       "    .dataframe thead th {\n",
       "        text-align: right;\n",
       "    }\n",
       "</style>\n",
       "<table border=\"1\" class=\"dataframe\">\n",
       "  <thead>\n",
       "    <tr style=\"text-align: right;\">\n",
       "      <th></th>\n",
       "      <th>Population</th>\n",
       "      <th>GDP</th>\n",
       "      <th>Surface Area</th>\n",
       "      <th>HDI</th>\n",
       "      <th>Continent</th>\n",
       "    </tr>\n",
       "  </thead>\n",
       "  <tbody>\n",
       "    <tr>\n",
       "      <th>Canada</th>\n",
       "      <td>35.467</td>\n",
       "      <td>1785387</td>\n",
       "      <td>9984670</td>\n",
       "      <td>0.913</td>\n",
       "      <td>NaN</td>\n",
       "    </tr>\n",
       "    <tr>\n",
       "      <th>France</th>\n",
       "      <td>63.951</td>\n",
       "      <td>2833687</td>\n",
       "      <td>640679</td>\n",
       "      <td>0.888</td>\n",
       "      <td>NaN</td>\n",
       "    </tr>\n",
       "    <tr>\n",
       "      <th>Germany</th>\n",
       "      <td>80.940</td>\n",
       "      <td>3874437</td>\n",
       "      <td>357114</td>\n",
       "      <td>0.916</td>\n",
       "      <td>NaN</td>\n",
       "    </tr>\n",
       "    <tr>\n",
       "      <th>Italy</th>\n",
       "      <td>60.655</td>\n",
       "      <td>2167744</td>\n",
       "      <td>301336</td>\n",
       "      <td>0.873</td>\n",
       "      <td>NaN</td>\n",
       "    </tr>\n",
       "    <tr>\n",
       "      <th>Japan</th>\n",
       "      <td>127.061</td>\n",
       "      <td>4602367</td>\n",
       "      <td>377930</td>\n",
       "      <td>0.891</td>\n",
       "      <td>NaN</td>\n",
       "    </tr>\n",
       "    <tr>\n",
       "      <th>United Kingdom</th>\n",
       "      <td>64.511</td>\n",
       "      <td>2950039</td>\n",
       "      <td>242495</td>\n",
       "      <td>0.907</td>\n",
       "      <td>NaN</td>\n",
       "    </tr>\n",
       "    <tr>\n",
       "      <th>United States</th>\n",
       "      <td>318.523</td>\n",
       "      <td>17348075</td>\n",
       "      <td>9525067</td>\n",
       "      <td>0.915</td>\n",
       "      <td>NaN</td>\n",
       "    </tr>\n",
       "  </tbody>\n",
       "</table>\n",
       "</div>"
      ],
      "text/plain": [
       "                Population       GDP  Surface Area    HDI Continent\n",
       "Canada              35.467   1785387       9984670  0.913       NaN\n",
       "France              63.951   2833687        640679  0.888       NaN\n",
       "Germany             80.940   3874437        357114  0.916       NaN\n",
       "Italy               60.655   2167744        301336  0.873       NaN\n",
       "Japan              127.061   4602367        377930  0.891       NaN\n",
       "United Kingdom      64.511   2950039        242495  0.907       NaN\n",
       "United States      318.523  17348075       9525067  0.915       NaN"
      ]
     },
     "execution_count": 92,
     "metadata": {},
     "output_type": "execute_result"
    }
   ],
   "source": [
    "df"
   ]
  },
  {
   "cell_type": "code",
   "execution_count": 95,
   "id": "dc511163-309d-480d-bd87-0e48e07e9c3c",
   "metadata": {},
   "outputs": [],
   "source": [
    "continent_list = ['America','Europe','Europe','Europe','Asia','Europe','America']\n",
    "df['Continent'] = continent_list"
   ]
  },
  {
   "cell_type": "code",
   "execution_count": 96,
   "id": "6e951925-0812-4ce0-89ca-5463dd29230e",
   "metadata": {},
   "outputs": [
    {
     "data": {
      "text/html": [
       "<div>\n",
       "<style scoped>\n",
       "    .dataframe tbody tr th:only-of-type {\n",
       "        vertical-align: middle;\n",
       "    }\n",
       "\n",
       "    .dataframe tbody tr th {\n",
       "        vertical-align: top;\n",
       "    }\n",
       "\n",
       "    .dataframe thead th {\n",
       "        text-align: right;\n",
       "    }\n",
       "</style>\n",
       "<table border=\"1\" class=\"dataframe\">\n",
       "  <thead>\n",
       "    <tr style=\"text-align: right;\">\n",
       "      <th></th>\n",
       "      <th>Population</th>\n",
       "      <th>GDP</th>\n",
       "      <th>Surface Area</th>\n",
       "      <th>HDI</th>\n",
       "      <th>Continent</th>\n",
       "    </tr>\n",
       "  </thead>\n",
       "  <tbody>\n",
       "    <tr>\n",
       "      <th>Canada</th>\n",
       "      <td>35.467</td>\n",
       "      <td>1785387</td>\n",
       "      <td>9984670</td>\n",
       "      <td>0.913</td>\n",
       "      <td>America</td>\n",
       "    </tr>\n",
       "    <tr>\n",
       "      <th>France</th>\n",
       "      <td>63.951</td>\n",
       "      <td>2833687</td>\n",
       "      <td>640679</td>\n",
       "      <td>0.888</td>\n",
       "      <td>Europe</td>\n",
       "    </tr>\n",
       "    <tr>\n",
       "      <th>Germany</th>\n",
       "      <td>80.940</td>\n",
       "      <td>3874437</td>\n",
       "      <td>357114</td>\n",
       "      <td>0.916</td>\n",
       "      <td>Europe</td>\n",
       "    </tr>\n",
       "    <tr>\n",
       "      <th>Italy</th>\n",
       "      <td>60.655</td>\n",
       "      <td>2167744</td>\n",
       "      <td>301336</td>\n",
       "      <td>0.873</td>\n",
       "      <td>Europe</td>\n",
       "    </tr>\n",
       "    <tr>\n",
       "      <th>Japan</th>\n",
       "      <td>127.061</td>\n",
       "      <td>4602367</td>\n",
       "      <td>377930</td>\n",
       "      <td>0.891</td>\n",
       "      <td>Asia</td>\n",
       "    </tr>\n",
       "    <tr>\n",
       "      <th>United Kingdom</th>\n",
       "      <td>64.511</td>\n",
       "      <td>2950039</td>\n",
       "      <td>242495</td>\n",
       "      <td>0.907</td>\n",
       "      <td>Europe</td>\n",
       "    </tr>\n",
       "    <tr>\n",
       "      <th>United States</th>\n",
       "      <td>318.523</td>\n",
       "      <td>17348075</td>\n",
       "      <td>9525067</td>\n",
       "      <td>0.915</td>\n",
       "      <td>America</td>\n",
       "    </tr>\n",
       "  </tbody>\n",
       "</table>\n",
       "</div>"
      ],
      "text/plain": [
       "                Population       GDP  Surface Area    HDI Continent\n",
       "Canada              35.467   1785387       9984670  0.913   America\n",
       "France              63.951   2833687        640679  0.888    Europe\n",
       "Germany             80.940   3874437        357114  0.916    Europe\n",
       "Italy               60.655   2167744        301336  0.873    Europe\n",
       "Japan              127.061   4602367        377930  0.891      Asia\n",
       "United Kingdom      64.511   2950039        242495  0.907    Europe\n",
       "United States      318.523  17348075       9525067  0.915   America"
      ]
     },
     "execution_count": 96,
     "metadata": {},
     "output_type": "execute_result"
    }
   ],
   "source": [
    "df"
   ]
  },
  {
   "cell_type": "code",
   "execution_count": 97,
   "id": "748c82c5-9ec8-400a-bc6e-1ac2f226cc1b",
   "metadata": {},
   "outputs": [
    {
     "data": {
      "text/plain": [
       "Index(['Population', 'GDP', 'Surface Area', 'HDI', 'Continent'], dtype='object')"
      ]
     },
     "execution_count": 97,
     "metadata": {},
     "output_type": "execute_result"
    }
   ],
   "source": [
    "df.columns"
   ]
  },
  {
   "cell_type": "code",
   "execution_count": 98,
   "id": "9b966888-9a24-4964-b49f-0ffc0e730163",
   "metadata": {},
   "outputs": [
    {
     "data": {
      "text/plain": [
       "Index(['Canada', 'France', 'Germany', 'Italy', 'Japan', 'United Kingdom',\n",
       "       'United States'],\n",
       "      dtype='object')"
      ]
     },
     "execution_count": 98,
     "metadata": {},
     "output_type": "execute_result"
    }
   ],
   "source": [
    "df.index"
   ]
  },
  {
   "cell_type": "code",
   "execution_count": 99,
   "id": "9824b1ee-a67c-422c-ac38-3b82f4c7bbaf",
   "metadata": {},
   "outputs": [
    {
     "name": "stdout",
     "output_type": "stream",
     "text": [
      "<class 'pandas.core.frame.DataFrame'>\n",
      "Index: 7 entries, Canada to United States\n",
      "Data columns (total 5 columns):\n",
      " #   Column        Non-Null Count  Dtype  \n",
      "---  ------        --------------  -----  \n",
      " 0   Population    7 non-null      float64\n",
      " 1   GDP           7 non-null      int64  \n",
      " 2   Surface Area  7 non-null      int64  \n",
      " 3   HDI           7 non-null      float64\n",
      " 4   Continent     7 non-null      object \n",
      "dtypes: float64(2), int64(2), object(1)\n",
      "memory usage: 336.0+ bytes\n"
     ]
    }
   ],
   "source": [
    "df.info()"
   ]
  },
  {
   "cell_type": "code",
   "execution_count": 100,
   "id": "37c0c210-f22c-43c5-941c-3868072a3389",
   "metadata": {},
   "outputs": [
    {
     "data": {
      "text/plain": [
       "35"
      ]
     },
     "execution_count": 100,
     "metadata": {},
     "output_type": "execute_result"
    }
   ],
   "source": [
    "df.size"
   ]
  },
  {
   "cell_type": "code",
   "execution_count": 101,
   "id": "2b3e83c6-6b68-474a-a0f8-924a2c19042e",
   "metadata": {},
   "outputs": [
    {
     "data": {
      "text/plain": [
       "(7, 5)"
      ]
     },
     "execution_count": 101,
     "metadata": {},
     "output_type": "execute_result"
    }
   ],
   "source": [
    "df.shape"
   ]
  },
  {
   "cell_type": "code",
   "execution_count": 102,
   "id": "e324a0e3-29e3-416f-a965-ffd9284f5e35",
   "metadata": {},
   "outputs": [
    {
     "data": {
      "text/html": [
       "<div>\n",
       "<style scoped>\n",
       "    .dataframe tbody tr th:only-of-type {\n",
       "        vertical-align: middle;\n",
       "    }\n",
       "\n",
       "    .dataframe tbody tr th {\n",
       "        vertical-align: top;\n",
       "    }\n",
       "\n",
       "    .dataframe thead th {\n",
       "        text-align: right;\n",
       "    }\n",
       "</style>\n",
       "<table border=\"1\" class=\"dataframe\">\n",
       "  <thead>\n",
       "    <tr style=\"text-align: right;\">\n",
       "      <th></th>\n",
       "      <th>Population</th>\n",
       "      <th>GDP</th>\n",
       "      <th>Surface Area</th>\n",
       "      <th>HDI</th>\n",
       "    </tr>\n",
       "  </thead>\n",
       "  <tbody>\n",
       "    <tr>\n",
       "      <th>count</th>\n",
       "      <td>7.000000</td>\n",
       "      <td>7.000000e+00</td>\n",
       "      <td>7.000000e+00</td>\n",
       "      <td>7.000000</td>\n",
       "    </tr>\n",
       "    <tr>\n",
       "      <th>mean</th>\n",
       "      <td>107.301143</td>\n",
       "      <td>5.080248e+06</td>\n",
       "      <td>3.061327e+06</td>\n",
       "      <td>0.900429</td>\n",
       "    </tr>\n",
       "    <tr>\n",
       "      <th>std</th>\n",
       "      <td>97.250769</td>\n",
       "      <td>5.494020e+06</td>\n",
       "      <td>4.576187e+06</td>\n",
       "      <td>0.016592</td>\n",
       "    </tr>\n",
       "    <tr>\n",
       "      <th>min</th>\n",
       "      <td>35.467000</td>\n",
       "      <td>1.785387e+06</td>\n",
       "      <td>2.424950e+05</td>\n",
       "      <td>0.873000</td>\n",
       "    </tr>\n",
       "    <tr>\n",
       "      <th>25%</th>\n",
       "      <td>62.303000</td>\n",
       "      <td>2.500716e+06</td>\n",
       "      <td>3.292250e+05</td>\n",
       "      <td>0.889500</td>\n",
       "    </tr>\n",
       "    <tr>\n",
       "      <th>50%</th>\n",
       "      <td>64.511000</td>\n",
       "      <td>2.950039e+06</td>\n",
       "      <td>3.779300e+05</td>\n",
       "      <td>0.907000</td>\n",
       "    </tr>\n",
       "    <tr>\n",
       "      <th>75%</th>\n",
       "      <td>104.000500</td>\n",
       "      <td>4.238402e+06</td>\n",
       "      <td>5.082873e+06</td>\n",
       "      <td>0.914000</td>\n",
       "    </tr>\n",
       "    <tr>\n",
       "      <th>max</th>\n",
       "      <td>318.523000</td>\n",
       "      <td>1.734808e+07</td>\n",
       "      <td>9.984670e+06</td>\n",
       "      <td>0.916000</td>\n",
       "    </tr>\n",
       "  </tbody>\n",
       "</table>\n",
       "</div>"
      ],
      "text/plain": [
       "       Population           GDP  Surface Area       HDI\n",
       "count    7.000000  7.000000e+00  7.000000e+00  7.000000\n",
       "mean   107.301143  5.080248e+06  3.061327e+06  0.900429\n",
       "std     97.250769  5.494020e+06  4.576187e+06  0.016592\n",
       "min     35.467000  1.785387e+06  2.424950e+05  0.873000\n",
       "25%     62.303000  2.500716e+06  3.292250e+05  0.889500\n",
       "50%     64.511000  2.950039e+06  3.779300e+05  0.907000\n",
       "75%    104.000500  4.238402e+06  5.082873e+06  0.914000\n",
       "max    318.523000  1.734808e+07  9.984670e+06  0.916000"
      ]
     },
     "execution_count": 102,
     "metadata": {},
     "output_type": "execute_result"
    }
   ],
   "source": [
    "df.describe()"
   ]
  },
  {
   "cell_type": "code",
   "execution_count": 103,
   "id": "387ee49e-476d-4e4d-b6ae-259cd661ffd0",
   "metadata": {},
   "outputs": [
    {
     "data": {
      "text/plain": [
       "Population      float64\n",
       "GDP               int64\n",
       "Surface Area      int64\n",
       "HDI             float64\n",
       "Continent        object\n",
       "dtype: object"
      ]
     },
     "execution_count": 103,
     "metadata": {},
     "output_type": "execute_result"
    }
   ],
   "source": [
    "df.dtypes"
   ]
  },
  {
   "cell_type": "code",
   "execution_count": 105,
   "id": "863589cc-bd54-4f1f-8307-c9e1772c246e",
   "metadata": {},
   "outputs": [
    {
     "data": {
      "text/plain": [
       "float64    2\n",
       "int64      2\n",
       "object     1\n",
       "Name: count, dtype: int64"
      ]
     },
     "execution_count": 105,
     "metadata": {},
     "output_type": "execute_result"
    }
   ],
   "source": [
    "df.dtypes.value_counts()"
   ]
  },
  {
   "cell_type": "code",
   "execution_count": 106,
   "id": "e6c0bb58-a91d-4c3a-a7a9-7722ea243c37",
   "metadata": {},
   "outputs": [
    {
     "data": {
      "text/plain": [
       "Canada             35.467\n",
       "France             63.951\n",
       "Germany            80.940\n",
       "Italy              60.655\n",
       "Japan             127.061\n",
       "United Kingdom     64.511\n",
       "United States     318.523\n",
       "Name: Population, dtype: float64"
      ]
     },
     "execution_count": 106,
     "metadata": {},
     "output_type": "execute_result"
    }
   ],
   "source": [
    "df['Population']"
   ]
  },
  {
   "cell_type": "code",
   "execution_count": 107,
   "id": "855f3bba-65d7-477e-b645-b9dc469c16c9",
   "metadata": {},
   "outputs": [
    {
     "data": {
      "text/html": [
       "<div>\n",
       "<style scoped>\n",
       "    .dataframe tbody tr th:only-of-type {\n",
       "        vertical-align: middle;\n",
       "    }\n",
       "\n",
       "    .dataframe tbody tr th {\n",
       "        vertical-align: top;\n",
       "    }\n",
       "\n",
       "    .dataframe thead th {\n",
       "        text-align: right;\n",
       "    }\n",
       "</style>\n",
       "<table border=\"1\" class=\"dataframe\">\n",
       "  <thead>\n",
       "    <tr style=\"text-align: right;\">\n",
       "      <th></th>\n",
       "      <th>Population</th>\n",
       "    </tr>\n",
       "  </thead>\n",
       "  <tbody>\n",
       "    <tr>\n",
       "      <th>Canada</th>\n",
       "      <td>35.467</td>\n",
       "    </tr>\n",
       "    <tr>\n",
       "      <th>France</th>\n",
       "      <td>63.951</td>\n",
       "    </tr>\n",
       "    <tr>\n",
       "      <th>Germany</th>\n",
       "      <td>80.940</td>\n",
       "    </tr>\n",
       "    <tr>\n",
       "      <th>Italy</th>\n",
       "      <td>60.655</td>\n",
       "    </tr>\n",
       "    <tr>\n",
       "      <th>Japan</th>\n",
       "      <td>127.061</td>\n",
       "    </tr>\n",
       "    <tr>\n",
       "      <th>United Kingdom</th>\n",
       "      <td>64.511</td>\n",
       "    </tr>\n",
       "    <tr>\n",
       "      <th>United States</th>\n",
       "      <td>318.523</td>\n",
       "    </tr>\n",
       "  </tbody>\n",
       "</table>\n",
       "</div>"
      ],
      "text/plain": [
       "                Population\n",
       "Canada              35.467\n",
       "France              63.951\n",
       "Germany             80.940\n",
       "Italy               60.655\n",
       "Japan              127.061\n",
       "United Kingdom      64.511\n",
       "United States      318.523"
      ]
     },
     "execution_count": 107,
     "metadata": {},
     "output_type": "execute_result"
    }
   ],
   "source": [
    "df['Population'].to_frame()"
   ]
  },
  {
   "cell_type": "code",
   "execution_count": 108,
   "id": "1c15020d-27db-4b06-98fd-f3f742498eb6",
   "metadata": {},
   "outputs": [
    {
     "data": {
      "text/html": [
       "<div>\n",
       "<style scoped>\n",
       "    .dataframe tbody tr th:only-of-type {\n",
       "        vertical-align: middle;\n",
       "    }\n",
       "\n",
       "    .dataframe tbody tr th {\n",
       "        vertical-align: top;\n",
       "    }\n",
       "\n",
       "    .dataframe thead th {\n",
       "        text-align: right;\n",
       "    }\n",
       "</style>\n",
       "<table border=\"1\" class=\"dataframe\">\n",
       "  <thead>\n",
       "    <tr style=\"text-align: right;\">\n",
       "      <th></th>\n",
       "      <th>Population</th>\n",
       "      <th>GDP</th>\n",
       "    </tr>\n",
       "  </thead>\n",
       "  <tbody>\n",
       "    <tr>\n",
       "      <th>Canada</th>\n",
       "      <td>35.467</td>\n",
       "      <td>1785387</td>\n",
       "    </tr>\n",
       "    <tr>\n",
       "      <th>France</th>\n",
       "      <td>63.951</td>\n",
       "      <td>2833687</td>\n",
       "    </tr>\n",
       "    <tr>\n",
       "      <th>Germany</th>\n",
       "      <td>80.940</td>\n",
       "      <td>3874437</td>\n",
       "    </tr>\n",
       "    <tr>\n",
       "      <th>Italy</th>\n",
       "      <td>60.655</td>\n",
       "      <td>2167744</td>\n",
       "    </tr>\n",
       "    <tr>\n",
       "      <th>Japan</th>\n",
       "      <td>127.061</td>\n",
       "      <td>4602367</td>\n",
       "    </tr>\n",
       "    <tr>\n",
       "      <th>United Kingdom</th>\n",
       "      <td>64.511</td>\n",
       "      <td>2950039</td>\n",
       "    </tr>\n",
       "    <tr>\n",
       "      <th>United States</th>\n",
       "      <td>318.523</td>\n",
       "      <td>17348075</td>\n",
       "    </tr>\n",
       "  </tbody>\n",
       "</table>\n",
       "</div>"
      ],
      "text/plain": [
       "                Population       GDP\n",
       "Canada              35.467   1785387\n",
       "France              63.951   2833687\n",
       "Germany             80.940   3874437\n",
       "Italy               60.655   2167744\n",
       "Japan              127.061   4602367\n",
       "United Kingdom      64.511   2950039\n",
       "United States      318.523  17348075"
      ]
     },
     "execution_count": 108,
     "metadata": {},
     "output_type": "execute_result"
    }
   ],
   "source": [
    "df[['Population','GDP']]"
   ]
  },
  {
   "cell_type": "code",
   "execution_count": 109,
   "id": "282a3ae1-becc-47fd-84bd-e2c7cc353d24",
   "metadata": {},
   "outputs": [
    {
     "data": {
      "text/html": [
       "<div>\n",
       "<style scoped>\n",
       "    .dataframe tbody tr th:only-of-type {\n",
       "        vertical-align: middle;\n",
       "    }\n",
       "\n",
       "    .dataframe tbody tr th {\n",
       "        vertical-align: top;\n",
       "    }\n",
       "\n",
       "    .dataframe thead th {\n",
       "        text-align: right;\n",
       "    }\n",
       "</style>\n",
       "<table border=\"1\" class=\"dataframe\">\n",
       "  <thead>\n",
       "    <tr style=\"text-align: right;\">\n",
       "      <th></th>\n",
       "      <th>Population</th>\n",
       "      <th>GDP</th>\n",
       "      <th>Surface Area</th>\n",
       "      <th>HDI</th>\n",
       "      <th>Continent</th>\n",
       "    </tr>\n",
       "  </thead>\n",
       "  <tbody>\n",
       "    <tr>\n",
       "      <th>France</th>\n",
       "      <td>63.951</td>\n",
       "      <td>2833687</td>\n",
       "      <td>640679</td>\n",
       "      <td>0.888</td>\n",
       "      <td>Europe</td>\n",
       "    </tr>\n",
       "    <tr>\n",
       "      <th>Germany</th>\n",
       "      <td>80.940</td>\n",
       "      <td>3874437</td>\n",
       "      <td>357114</td>\n",
       "      <td>0.916</td>\n",
       "      <td>Europe</td>\n",
       "    </tr>\n",
       "  </tbody>\n",
       "</table>\n",
       "</div>"
      ],
      "text/plain": [
       "         Population      GDP  Surface Area    HDI Continent\n",
       "France       63.951  2833687        640679  0.888    Europe\n",
       "Germany      80.940  3874437        357114  0.916    Europe"
      ]
     },
     "execution_count": 109,
     "metadata": {},
     "output_type": "execute_result"
    }
   ],
   "source": [
    "df[1:3]"
   ]
  },
  {
   "cell_type": "markdown",
   "id": "f381ff1c-1032-409f-906b-26ced303e909",
   "metadata": {},
   "source": [
    "Slice operates as default python slicing (e.g. num.3 is missing)"
   ]
  },
  {
   "cell_type": "code",
   "execution_count": 111,
   "id": "783a43d1-2635-4bb5-962e-7309f5a2b1c5",
   "metadata": {},
   "outputs": [
    {
     "data": {
      "text/html": [
       "<div>\n",
       "<style scoped>\n",
       "    .dataframe tbody tr th:only-of-type {\n",
       "        vertical-align: middle;\n",
       "    }\n",
       "\n",
       "    .dataframe tbody tr th {\n",
       "        vertical-align: top;\n",
       "    }\n",
       "\n",
       "    .dataframe thead th {\n",
       "        text-align: right;\n",
       "    }\n",
       "</style>\n",
       "<table border=\"1\" class=\"dataframe\">\n",
       "  <thead>\n",
       "    <tr style=\"text-align: right;\">\n",
       "      <th></th>\n",
       "      <th>Population</th>\n",
       "      <th>GDP</th>\n",
       "      <th>Surface Area</th>\n",
       "      <th>HDI</th>\n",
       "      <th>Continent</th>\n",
       "    </tr>\n",
       "  </thead>\n",
       "  <tbody>\n",
       "    <tr>\n",
       "      <th>France</th>\n",
       "      <td>63.951</td>\n",
       "      <td>2833687</td>\n",
       "      <td>640679</td>\n",
       "      <td>0.888</td>\n",
       "      <td>Europe</td>\n",
       "    </tr>\n",
       "    <tr>\n",
       "      <th>Germany</th>\n",
       "      <td>80.940</td>\n",
       "      <td>3874437</td>\n",
       "      <td>357114</td>\n",
       "      <td>0.916</td>\n",
       "      <td>Europe</td>\n",
       "    </tr>\n",
       "  </tbody>\n",
       "</table>\n",
       "</div>"
      ],
      "text/plain": [
       "         Population      GDP  Surface Area    HDI Continent\n",
       "France       63.951  2833687        640679  0.888    Europe\n",
       "Germany      80.940  3874437        357114  0.916    Europe"
      ]
     },
     "execution_count": 111,
     "metadata": {},
     "output_type": "execute_result"
    }
   ],
   "source": [
    "df.iloc[1:3]"
   ]
  },
  {
   "cell_type": "code",
   "execution_count": 113,
   "id": "a41f71a0-0659-4e32-b647-daa04edcdfa2",
   "metadata": {},
   "outputs": [
    {
     "data": {
      "text/plain": [
       "Population       60.655\n",
       "GDP             2167744\n",
       "Surface Area     301336\n",
       "HDI               0.873\n",
       "Continent        Europe\n",
       "Name: Italy, dtype: object"
      ]
     },
     "execution_count": 113,
     "metadata": {},
     "output_type": "execute_result"
    }
   ],
   "source": [
    "df.loc['Italy']"
   ]
  },
  {
   "cell_type": "code",
   "execution_count": 114,
   "id": "72f03085-f864-447c-9c7f-8131be845a1a",
   "metadata": {},
   "outputs": [
    {
     "data": {
      "text/html": [
       "<div>\n",
       "<style scoped>\n",
       "    .dataframe tbody tr th:only-of-type {\n",
       "        vertical-align: middle;\n",
       "    }\n",
       "\n",
       "    .dataframe tbody tr th {\n",
       "        vertical-align: top;\n",
       "    }\n",
       "\n",
       "    .dataframe thead th {\n",
       "        text-align: right;\n",
       "    }\n",
       "</style>\n",
       "<table border=\"1\" class=\"dataframe\">\n",
       "  <thead>\n",
       "    <tr style=\"text-align: right;\">\n",
       "      <th></th>\n",
       "      <th>Population</th>\n",
       "      <th>GDP</th>\n",
       "      <th>Surface Area</th>\n",
       "      <th>HDI</th>\n",
       "      <th>Continent</th>\n",
       "    </tr>\n",
       "  </thead>\n",
       "  <tbody>\n",
       "    <tr>\n",
       "      <th>France</th>\n",
       "      <td>63.951</td>\n",
       "      <td>2833687</td>\n",
       "      <td>640679</td>\n",
       "      <td>0.888</td>\n",
       "      <td>Europe</td>\n",
       "    </tr>\n",
       "    <tr>\n",
       "      <th>Germany</th>\n",
       "      <td>80.940</td>\n",
       "      <td>3874437</td>\n",
       "      <td>357114</td>\n",
       "      <td>0.916</td>\n",
       "      <td>Europe</td>\n",
       "    </tr>\n",
       "    <tr>\n",
       "      <th>Italy</th>\n",
       "      <td>60.655</td>\n",
       "      <td>2167744</td>\n",
       "      <td>301336</td>\n",
       "      <td>0.873</td>\n",
       "      <td>Europe</td>\n",
       "    </tr>\n",
       "  </tbody>\n",
       "</table>\n",
       "</div>"
      ],
      "text/plain": [
       "         Population      GDP  Surface Area    HDI Continent\n",
       "France       63.951  2833687        640679  0.888    Europe\n",
       "Germany      80.940  3874437        357114  0.916    Europe\n",
       "Italy        60.655  2167744        301336  0.873    Europe"
      ]
     },
     "execution_count": 114,
     "metadata": {},
     "output_type": "execute_result"
    }
   ],
   "source": [
    "df.loc['France':'Italy']"
   ]
  },
  {
   "cell_type": "code",
   "execution_count": 115,
   "id": "a6aeee4d-a9fc-4e81-9a3b-9f8a6888905d",
   "metadata": {},
   "outputs": [
    {
     "data": {
      "text/html": [
       "<div>\n",
       "<style scoped>\n",
       "    .dataframe tbody tr th:only-of-type {\n",
       "        vertical-align: middle;\n",
       "    }\n",
       "\n",
       "    .dataframe tbody tr th {\n",
       "        vertical-align: top;\n",
       "    }\n",
       "\n",
       "    .dataframe thead th {\n",
       "        text-align: right;\n",
       "    }\n",
       "</style>\n",
       "<table border=\"1\" class=\"dataframe\">\n",
       "  <thead>\n",
       "    <tr style=\"text-align: right;\">\n",
       "      <th></th>\n",
       "      <th>Population</th>\n",
       "      <th>GDP</th>\n",
       "      <th>Surface Area</th>\n",
       "      <th>HDI</th>\n",
       "      <th>Continent</th>\n",
       "    </tr>\n",
       "  </thead>\n",
       "  <tbody>\n",
       "  </tbody>\n",
       "</table>\n",
       "</div>"
      ],
      "text/plain": [
       "Empty DataFrame\n",
       "Columns: [Population, GDP, Surface Area, HDI, Continent]\n",
       "Index: []"
      ]
     },
     "execution_count": 115,
     "metadata": {},
     "output_type": "execute_result"
    }
   ],
   "source": [
    "df.loc['Italy':'France']"
   ]
  },
  {
   "cell_type": "code",
   "execution_count": 116,
   "id": "391ff4d9-bc7d-4133-a6a0-d06535478e44",
   "metadata": {},
   "outputs": [
    {
     "data": {
      "text/plain": [
       "France     63.951\n",
       "Germany    80.940\n",
       "Italy      60.655\n",
       "Name: Population, dtype: float64"
      ]
     },
     "execution_count": 116,
     "metadata": {},
     "output_type": "execute_result"
    }
   ],
   "source": [
    "df.loc['France':'Italy','Population']"
   ]
  },
  {
   "cell_type": "code",
   "execution_count": 117,
   "id": "b2477f16-5ae0-4ce9-b8fa-d3242c6b8f69",
   "metadata": {},
   "outputs": [
    {
     "data": {
      "text/html": [
       "<div>\n",
       "<style scoped>\n",
       "    .dataframe tbody tr th:only-of-type {\n",
       "        vertical-align: middle;\n",
       "    }\n",
       "\n",
       "    .dataframe tbody tr th {\n",
       "        vertical-align: top;\n",
       "    }\n",
       "\n",
       "    .dataframe thead th {\n",
       "        text-align: right;\n",
       "    }\n",
       "</style>\n",
       "<table border=\"1\" class=\"dataframe\">\n",
       "  <thead>\n",
       "    <tr style=\"text-align: right;\">\n",
       "      <th></th>\n",
       "      <th>Population</th>\n",
       "      <th>GDP</th>\n",
       "    </tr>\n",
       "  </thead>\n",
       "  <tbody>\n",
       "    <tr>\n",
       "      <th>France</th>\n",
       "      <td>63.951</td>\n",
       "      <td>2833687</td>\n",
       "    </tr>\n",
       "    <tr>\n",
       "      <th>Germany</th>\n",
       "      <td>80.940</td>\n",
       "      <td>3874437</td>\n",
       "    </tr>\n",
       "    <tr>\n",
       "      <th>Italy</th>\n",
       "      <td>60.655</td>\n",
       "      <td>2167744</td>\n",
       "    </tr>\n",
       "  </tbody>\n",
       "</table>\n",
       "</div>"
      ],
      "text/plain": [
       "         Population      GDP\n",
       "France       63.951  2833687\n",
       "Germany      80.940  3874437\n",
       "Italy        60.655  2167744"
      ]
     },
     "execution_count": 117,
     "metadata": {},
     "output_type": "execute_result"
    }
   ],
   "source": [
    "df.loc['France':'Italy',['Population','GDP']]"
   ]
  },
  {
   "cell_type": "markdown",
   "id": "a7292b7a-cadc-49df-8915-70ce85507423",
   "metadata": {},
   "source": [
    "data frame: select by index via loc, gives row.  \n",
    "select by [''] will give a column"
   ]
  },
  {
   "cell_type": "code",
   "execution_count": 118,
   "id": "3b35b25f-589f-4281-b9c0-6ea0b2f5a1d9",
   "metadata": {},
   "outputs": [
    {
     "data": {
      "text/plain": [
       "Population       35.467\n",
       "GDP             1785387\n",
       "Surface Area    9984670\n",
       "HDI               0.913\n",
       "Continent       America\n",
       "Name: Canada, dtype: object"
      ]
     },
     "execution_count": 118,
     "metadata": {},
     "output_type": "execute_result"
    }
   ],
   "source": [
    "df.loc['Canada']"
   ]
  },
  {
   "cell_type": "code",
   "execution_count": 119,
   "id": "6c1cdb65-a06a-4b67-b0b5-82b6da9496d5",
   "metadata": {},
   "outputs": [
    {
     "data": {
      "text/plain": [
       "Population       318.523\n",
       "GDP             17348075\n",
       "Surface Area     9525067\n",
       "HDI                0.915\n",
       "Continent        America\n",
       "Name: United States, dtype: object"
      ]
     },
     "execution_count": 119,
     "metadata": {},
     "output_type": "execute_result"
    }
   ],
   "source": [
    "df.iloc[-1]"
   ]
  },
  {
   "cell_type": "code",
   "execution_count": 120,
   "id": "f66060d8-a750-4a72-ba4e-a08e0f3bdf45",
   "metadata": {},
   "outputs": [
    {
     "data": {
      "text/plain": [
       "Canada            9984670\n",
       "France             640679\n",
       "Germany            357114\n",
       "Italy              301336\n",
       "Japan              377930\n",
       "United Kingdom     242495\n",
       "United States     9525067\n",
       "Name: Surface Area, dtype: int64"
      ]
     },
     "execution_count": 120,
     "metadata": {},
     "output_type": "execute_result"
    }
   ],
   "source": [
    "df['Surface Area']"
   ]
  },
  {
   "cell_type": "code",
   "execution_count": 122,
   "id": "0db031f0-22a7-4577-adc9-49f9fbe0c6bf",
   "metadata": {},
   "outputs": [
    {
     "data": {
      "text/html": [
       "<div>\n",
       "<style scoped>\n",
       "    .dataframe tbody tr th:only-of-type {\n",
       "        vertical-align: middle;\n",
       "    }\n",
       "\n",
       "    .dataframe tbody tr th {\n",
       "        vertical-align: top;\n",
       "    }\n",
       "\n",
       "    .dataframe thead th {\n",
       "        text-align: right;\n",
       "    }\n",
       "</style>\n",
       "<table border=\"1\" class=\"dataframe\">\n",
       "  <thead>\n",
       "    <tr style=\"text-align: right;\">\n",
       "      <th></th>\n",
       "      <th>Population</th>\n",
       "      <th>GDP</th>\n",
       "      <th>Surface Area</th>\n",
       "      <th>HDI</th>\n",
       "      <th>Continent</th>\n",
       "    </tr>\n",
       "  </thead>\n",
       "  <tbody>\n",
       "    <tr>\n",
       "      <th>Canada</th>\n",
       "      <td>35.467</td>\n",
       "      <td>1785387</td>\n",
       "      <td>9984670</td>\n",
       "      <td>0.913</td>\n",
       "      <td>America</td>\n",
       "    </tr>\n",
       "    <tr>\n",
       "      <th>France</th>\n",
       "      <td>63.951</td>\n",
       "      <td>2833687</td>\n",
       "      <td>640679</td>\n",
       "      <td>0.888</td>\n",
       "      <td>Europe</td>\n",
       "    </tr>\n",
       "    <tr>\n",
       "      <th>United States</th>\n",
       "      <td>318.523</td>\n",
       "      <td>17348075</td>\n",
       "      <td>9525067</td>\n",
       "      <td>0.915</td>\n",
       "      <td>America</td>\n",
       "    </tr>\n",
       "  </tbody>\n",
       "</table>\n",
       "</div>"
      ],
      "text/plain": [
       "               Population       GDP  Surface Area    HDI Continent\n",
       "Canada             35.467   1785387       9984670  0.913   America\n",
       "France             63.951   2833687        640679  0.888    Europe\n",
       "United States     318.523  17348075       9525067  0.915   America"
      ]
     },
     "execution_count": 122,
     "metadata": {},
     "output_type": "execute_result"
    }
   ],
   "source": [
    "df.iloc[[0,1,-1]]"
   ]
  },
  {
   "cell_type": "code",
   "execution_count": 125,
   "id": "a20f70ee-77fa-4cd1-b6db-49e21355be40",
   "metadata": {},
   "outputs": [
    {
     "data": {
      "text/html": [
       "<div>\n",
       "<style scoped>\n",
       "    .dataframe tbody tr th:only-of-type {\n",
       "        vertical-align: middle;\n",
       "    }\n",
       "\n",
       "    .dataframe tbody tr th {\n",
       "        vertical-align: top;\n",
       "    }\n",
       "\n",
       "    .dataframe thead th {\n",
       "        text-align: right;\n",
       "    }\n",
       "</style>\n",
       "<table border=\"1\" class=\"dataframe\">\n",
       "  <thead>\n",
       "    <tr style=\"text-align: right;\">\n",
       "      <th></th>\n",
       "      <th>Population</th>\n",
       "      <th>GDP</th>\n",
       "      <th>Surface Area</th>\n",
       "      <th>HDI</th>\n",
       "      <th>Continent</th>\n",
       "    </tr>\n",
       "  </thead>\n",
       "  <tbody>\n",
       "    <tr>\n",
       "      <th>France</th>\n",
       "      <td>63.951</td>\n",
       "      <td>2833687</td>\n",
       "      <td>640679</td>\n",
       "      <td>0.888</td>\n",
       "      <td>Europe</td>\n",
       "    </tr>\n",
       "    <tr>\n",
       "      <th>Germany</th>\n",
       "      <td>80.940</td>\n",
       "      <td>3874437</td>\n",
       "      <td>357114</td>\n",
       "      <td>0.916</td>\n",
       "      <td>Europe</td>\n",
       "    </tr>\n",
       "  </tbody>\n",
       "</table>\n",
       "</div>"
      ],
      "text/plain": [
       "         Population      GDP  Surface Area    HDI Continent\n",
       "France       63.951  2833687        640679  0.888    Europe\n",
       "Germany      80.940  3874437        357114  0.916    Europe"
      ]
     },
     "execution_count": 125,
     "metadata": {},
     "output_type": "execute_result"
    }
   ],
   "source": [
    "df.iloc[1:3]"
   ]
  },
  {
   "cell_type": "code",
   "execution_count": 126,
   "id": "69ee29e7-675f-4d5a-89d8-3e648fddc70f",
   "metadata": {},
   "outputs": [
    {
     "data": {
      "text/plain": [
       "France     0.888\n",
       "Germany    0.916\n",
       "Name: HDI, dtype: float64"
      ]
     },
     "execution_count": 126,
     "metadata": {},
     "output_type": "execute_result"
    }
   ],
   "source": [
    "df.iloc[1:3,3]"
   ]
  },
  {
   "cell_type": "markdown",
   "id": "b4ca9fcb-9b48-4119-a37e-1b6dd83c519e",
   "metadata": {},
   "source": [
    "### Conditional Selection"
   ]
  },
  {
   "cell_type": "code",
   "execution_count": 128,
   "id": "c14c73ff-0723-4bfc-a788-4a60416824c8",
   "metadata": {},
   "outputs": [
    {
     "data": {
      "text/plain": [
       "Canada            False\n",
       "France            False\n",
       "Germany            True\n",
       "Italy             False\n",
       "Japan              True\n",
       "United Kingdom    False\n",
       "United States      True\n",
       "Name: Population, dtype: bool"
      ]
     },
     "execution_count": 128,
     "metadata": {},
     "output_type": "execute_result"
    }
   ],
   "source": [
    "df['Population']>70"
   ]
  },
  {
   "cell_type": "code",
   "execution_count": 129,
   "id": "f3ea8a09-2002-4031-a791-ace8af86bda6",
   "metadata": {},
   "outputs": [
    {
     "data": {
      "text/html": [
       "<div>\n",
       "<style scoped>\n",
       "    .dataframe tbody tr th:only-of-type {\n",
       "        vertical-align: middle;\n",
       "    }\n",
       "\n",
       "    .dataframe tbody tr th {\n",
       "        vertical-align: top;\n",
       "    }\n",
       "\n",
       "    .dataframe thead th {\n",
       "        text-align: right;\n",
       "    }\n",
       "</style>\n",
       "<table border=\"1\" class=\"dataframe\">\n",
       "  <thead>\n",
       "    <tr style=\"text-align: right;\">\n",
       "      <th></th>\n",
       "      <th>Population</th>\n",
       "      <th>GDP</th>\n",
       "      <th>Surface Area</th>\n",
       "      <th>HDI</th>\n",
       "      <th>Continent</th>\n",
       "    </tr>\n",
       "  </thead>\n",
       "  <tbody>\n",
       "    <tr>\n",
       "      <th>Germany</th>\n",
       "      <td>80.940</td>\n",
       "      <td>3874437</td>\n",
       "      <td>357114</td>\n",
       "      <td>0.916</td>\n",
       "      <td>Europe</td>\n",
       "    </tr>\n",
       "    <tr>\n",
       "      <th>Japan</th>\n",
       "      <td>127.061</td>\n",
       "      <td>4602367</td>\n",
       "      <td>377930</td>\n",
       "      <td>0.891</td>\n",
       "      <td>Asia</td>\n",
       "    </tr>\n",
       "    <tr>\n",
       "      <th>United States</th>\n",
       "      <td>318.523</td>\n",
       "      <td>17348075</td>\n",
       "      <td>9525067</td>\n",
       "      <td>0.915</td>\n",
       "      <td>America</td>\n",
       "    </tr>\n",
       "  </tbody>\n",
       "</table>\n",
       "</div>"
      ],
      "text/plain": [
       "               Population       GDP  Surface Area    HDI Continent\n",
       "Germany            80.940   3874437        357114  0.916    Europe\n",
       "Japan             127.061   4602367        377930  0.891      Asia\n",
       "United States     318.523  17348075       9525067  0.915   America"
      ]
     },
     "execution_count": 129,
     "metadata": {},
     "output_type": "execute_result"
    }
   ],
   "source": [
    "df.loc[df['Population']>70]"
   ]
  },
  {
   "cell_type": "code",
   "execution_count": 132,
   "id": "9cf1e1b6-579e-4bcd-8137-111e61534013",
   "metadata": {},
   "outputs": [
    {
     "data": {
      "text/plain": [
       "Germany           80.940\n",
       "Japan            127.061\n",
       "United States    318.523\n",
       "Name: Population, dtype: float64"
      ]
     },
     "execution_count": 132,
     "metadata": {},
     "output_type": "execute_result"
    }
   ],
   "source": [
    "df.loc[df['Population']>70,'Population']"
   ]
  },
  {
   "cell_type": "code",
   "execution_count": 134,
   "id": "f036b369-514b-44bf-a642-d1c440d799e5",
   "metadata": {},
   "outputs": [
    {
     "data": {
      "text/html": [
       "<div>\n",
       "<style scoped>\n",
       "    .dataframe tbody tr th:only-of-type {\n",
       "        vertical-align: middle;\n",
       "    }\n",
       "\n",
       "    .dataframe tbody tr th {\n",
       "        vertical-align: top;\n",
       "    }\n",
       "\n",
       "    .dataframe thead th {\n",
       "        text-align: right;\n",
       "    }\n",
       "</style>\n",
       "<table border=\"1\" class=\"dataframe\">\n",
       "  <thead>\n",
       "    <tr style=\"text-align: right;\">\n",
       "      <th></th>\n",
       "      <th>Population</th>\n",
       "      <th>GDP</th>\n",
       "    </tr>\n",
       "  </thead>\n",
       "  <tbody>\n",
       "    <tr>\n",
       "      <th>Germany</th>\n",
       "      <td>80.940</td>\n",
       "      <td>3874437</td>\n",
       "    </tr>\n",
       "    <tr>\n",
       "      <th>Japan</th>\n",
       "      <td>127.061</td>\n",
       "      <td>4602367</td>\n",
       "    </tr>\n",
       "    <tr>\n",
       "      <th>United States</th>\n",
       "      <td>318.523</td>\n",
       "      <td>17348075</td>\n",
       "    </tr>\n",
       "  </tbody>\n",
       "</table>\n",
       "</div>"
      ],
      "text/plain": [
       "               Population       GDP\n",
       "Germany            80.940   3874437\n",
       "Japan             127.061   4602367\n",
       "United States     318.523  17348075"
      ]
     },
     "execution_count": 134,
     "metadata": {},
     "output_type": "execute_result"
    }
   ],
   "source": [
    "df.loc[df['Population']>70,['Population','GDP']]"
   ]
  },
  {
   "cell_type": "code",
   "execution_count": 135,
   "id": "7b800798-a8cd-4fd6-8490-d6445972272a",
   "metadata": {},
   "outputs": [
    {
     "data": {
      "text/html": [
       "<div>\n",
       "<style scoped>\n",
       "    .dataframe tbody tr th:only-of-type {\n",
       "        vertical-align: middle;\n",
       "    }\n",
       "\n",
       "    .dataframe tbody tr th {\n",
       "        vertical-align: top;\n",
       "    }\n",
       "\n",
       "    .dataframe thead th {\n",
       "        text-align: right;\n",
       "    }\n",
       "</style>\n",
       "<table border=\"1\" class=\"dataframe\">\n",
       "  <thead>\n",
       "    <tr style=\"text-align: right;\">\n",
       "      <th></th>\n",
       "      <th>Population</th>\n",
       "      <th>GDP</th>\n",
       "      <th>Surface Area</th>\n",
       "      <th>HDI</th>\n",
       "      <th>Continent</th>\n",
       "    </tr>\n",
       "  </thead>\n",
       "  <tbody>\n",
       "    <tr>\n",
       "      <th>France</th>\n",
       "      <td>63.951</td>\n",
       "      <td>2833687</td>\n",
       "      <td>640679</td>\n",
       "      <td>0.888</td>\n",
       "      <td>Europe</td>\n",
       "    </tr>\n",
       "    <tr>\n",
       "      <th>Germany</th>\n",
       "      <td>80.940</td>\n",
       "      <td>3874437</td>\n",
       "      <td>357114</td>\n",
       "      <td>0.916</td>\n",
       "      <td>Europe</td>\n",
       "    </tr>\n",
       "    <tr>\n",
       "      <th>Italy</th>\n",
       "      <td>60.655</td>\n",
       "      <td>2167744</td>\n",
       "      <td>301336</td>\n",
       "      <td>0.873</td>\n",
       "      <td>Europe</td>\n",
       "    </tr>\n",
       "    <tr>\n",
       "      <th>Japan</th>\n",
       "      <td>127.061</td>\n",
       "      <td>4602367</td>\n",
       "      <td>377930</td>\n",
       "      <td>0.891</td>\n",
       "      <td>Asia</td>\n",
       "    </tr>\n",
       "    <tr>\n",
       "      <th>United Kingdom</th>\n",
       "      <td>64.511</td>\n",
       "      <td>2950039</td>\n",
       "      <td>242495</td>\n",
       "      <td>0.907</td>\n",
       "      <td>Europe</td>\n",
       "    </tr>\n",
       "    <tr>\n",
       "      <th>United States</th>\n",
       "      <td>318.523</td>\n",
       "      <td>17348075</td>\n",
       "      <td>9525067</td>\n",
       "      <td>0.915</td>\n",
       "      <td>America</td>\n",
       "    </tr>\n",
       "  </tbody>\n",
       "</table>\n",
       "</div>"
      ],
      "text/plain": [
       "                Population       GDP  Surface Area    HDI Continent\n",
       "France              63.951   2833687        640679  0.888    Europe\n",
       "Germany             80.940   3874437        357114  0.916    Europe\n",
       "Italy               60.655   2167744        301336  0.873    Europe\n",
       "Japan              127.061   4602367        377930  0.891      Asia\n",
       "United Kingdom      64.511   2950039        242495  0.907    Europe\n",
       "United States      318.523  17348075       9525067  0.915   America"
      ]
     },
     "execution_count": 135,
     "metadata": {},
     "output_type": "execute_result"
    }
   ],
   "source": [
    "df.drop('Canada')"
   ]
  },
  {
   "cell_type": "code",
   "execution_count": 136,
   "id": "e3e1c87c-7658-47ed-83f1-34b2b92d3f23",
   "metadata": {},
   "outputs": [
    {
     "data": {
      "text/html": [
       "<div>\n",
       "<style scoped>\n",
       "    .dataframe tbody tr th:only-of-type {\n",
       "        vertical-align: middle;\n",
       "    }\n",
       "\n",
       "    .dataframe tbody tr th {\n",
       "        vertical-align: top;\n",
       "    }\n",
       "\n",
       "    .dataframe thead th {\n",
       "        text-align: right;\n",
       "    }\n",
       "</style>\n",
       "<table border=\"1\" class=\"dataframe\">\n",
       "  <thead>\n",
       "    <tr style=\"text-align: right;\">\n",
       "      <th></th>\n",
       "      <th>Population</th>\n",
       "      <th>GDP</th>\n",
       "      <th>Surface Area</th>\n",
       "      <th>HDI</th>\n",
       "      <th>Continent</th>\n",
       "    </tr>\n",
       "  </thead>\n",
       "  <tbody>\n",
       "    <tr>\n",
       "      <th>Canada</th>\n",
       "      <td>35.467</td>\n",
       "      <td>1785387</td>\n",
       "      <td>9984670</td>\n",
       "      <td>0.913</td>\n",
       "      <td>America</td>\n",
       "    </tr>\n",
       "    <tr>\n",
       "      <th>France</th>\n",
       "      <td>63.951</td>\n",
       "      <td>2833687</td>\n",
       "      <td>640679</td>\n",
       "      <td>0.888</td>\n",
       "      <td>Europe</td>\n",
       "    </tr>\n",
       "    <tr>\n",
       "      <th>Germany</th>\n",
       "      <td>80.940</td>\n",
       "      <td>3874437</td>\n",
       "      <td>357114</td>\n",
       "      <td>0.916</td>\n",
       "      <td>Europe</td>\n",
       "    </tr>\n",
       "    <tr>\n",
       "      <th>Italy</th>\n",
       "      <td>60.655</td>\n",
       "      <td>2167744</td>\n",
       "      <td>301336</td>\n",
       "      <td>0.873</td>\n",
       "      <td>Europe</td>\n",
       "    </tr>\n",
       "    <tr>\n",
       "      <th>Japan</th>\n",
       "      <td>127.061</td>\n",
       "      <td>4602367</td>\n",
       "      <td>377930</td>\n",
       "      <td>0.891</td>\n",
       "      <td>Asia</td>\n",
       "    </tr>\n",
       "    <tr>\n",
       "      <th>United Kingdom</th>\n",
       "      <td>64.511</td>\n",
       "      <td>2950039</td>\n",
       "      <td>242495</td>\n",
       "      <td>0.907</td>\n",
       "      <td>Europe</td>\n",
       "    </tr>\n",
       "    <tr>\n",
       "      <th>United States</th>\n",
       "      <td>318.523</td>\n",
       "      <td>17348075</td>\n",
       "      <td>9525067</td>\n",
       "      <td>0.915</td>\n",
       "      <td>America</td>\n",
       "    </tr>\n",
       "  </tbody>\n",
       "</table>\n",
       "</div>"
      ],
      "text/plain": [
       "                Population       GDP  Surface Area    HDI Continent\n",
       "Canada              35.467   1785387       9984670  0.913   America\n",
       "France              63.951   2833687        640679  0.888    Europe\n",
       "Germany             80.940   3874437        357114  0.916    Europe\n",
       "Italy               60.655   2167744        301336  0.873    Europe\n",
       "Japan              127.061   4602367        377930  0.891      Asia\n",
       "United Kingdom      64.511   2950039        242495  0.907    Europe\n",
       "United States      318.523  17348075       9525067  0.915   America"
      ]
     },
     "execution_count": 136,
     "metadata": {},
     "output_type": "execute_result"
    }
   ],
   "source": [
    "df"
   ]
  },
  {
   "cell_type": "code",
   "execution_count": 137,
   "id": "7e4a9554-575c-43ad-9905-85675266601c",
   "metadata": {},
   "outputs": [
    {
     "data": {
      "text/html": [
       "<div>\n",
       "<style scoped>\n",
       "    .dataframe tbody tr th:only-of-type {\n",
       "        vertical-align: middle;\n",
       "    }\n",
       "\n",
       "    .dataframe tbody tr th {\n",
       "        vertical-align: top;\n",
       "    }\n",
       "\n",
       "    .dataframe thead th {\n",
       "        text-align: right;\n",
       "    }\n",
       "</style>\n",
       "<table border=\"1\" class=\"dataframe\">\n",
       "  <thead>\n",
       "    <tr style=\"text-align: right;\">\n",
       "      <th></th>\n",
       "      <th>Population</th>\n",
       "      <th>GDP</th>\n",
       "      <th>Surface Area</th>\n",
       "      <th>HDI</th>\n",
       "      <th>Continent</th>\n",
       "    </tr>\n",
       "  </thead>\n",
       "  <tbody>\n",
       "    <tr>\n",
       "      <th>France</th>\n",
       "      <td>63.951</td>\n",
       "      <td>2833687</td>\n",
       "      <td>640679</td>\n",
       "      <td>0.888</td>\n",
       "      <td>Europe</td>\n",
       "    </tr>\n",
       "    <tr>\n",
       "      <th>Germany</th>\n",
       "      <td>80.940</td>\n",
       "      <td>3874437</td>\n",
       "      <td>357114</td>\n",
       "      <td>0.916</td>\n",
       "      <td>Europe</td>\n",
       "    </tr>\n",
       "    <tr>\n",
       "      <th>Italy</th>\n",
       "      <td>60.655</td>\n",
       "      <td>2167744</td>\n",
       "      <td>301336</td>\n",
       "      <td>0.873</td>\n",
       "      <td>Europe</td>\n",
       "    </tr>\n",
       "    <tr>\n",
       "      <th>United Kingdom</th>\n",
       "      <td>64.511</td>\n",
       "      <td>2950039</td>\n",
       "      <td>242495</td>\n",
       "      <td>0.907</td>\n",
       "      <td>Europe</td>\n",
       "    </tr>\n",
       "    <tr>\n",
       "      <th>United States</th>\n",
       "      <td>318.523</td>\n",
       "      <td>17348075</td>\n",
       "      <td>9525067</td>\n",
       "      <td>0.915</td>\n",
       "      <td>America</td>\n",
       "    </tr>\n",
       "  </tbody>\n",
       "</table>\n",
       "</div>"
      ],
      "text/plain": [
       "                Population       GDP  Surface Area    HDI Continent\n",
       "France              63.951   2833687        640679  0.888    Europe\n",
       "Germany             80.940   3874437        357114  0.916    Europe\n",
       "Italy               60.655   2167744        301336  0.873    Europe\n",
       "United Kingdom      64.511   2950039        242495  0.907    Europe\n",
       "United States      318.523  17348075       9525067  0.915   America"
      ]
     },
     "execution_count": 137,
     "metadata": {},
     "output_type": "execute_result"
    }
   ],
   "source": [
    "df.drop(['Canada','Japan'])"
   ]
  },
  {
   "cell_type": "code",
   "execution_count": 138,
   "id": "0c1479fe-eb60-43c8-b298-cc5440f5cc4b",
   "metadata": {},
   "outputs": [
    {
     "data": {
      "text/html": [
       "<div>\n",
       "<style scoped>\n",
       "    .dataframe tbody tr th:only-of-type {\n",
       "        vertical-align: middle;\n",
       "    }\n",
       "\n",
       "    .dataframe tbody tr th {\n",
       "        vertical-align: top;\n",
       "    }\n",
       "\n",
       "    .dataframe thead th {\n",
       "        text-align: right;\n",
       "    }\n",
       "</style>\n",
       "<table border=\"1\" class=\"dataframe\">\n",
       "  <thead>\n",
       "    <tr style=\"text-align: right;\">\n",
       "      <th></th>\n",
       "      <th>GDP</th>\n",
       "      <th>Surface Area</th>\n",
       "      <th>Continent</th>\n",
       "    </tr>\n",
       "  </thead>\n",
       "  <tbody>\n",
       "    <tr>\n",
       "      <th>Canada</th>\n",
       "      <td>1785387</td>\n",
       "      <td>9984670</td>\n",
       "      <td>America</td>\n",
       "    </tr>\n",
       "    <tr>\n",
       "      <th>France</th>\n",
       "      <td>2833687</td>\n",
       "      <td>640679</td>\n",
       "      <td>Europe</td>\n",
       "    </tr>\n",
       "    <tr>\n",
       "      <th>Germany</th>\n",
       "      <td>3874437</td>\n",
       "      <td>357114</td>\n",
       "      <td>Europe</td>\n",
       "    </tr>\n",
       "    <tr>\n",
       "      <th>Italy</th>\n",
       "      <td>2167744</td>\n",
       "      <td>301336</td>\n",
       "      <td>Europe</td>\n",
       "    </tr>\n",
       "    <tr>\n",
       "      <th>Japan</th>\n",
       "      <td>4602367</td>\n",
       "      <td>377930</td>\n",
       "      <td>Asia</td>\n",
       "    </tr>\n",
       "    <tr>\n",
       "      <th>United Kingdom</th>\n",
       "      <td>2950039</td>\n",
       "      <td>242495</td>\n",
       "      <td>Europe</td>\n",
       "    </tr>\n",
       "    <tr>\n",
       "      <th>United States</th>\n",
       "      <td>17348075</td>\n",
       "      <td>9525067</td>\n",
       "      <td>America</td>\n",
       "    </tr>\n",
       "  </tbody>\n",
       "</table>\n",
       "</div>"
      ],
      "text/plain": [
       "                     GDP  Surface Area Continent\n",
       "Canada           1785387       9984670   America\n",
       "France           2833687        640679    Europe\n",
       "Germany          3874437        357114    Europe\n",
       "Italy            2167744        301336    Europe\n",
       "Japan            4602367        377930      Asia\n",
       "United Kingdom   2950039        242495    Europe\n",
       "United States   17348075       9525067   America"
      ]
     },
     "execution_count": 138,
     "metadata": {},
     "output_type": "execute_result"
    }
   ],
   "source": [
    "df.drop(columns=['Population','HDI'])"
   ]
  },
  {
   "cell_type": "code",
   "execution_count": 139,
   "id": "c7c7b18a-f140-474b-ae4b-2438a481beef",
   "metadata": {},
   "outputs": [
    {
     "data": {
      "text/html": [
       "<div>\n",
       "<style scoped>\n",
       "    .dataframe tbody tr th:only-of-type {\n",
       "        vertical-align: middle;\n",
       "    }\n",
       "\n",
       "    .dataframe tbody tr th {\n",
       "        vertical-align: top;\n",
       "    }\n",
       "\n",
       "    .dataframe thead th {\n",
       "        text-align: right;\n",
       "    }\n",
       "</style>\n",
       "<table border=\"1\" class=\"dataframe\">\n",
       "  <thead>\n",
       "    <tr style=\"text-align: right;\">\n",
       "      <th></th>\n",
       "      <th>Population</th>\n",
       "      <th>GDP</th>\n",
       "      <th>Surface Area</th>\n",
       "      <th>HDI</th>\n",
       "      <th>Continent</th>\n",
       "    </tr>\n",
       "  </thead>\n",
       "  <tbody>\n",
       "    <tr>\n",
       "      <th>France</th>\n",
       "      <td>63.951</td>\n",
       "      <td>2833687</td>\n",
       "      <td>640679</td>\n",
       "      <td>0.888</td>\n",
       "      <td>Europe</td>\n",
       "    </tr>\n",
       "    <tr>\n",
       "      <th>Germany</th>\n",
       "      <td>80.940</td>\n",
       "      <td>3874437</td>\n",
       "      <td>357114</td>\n",
       "      <td>0.916</td>\n",
       "      <td>Europe</td>\n",
       "    </tr>\n",
       "    <tr>\n",
       "      <th>Japan</th>\n",
       "      <td>127.061</td>\n",
       "      <td>4602367</td>\n",
       "      <td>377930</td>\n",
       "      <td>0.891</td>\n",
       "      <td>Asia</td>\n",
       "    </tr>\n",
       "    <tr>\n",
       "      <th>United Kingdom</th>\n",
       "      <td>64.511</td>\n",
       "      <td>2950039</td>\n",
       "      <td>242495</td>\n",
       "      <td>0.907</td>\n",
       "      <td>Europe</td>\n",
       "    </tr>\n",
       "    <tr>\n",
       "      <th>United States</th>\n",
       "      <td>318.523</td>\n",
       "      <td>17348075</td>\n",
       "      <td>9525067</td>\n",
       "      <td>0.915</td>\n",
       "      <td>America</td>\n",
       "    </tr>\n",
       "  </tbody>\n",
       "</table>\n",
       "</div>"
      ],
      "text/plain": [
       "                Population       GDP  Surface Area    HDI Continent\n",
       "France              63.951   2833687        640679  0.888    Europe\n",
       "Germany             80.940   3874437        357114  0.916    Europe\n",
       "Japan              127.061   4602367        377930  0.891      Asia\n",
       "United Kingdom      64.511   2950039        242495  0.907    Europe\n",
       "United States      318.523  17348075       9525067  0.915   America"
      ]
     },
     "execution_count": 139,
     "metadata": {},
     "output_type": "execute_result"
    }
   ],
   "source": [
    "df.drop(['Italy','Canada'],axis=0)"
   ]
  },
  {
   "cell_type": "code",
   "execution_count": 141,
   "id": "9dbf331f-7b78-4a7e-8c49-c5056d50dd62",
   "metadata": {},
   "outputs": [
    {
     "data": {
      "text/html": [
       "<div>\n",
       "<style scoped>\n",
       "    .dataframe tbody tr th:only-of-type {\n",
       "        vertical-align: middle;\n",
       "    }\n",
       "\n",
       "    .dataframe tbody tr th {\n",
       "        vertical-align: top;\n",
       "    }\n",
       "\n",
       "    .dataframe thead th {\n",
       "        text-align: right;\n",
       "    }\n",
       "</style>\n",
       "<table border=\"1\" class=\"dataframe\">\n",
       "  <thead>\n",
       "    <tr style=\"text-align: right;\">\n",
       "      <th></th>\n",
       "      <th>GDP</th>\n",
       "      <th>Surface Area</th>\n",
       "      <th>Continent</th>\n",
       "    </tr>\n",
       "  </thead>\n",
       "  <tbody>\n",
       "    <tr>\n",
       "      <th>Canada</th>\n",
       "      <td>1785387</td>\n",
       "      <td>9984670</td>\n",
       "      <td>America</td>\n",
       "    </tr>\n",
       "    <tr>\n",
       "      <th>France</th>\n",
       "      <td>2833687</td>\n",
       "      <td>640679</td>\n",
       "      <td>Europe</td>\n",
       "    </tr>\n",
       "    <tr>\n",
       "      <th>Germany</th>\n",
       "      <td>3874437</td>\n",
       "      <td>357114</td>\n",
       "      <td>Europe</td>\n",
       "    </tr>\n",
       "    <tr>\n",
       "      <th>Italy</th>\n",
       "      <td>2167744</td>\n",
       "      <td>301336</td>\n",
       "      <td>Europe</td>\n",
       "    </tr>\n",
       "    <tr>\n",
       "      <th>Japan</th>\n",
       "      <td>4602367</td>\n",
       "      <td>377930</td>\n",
       "      <td>Asia</td>\n",
       "    </tr>\n",
       "    <tr>\n",
       "      <th>United Kingdom</th>\n",
       "      <td>2950039</td>\n",
       "      <td>242495</td>\n",
       "      <td>Europe</td>\n",
       "    </tr>\n",
       "    <tr>\n",
       "      <th>United States</th>\n",
       "      <td>17348075</td>\n",
       "      <td>9525067</td>\n",
       "      <td>America</td>\n",
       "    </tr>\n",
       "  </tbody>\n",
       "</table>\n",
       "</div>"
      ],
      "text/plain": [
       "                     GDP  Surface Area Continent\n",
       "Canada           1785387       9984670   America\n",
       "France           2833687        640679    Europe\n",
       "Germany          3874437        357114    Europe\n",
       "Italy            2167744        301336    Europe\n",
       "Japan            4602367        377930      Asia\n",
       "United Kingdom   2950039        242495    Europe\n",
       "United States   17348075       9525067   America"
      ]
     },
     "execution_count": 141,
     "metadata": {},
     "output_type": "execute_result"
    }
   ],
   "source": [
    "df.drop(['Population','HDI'],axis=1)"
   ]
  },
  {
   "cell_type": "code",
   "execution_count": 143,
   "id": "7e0b6306-8d2a-49d1-95d4-b4233e9c30e0",
   "metadata": {},
   "outputs": [
    {
     "data": {
      "text/html": [
       "<div>\n",
       "<style scoped>\n",
       "    .dataframe tbody tr th:only-of-type {\n",
       "        vertical-align: middle;\n",
       "    }\n",
       "\n",
       "    .dataframe tbody tr th {\n",
       "        vertical-align: top;\n",
       "    }\n",
       "\n",
       "    .dataframe thead th {\n",
       "        text-align: right;\n",
       "    }\n",
       "</style>\n",
       "<table border=\"1\" class=\"dataframe\">\n",
       "  <thead>\n",
       "    <tr style=\"text-align: right;\">\n",
       "      <th></th>\n",
       "      <th>GDP</th>\n",
       "      <th>Surface Area</th>\n",
       "      <th>Continent</th>\n",
       "    </tr>\n",
       "  </thead>\n",
       "  <tbody>\n",
       "    <tr>\n",
       "      <th>Canada</th>\n",
       "      <td>1785387</td>\n",
       "      <td>9984670</td>\n",
       "      <td>America</td>\n",
       "    </tr>\n",
       "    <tr>\n",
       "      <th>France</th>\n",
       "      <td>2833687</td>\n",
       "      <td>640679</td>\n",
       "      <td>Europe</td>\n",
       "    </tr>\n",
       "    <tr>\n",
       "      <th>Germany</th>\n",
       "      <td>3874437</td>\n",
       "      <td>357114</td>\n",
       "      <td>Europe</td>\n",
       "    </tr>\n",
       "    <tr>\n",
       "      <th>Italy</th>\n",
       "      <td>2167744</td>\n",
       "      <td>301336</td>\n",
       "      <td>Europe</td>\n",
       "    </tr>\n",
       "    <tr>\n",
       "      <th>Japan</th>\n",
       "      <td>4602367</td>\n",
       "      <td>377930</td>\n",
       "      <td>Asia</td>\n",
       "    </tr>\n",
       "    <tr>\n",
       "      <th>United Kingdom</th>\n",
       "      <td>2950039</td>\n",
       "      <td>242495</td>\n",
       "      <td>Europe</td>\n",
       "    </tr>\n",
       "    <tr>\n",
       "      <th>United States</th>\n",
       "      <td>17348075</td>\n",
       "      <td>9525067</td>\n",
       "      <td>America</td>\n",
       "    </tr>\n",
       "  </tbody>\n",
       "</table>\n",
       "</div>"
      ],
      "text/plain": [
       "                     GDP  Surface Area Continent\n",
       "Canada           1785387       9984670   America\n",
       "France           2833687        640679    Europe\n",
       "Germany          3874437        357114    Europe\n",
       "Italy            2167744        301336    Europe\n",
       "Japan            4602367        377930      Asia\n",
       "United Kingdom   2950039        242495    Europe\n",
       "United States   17348075       9525067   America"
      ]
     },
     "execution_count": 143,
     "metadata": {},
     "output_type": "execute_result"
    }
   ],
   "source": [
    "df.drop(['Population','HDI'],axis='columns')"
   ]
  },
  {
   "cell_type": "code",
   "execution_count": 145,
   "id": "85d517ed-3c9a-4ad1-bb25-3a0c175d99d5",
   "metadata": {},
   "outputs": [
    {
     "data": {
      "text/html": [
       "<div>\n",
       "<style scoped>\n",
       "    .dataframe tbody tr th:only-of-type {\n",
       "        vertical-align: middle;\n",
       "    }\n",
       "\n",
       "    .dataframe tbody tr th {\n",
       "        vertical-align: top;\n",
       "    }\n",
       "\n",
       "    .dataframe thead th {\n",
       "        text-align: right;\n",
       "    }\n",
       "</style>\n",
       "<table border=\"1\" class=\"dataframe\">\n",
       "  <thead>\n",
       "    <tr style=\"text-align: right;\">\n",
       "      <th></th>\n",
       "      <th>Population</th>\n",
       "      <th>GDP</th>\n",
       "      <th>Surface Area</th>\n",
       "      <th>HDI</th>\n",
       "      <th>Continent</th>\n",
       "    </tr>\n",
       "  </thead>\n",
       "  <tbody>\n",
       "    <tr>\n",
       "      <th>France</th>\n",
       "      <td>63.951</td>\n",
       "      <td>2833687</td>\n",
       "      <td>640679</td>\n",
       "      <td>0.888</td>\n",
       "      <td>Europe</td>\n",
       "    </tr>\n",
       "    <tr>\n",
       "      <th>Italy</th>\n",
       "      <td>60.655</td>\n",
       "      <td>2167744</td>\n",
       "      <td>301336</td>\n",
       "      <td>0.873</td>\n",
       "      <td>Europe</td>\n",
       "    </tr>\n",
       "    <tr>\n",
       "      <th>Japan</th>\n",
       "      <td>127.061</td>\n",
       "      <td>4602367</td>\n",
       "      <td>377930</td>\n",
       "      <td>0.891</td>\n",
       "      <td>Asia</td>\n",
       "    </tr>\n",
       "    <tr>\n",
       "      <th>United Kingdom</th>\n",
       "      <td>64.511</td>\n",
       "      <td>2950039</td>\n",
       "      <td>242495</td>\n",
       "      <td>0.907</td>\n",
       "      <td>Europe</td>\n",
       "    </tr>\n",
       "    <tr>\n",
       "      <th>United States</th>\n",
       "      <td>318.523</td>\n",
       "      <td>17348075</td>\n",
       "      <td>9525067</td>\n",
       "      <td>0.915</td>\n",
       "      <td>America</td>\n",
       "    </tr>\n",
       "  </tbody>\n",
       "</table>\n",
       "</div>"
      ],
      "text/plain": [
       "                Population       GDP  Surface Area    HDI Continent\n",
       "France              63.951   2833687        640679  0.888    Europe\n",
       "Italy               60.655   2167744        301336  0.873    Europe\n",
       "Japan              127.061   4602367        377930  0.891      Asia\n",
       "United Kingdom      64.511   2950039        242495  0.907    Europe\n",
       "United States      318.523  17348075       9525067  0.915   America"
      ]
     },
     "execution_count": 145,
     "metadata": {},
     "output_type": "execute_result"
    }
   ],
   "source": [
    "df.drop(['Canada','Germany'], axis='rows')"
   ]
  },
  {
   "cell_type": "markdown",
   "id": "dd1ed380-5e8e-48ef-8572-f03544bd0994",
   "metadata": {},
   "source": [
    "### Operations"
   ]
  },
  {
   "cell_type": "code",
   "execution_count": 146,
   "id": "59bda888-9d30-4670-a064-f901c44f57f9",
   "metadata": {},
   "outputs": [
    {
     "data": {
      "text/html": [
       "<div>\n",
       "<style scoped>\n",
       "    .dataframe tbody tr th:only-of-type {\n",
       "        vertical-align: middle;\n",
       "    }\n",
       "\n",
       "    .dataframe tbody tr th {\n",
       "        vertical-align: top;\n",
       "    }\n",
       "\n",
       "    .dataframe thead th {\n",
       "        text-align: right;\n",
       "    }\n",
       "</style>\n",
       "<table border=\"1\" class=\"dataframe\">\n",
       "  <thead>\n",
       "    <tr style=\"text-align: right;\">\n",
       "      <th></th>\n",
       "      <th>Population</th>\n",
       "      <th>GDP</th>\n",
       "    </tr>\n",
       "  </thead>\n",
       "  <tbody>\n",
       "    <tr>\n",
       "      <th>Canada</th>\n",
       "      <td>35.467</td>\n",
       "      <td>1785387</td>\n",
       "    </tr>\n",
       "    <tr>\n",
       "      <th>France</th>\n",
       "      <td>63.951</td>\n",
       "      <td>2833687</td>\n",
       "    </tr>\n",
       "    <tr>\n",
       "      <th>Germany</th>\n",
       "      <td>80.940</td>\n",
       "      <td>3874437</td>\n",
       "    </tr>\n",
       "    <tr>\n",
       "      <th>Italy</th>\n",
       "      <td>60.655</td>\n",
       "      <td>2167744</td>\n",
       "    </tr>\n",
       "    <tr>\n",
       "      <th>Japan</th>\n",
       "      <td>127.061</td>\n",
       "      <td>4602367</td>\n",
       "    </tr>\n",
       "    <tr>\n",
       "      <th>United Kingdom</th>\n",
       "      <td>64.511</td>\n",
       "      <td>2950039</td>\n",
       "    </tr>\n",
       "    <tr>\n",
       "      <th>United States</th>\n",
       "      <td>318.523</td>\n",
       "      <td>17348075</td>\n",
       "    </tr>\n",
       "  </tbody>\n",
       "</table>\n",
       "</div>"
      ],
      "text/plain": [
       "                Population       GDP\n",
       "Canada              35.467   1785387\n",
       "France              63.951   2833687\n",
       "Germany             80.940   3874437\n",
       "Italy               60.655   2167744\n",
       "Japan              127.061   4602367\n",
       "United Kingdom      64.511   2950039\n",
       "United States      318.523  17348075"
      ]
     },
     "execution_count": 146,
     "metadata": {},
     "output_type": "execute_result"
    }
   ],
   "source": [
    "df[['Population','GDP']]"
   ]
  },
  {
   "cell_type": "code",
   "execution_count": 148,
   "id": "fa361b51-47c5-48a3-9c9b-b993941e5872",
   "metadata": {},
   "outputs": [
    {
     "data": {
      "text/html": [
       "<div>\n",
       "<style scoped>\n",
       "    .dataframe tbody tr th:only-of-type {\n",
       "        vertical-align: middle;\n",
       "    }\n",
       "\n",
       "    .dataframe tbody tr th {\n",
       "        vertical-align: top;\n",
       "    }\n",
       "\n",
       "    .dataframe thead th {\n",
       "        text-align: right;\n",
       "    }\n",
       "</style>\n",
       "<table border=\"1\" class=\"dataframe\">\n",
       "  <thead>\n",
       "    <tr style=\"text-align: right;\">\n",
       "      <th></th>\n",
       "      <th>Population</th>\n",
       "      <th>GDP</th>\n",
       "    </tr>\n",
       "  </thead>\n",
       "  <tbody>\n",
       "    <tr>\n",
       "      <th>Canada</th>\n",
       "      <td>0.35467</td>\n",
       "      <td>17853.87</td>\n",
       "    </tr>\n",
       "    <tr>\n",
       "      <th>France</th>\n",
       "      <td>0.63951</td>\n",
       "      <td>28336.87</td>\n",
       "    </tr>\n",
       "    <tr>\n",
       "      <th>Germany</th>\n",
       "      <td>0.80940</td>\n",
       "      <td>38744.37</td>\n",
       "    </tr>\n",
       "    <tr>\n",
       "      <th>Italy</th>\n",
       "      <td>0.60655</td>\n",
       "      <td>21677.44</td>\n",
       "    </tr>\n",
       "    <tr>\n",
       "      <th>Japan</th>\n",
       "      <td>1.27061</td>\n",
       "      <td>46023.67</td>\n",
       "    </tr>\n",
       "    <tr>\n",
       "      <th>United Kingdom</th>\n",
       "      <td>0.64511</td>\n",
       "      <td>29500.39</td>\n",
       "    </tr>\n",
       "    <tr>\n",
       "      <th>United States</th>\n",
       "      <td>3.18523</td>\n",
       "      <td>173480.75</td>\n",
       "    </tr>\n",
       "  </tbody>\n",
       "</table>\n",
       "</div>"
      ],
      "text/plain": [
       "                Population        GDP\n",
       "Canada             0.35467   17853.87\n",
       "France             0.63951   28336.87\n",
       "Germany            0.80940   38744.37\n",
       "Italy              0.60655   21677.44\n",
       "Japan              1.27061   46023.67\n",
       "United Kingdom     0.64511   29500.39\n",
       "United States      3.18523  173480.75"
      ]
     },
     "execution_count": 148,
     "metadata": {},
     "output_type": "execute_result"
    }
   ],
   "source": [
    "df[['Population','GDP']] / 100"
   ]
  },
  {
   "cell_type": "code",
   "execution_count": 150,
   "id": "1ff0835f-6dc3-4290-85b0-a7bc0e561802",
   "metadata": {},
   "outputs": [
    {
     "data": {
      "text/plain": [
       "GDP   -1000000.0\n",
       "HDI         -0.3\n",
       "dtype: float64"
      ]
     },
     "execution_count": 150,
     "metadata": {},
     "output_type": "execute_result"
    }
   ],
   "source": [
    "crisis = pd.Series([-1_000_000,-0.3], index=['GDP','HDI'])\n",
    "crisis"
   ]
  },
  {
   "cell_type": "code",
   "execution_count": 151,
   "id": "fe27a4a3-78d4-49e8-a2c6-d1a11c4fee6c",
   "metadata": {},
   "outputs": [
    {
     "data": {
      "text/html": [
       "<div>\n",
       "<style scoped>\n",
       "    .dataframe tbody tr th:only-of-type {\n",
       "        vertical-align: middle;\n",
       "    }\n",
       "\n",
       "    .dataframe tbody tr th {\n",
       "        vertical-align: top;\n",
       "    }\n",
       "\n",
       "    .dataframe thead th {\n",
       "        text-align: right;\n",
       "    }\n",
       "</style>\n",
       "<table border=\"1\" class=\"dataframe\">\n",
       "  <thead>\n",
       "    <tr style=\"text-align: right;\">\n",
       "      <th></th>\n",
       "      <th>GDP</th>\n",
       "      <th>HDI</th>\n",
       "    </tr>\n",
       "  </thead>\n",
       "  <tbody>\n",
       "    <tr>\n",
       "      <th>Canada</th>\n",
       "      <td>1785387</td>\n",
       "      <td>0.913</td>\n",
       "    </tr>\n",
       "    <tr>\n",
       "      <th>France</th>\n",
       "      <td>2833687</td>\n",
       "      <td>0.888</td>\n",
       "    </tr>\n",
       "    <tr>\n",
       "      <th>Germany</th>\n",
       "      <td>3874437</td>\n",
       "      <td>0.916</td>\n",
       "    </tr>\n",
       "    <tr>\n",
       "      <th>Italy</th>\n",
       "      <td>2167744</td>\n",
       "      <td>0.873</td>\n",
       "    </tr>\n",
       "    <tr>\n",
       "      <th>Japan</th>\n",
       "      <td>4602367</td>\n",
       "      <td>0.891</td>\n",
       "    </tr>\n",
       "    <tr>\n",
       "      <th>United Kingdom</th>\n",
       "      <td>2950039</td>\n",
       "      <td>0.907</td>\n",
       "    </tr>\n",
       "    <tr>\n",
       "      <th>United States</th>\n",
       "      <td>17348075</td>\n",
       "      <td>0.915</td>\n",
       "    </tr>\n",
       "  </tbody>\n",
       "</table>\n",
       "</div>"
      ],
      "text/plain": [
       "                     GDP    HDI\n",
       "Canada           1785387  0.913\n",
       "France           2833687  0.888\n",
       "Germany          3874437  0.916\n",
       "Italy            2167744  0.873\n",
       "Japan            4602367  0.891\n",
       "United Kingdom   2950039  0.907\n",
       "United States   17348075  0.915"
      ]
     },
     "execution_count": 151,
     "metadata": {},
     "output_type": "execute_result"
    }
   ],
   "source": [
    "df[['GDP','HDI']]"
   ]
  },
  {
   "cell_type": "code",
   "execution_count": 152,
   "id": "a4f17b9f-4085-4906-9c62-fb1e74ad9002",
   "metadata": {},
   "outputs": [
    {
     "data": {
      "text/html": [
       "<div>\n",
       "<style scoped>\n",
       "    .dataframe tbody tr th:only-of-type {\n",
       "        vertical-align: middle;\n",
       "    }\n",
       "\n",
       "    .dataframe tbody tr th {\n",
       "        vertical-align: top;\n",
       "    }\n",
       "\n",
       "    .dataframe thead th {\n",
       "        text-align: right;\n",
       "    }\n",
       "</style>\n",
       "<table border=\"1\" class=\"dataframe\">\n",
       "  <thead>\n",
       "    <tr style=\"text-align: right;\">\n",
       "      <th></th>\n",
       "      <th>GDP</th>\n",
       "      <th>HDI</th>\n",
       "    </tr>\n",
       "  </thead>\n",
       "  <tbody>\n",
       "    <tr>\n",
       "      <th>Canada</th>\n",
       "      <td>785387.0</td>\n",
       "      <td>0.613</td>\n",
       "    </tr>\n",
       "    <tr>\n",
       "      <th>France</th>\n",
       "      <td>1833687.0</td>\n",
       "      <td>0.588</td>\n",
       "    </tr>\n",
       "    <tr>\n",
       "      <th>Germany</th>\n",
       "      <td>2874437.0</td>\n",
       "      <td>0.616</td>\n",
       "    </tr>\n",
       "    <tr>\n",
       "      <th>Italy</th>\n",
       "      <td>1167744.0</td>\n",
       "      <td>0.573</td>\n",
       "    </tr>\n",
       "    <tr>\n",
       "      <th>Japan</th>\n",
       "      <td>3602367.0</td>\n",
       "      <td>0.591</td>\n",
       "    </tr>\n",
       "    <tr>\n",
       "      <th>United Kingdom</th>\n",
       "      <td>1950039.0</td>\n",
       "      <td>0.607</td>\n",
       "    </tr>\n",
       "    <tr>\n",
       "      <th>United States</th>\n",
       "      <td>16348075.0</td>\n",
       "      <td>0.615</td>\n",
       "    </tr>\n",
       "  </tbody>\n",
       "</table>\n",
       "</div>"
      ],
      "text/plain": [
       "                       GDP    HDI\n",
       "Canada            785387.0  0.613\n",
       "France           1833687.0  0.588\n",
       "Germany          2874437.0  0.616\n",
       "Italy            1167744.0  0.573\n",
       "Japan            3602367.0  0.591\n",
       "United Kingdom   1950039.0  0.607\n",
       "United States   16348075.0  0.615"
      ]
     },
     "execution_count": 152,
     "metadata": {},
     "output_type": "execute_result"
    }
   ],
   "source": [
    "df [['GDP','HDI']]+crisis"
   ]
  },
  {
   "cell_type": "code",
   "execution_count": 154,
   "id": "77f95b41-52bd-4926-a988-5591c6bc4589",
   "metadata": {},
   "outputs": [],
   "source": [
    "units_adjust = pd.Series([1_000_000,1/1_000_000], index=['Population','GDP'])"
   ]
  },
  {
   "cell_type": "code",
   "execution_count": 156,
   "id": "fded4809-7322-47a0-82eb-517cbe0ebd52",
   "metadata": {},
   "outputs": [
    {
     "data": {
      "text/html": [
       "<div>\n",
       "<style scoped>\n",
       "    .dataframe tbody tr th:only-of-type {\n",
       "        vertical-align: middle;\n",
       "    }\n",
       "\n",
       "    .dataframe tbody tr th {\n",
       "        vertical-align: top;\n",
       "    }\n",
       "\n",
       "    .dataframe thead th {\n",
       "        text-align: right;\n",
       "    }\n",
       "</style>\n",
       "<table border=\"1\" class=\"dataframe\">\n",
       "  <thead>\n",
       "    <tr style=\"text-align: right;\">\n",
       "      <th></th>\n",
       "      <th>Population</th>\n",
       "      <th>GDP</th>\n",
       "    </tr>\n",
       "  </thead>\n",
       "  <tbody>\n",
       "    <tr>\n",
       "      <th>Canada</th>\n",
       "      <td>35467000.0</td>\n",
       "      <td>1.785387</td>\n",
       "    </tr>\n",
       "    <tr>\n",
       "      <th>France</th>\n",
       "      <td>63951000.0</td>\n",
       "      <td>2.833687</td>\n",
       "    </tr>\n",
       "    <tr>\n",
       "      <th>Germany</th>\n",
       "      <td>80940000.0</td>\n",
       "      <td>3.874437</td>\n",
       "    </tr>\n",
       "    <tr>\n",
       "      <th>Italy</th>\n",
       "      <td>60655000.0</td>\n",
       "      <td>2.167744</td>\n",
       "    </tr>\n",
       "    <tr>\n",
       "      <th>Japan</th>\n",
       "      <td>127061000.0</td>\n",
       "      <td>4.602367</td>\n",
       "    </tr>\n",
       "    <tr>\n",
       "      <th>United Kingdom</th>\n",
       "      <td>64511000.0</td>\n",
       "      <td>2.950039</td>\n",
       "    </tr>\n",
       "    <tr>\n",
       "      <th>United States</th>\n",
       "      <td>318523000.0</td>\n",
       "      <td>17.348075</td>\n",
       "    </tr>\n",
       "  </tbody>\n",
       "</table>\n",
       "</div>"
      ],
      "text/plain": [
       "                 Population        GDP\n",
       "Canada           35467000.0   1.785387\n",
       "France           63951000.0   2.833687\n",
       "Germany          80940000.0   3.874437\n",
       "Italy            60655000.0   2.167744\n",
       "Japan           127061000.0   4.602367\n",
       "United Kingdom   64511000.0   2.950039\n",
       "United States   318523000.0  17.348075"
      ]
     },
     "execution_count": 156,
     "metadata": {},
     "output_type": "execute_result"
    }
   ],
   "source": [
    "df[['Population','GDP']] * units_adjust"
   ]
  },
  {
   "cell_type": "markdown",
   "id": "bbd10027-1195-4f50-8f56-eedafd81ce79",
   "metadata": {},
   "source": [
    "### Modifying DataFrames"
   ]
  },
  {
   "cell_type": "code",
   "execution_count": 160,
   "id": "d25c8138-15db-468b-a7b7-ee82317fe601",
   "metadata": {},
   "outputs": [],
   "source": [
    "langs = pd.Series (\n",
    "    ['France', 'German', 'Italian'],\n",
    "    index=['France','Germany','Italy'],\n",
    "    name='Language'\n",
    ")"
   ]
  },
  {
   "cell_type": "code",
   "execution_count": 161,
   "id": "6f42b661-3882-4c61-acce-0572bf8605e6",
   "metadata": {},
   "outputs": [
    {
     "data": {
      "text/plain": [
       "France      France\n",
       "Germany     German\n",
       "Italy      Italian\n",
       "Name: Language, dtype: object"
      ]
     },
     "execution_count": 161,
     "metadata": {},
     "output_type": "execute_result"
    }
   ],
   "source": [
    "langs"
   ]
  },
  {
   "cell_type": "code",
   "execution_count": 163,
   "id": "2b73588f-d543-4774-98e4-0cc45aef272d",
   "metadata": {},
   "outputs": [],
   "source": [
    "df['Language'] = langs"
   ]
  },
  {
   "cell_type": "code",
   "execution_count": 164,
   "id": "fb58e3ce-b4ab-46cf-8b17-e166fc133804",
   "metadata": {},
   "outputs": [
    {
     "data": {
      "text/html": [
       "<div>\n",
       "<style scoped>\n",
       "    .dataframe tbody tr th:only-of-type {\n",
       "        vertical-align: middle;\n",
       "    }\n",
       "\n",
       "    .dataframe tbody tr th {\n",
       "        vertical-align: top;\n",
       "    }\n",
       "\n",
       "    .dataframe thead th {\n",
       "        text-align: right;\n",
       "    }\n",
       "</style>\n",
       "<table border=\"1\" class=\"dataframe\">\n",
       "  <thead>\n",
       "    <tr style=\"text-align: right;\">\n",
       "      <th></th>\n",
       "      <th>Population</th>\n",
       "      <th>GDP</th>\n",
       "      <th>Surface Area</th>\n",
       "      <th>HDI</th>\n",
       "      <th>Continent</th>\n",
       "      <th>Language</th>\n",
       "    </tr>\n",
       "  </thead>\n",
       "  <tbody>\n",
       "    <tr>\n",
       "      <th>Canada</th>\n",
       "      <td>35.467</td>\n",
       "      <td>1785387</td>\n",
       "      <td>9984670</td>\n",
       "      <td>0.913</td>\n",
       "      <td>America</td>\n",
       "      <td>NaN</td>\n",
       "    </tr>\n",
       "    <tr>\n",
       "      <th>France</th>\n",
       "      <td>63.951</td>\n",
       "      <td>2833687</td>\n",
       "      <td>640679</td>\n",
       "      <td>0.888</td>\n",
       "      <td>Europe</td>\n",
       "      <td>France</td>\n",
       "    </tr>\n",
       "    <tr>\n",
       "      <th>Germany</th>\n",
       "      <td>80.940</td>\n",
       "      <td>3874437</td>\n",
       "      <td>357114</td>\n",
       "      <td>0.916</td>\n",
       "      <td>Europe</td>\n",
       "      <td>German</td>\n",
       "    </tr>\n",
       "    <tr>\n",
       "      <th>Italy</th>\n",
       "      <td>60.655</td>\n",
       "      <td>2167744</td>\n",
       "      <td>301336</td>\n",
       "      <td>0.873</td>\n",
       "      <td>Europe</td>\n",
       "      <td>Italian</td>\n",
       "    </tr>\n",
       "    <tr>\n",
       "      <th>Japan</th>\n",
       "      <td>127.061</td>\n",
       "      <td>4602367</td>\n",
       "      <td>377930</td>\n",
       "      <td>0.891</td>\n",
       "      <td>Asia</td>\n",
       "      <td>NaN</td>\n",
       "    </tr>\n",
       "    <tr>\n",
       "      <th>United Kingdom</th>\n",
       "      <td>64.511</td>\n",
       "      <td>2950039</td>\n",
       "      <td>242495</td>\n",
       "      <td>0.907</td>\n",
       "      <td>Europe</td>\n",
       "      <td>NaN</td>\n",
       "    </tr>\n",
       "    <tr>\n",
       "      <th>United States</th>\n",
       "      <td>318.523</td>\n",
       "      <td>17348075</td>\n",
       "      <td>9525067</td>\n",
       "      <td>0.915</td>\n",
       "      <td>America</td>\n",
       "      <td>NaN</td>\n",
       "    </tr>\n",
       "  </tbody>\n",
       "</table>\n",
       "</div>"
      ],
      "text/plain": [
       "                Population       GDP  Surface Area    HDI Continent Language\n",
       "Canada              35.467   1785387       9984670  0.913   America      NaN\n",
       "France              63.951   2833687        640679  0.888    Europe   France\n",
       "Germany             80.940   3874437        357114  0.916    Europe   German\n",
       "Italy               60.655   2167744        301336  0.873    Europe  Italian\n",
       "Japan              127.061   4602367        377930  0.891      Asia      NaN\n",
       "United Kingdom      64.511   2950039        242495  0.907    Europe      NaN\n",
       "United States      318.523  17348075       9525067  0.915   America      NaN"
      ]
     },
     "execution_count": 164,
     "metadata": {},
     "output_type": "execute_result"
    }
   ],
   "source": [
    "df"
   ]
  },
  {
   "cell_type": "code",
   "execution_count": 165,
   "id": "b0bad401-baa0-4e70-b20a-e3d4a35c2fe8",
   "metadata": {},
   "outputs": [],
   "source": [
    "df['Language']=df['Language'].fillna('English')"
   ]
  },
  {
   "cell_type": "code",
   "execution_count": 166,
   "id": "82618d09-0bc1-40eb-a2ef-40e48274f2c1",
   "metadata": {},
   "outputs": [
    {
     "data": {
      "text/html": [
       "<div>\n",
       "<style scoped>\n",
       "    .dataframe tbody tr th:only-of-type {\n",
       "        vertical-align: middle;\n",
       "    }\n",
       "\n",
       "    .dataframe tbody tr th {\n",
       "        vertical-align: top;\n",
       "    }\n",
       "\n",
       "    .dataframe thead th {\n",
       "        text-align: right;\n",
       "    }\n",
       "</style>\n",
       "<table border=\"1\" class=\"dataframe\">\n",
       "  <thead>\n",
       "    <tr style=\"text-align: right;\">\n",
       "      <th></th>\n",
       "      <th>Population</th>\n",
       "      <th>GDP</th>\n",
       "      <th>Surface Area</th>\n",
       "      <th>HDI</th>\n",
       "      <th>Continent</th>\n",
       "      <th>Language</th>\n",
       "    </tr>\n",
       "  </thead>\n",
       "  <tbody>\n",
       "    <tr>\n",
       "      <th>Canada</th>\n",
       "      <td>35.467</td>\n",
       "      <td>1785387</td>\n",
       "      <td>9984670</td>\n",
       "      <td>0.913</td>\n",
       "      <td>America</td>\n",
       "      <td>English</td>\n",
       "    </tr>\n",
       "    <tr>\n",
       "      <th>France</th>\n",
       "      <td>63.951</td>\n",
       "      <td>2833687</td>\n",
       "      <td>640679</td>\n",
       "      <td>0.888</td>\n",
       "      <td>Europe</td>\n",
       "      <td>France</td>\n",
       "    </tr>\n",
       "    <tr>\n",
       "      <th>Germany</th>\n",
       "      <td>80.940</td>\n",
       "      <td>3874437</td>\n",
       "      <td>357114</td>\n",
       "      <td>0.916</td>\n",
       "      <td>Europe</td>\n",
       "      <td>German</td>\n",
       "    </tr>\n",
       "    <tr>\n",
       "      <th>Italy</th>\n",
       "      <td>60.655</td>\n",
       "      <td>2167744</td>\n",
       "      <td>301336</td>\n",
       "      <td>0.873</td>\n",
       "      <td>Europe</td>\n",
       "      <td>Italian</td>\n",
       "    </tr>\n",
       "    <tr>\n",
       "      <th>Japan</th>\n",
       "      <td>127.061</td>\n",
       "      <td>4602367</td>\n",
       "      <td>377930</td>\n",
       "      <td>0.891</td>\n",
       "      <td>Asia</td>\n",
       "      <td>English</td>\n",
       "    </tr>\n",
       "    <tr>\n",
       "      <th>United Kingdom</th>\n",
       "      <td>64.511</td>\n",
       "      <td>2950039</td>\n",
       "      <td>242495</td>\n",
       "      <td>0.907</td>\n",
       "      <td>Europe</td>\n",
       "      <td>English</td>\n",
       "    </tr>\n",
       "    <tr>\n",
       "      <th>United States</th>\n",
       "      <td>318.523</td>\n",
       "      <td>17348075</td>\n",
       "      <td>9525067</td>\n",
       "      <td>0.915</td>\n",
       "      <td>America</td>\n",
       "      <td>English</td>\n",
       "    </tr>\n",
       "  </tbody>\n",
       "</table>\n",
       "</div>"
      ],
      "text/plain": [
       "                Population       GDP  Surface Area    HDI Continent Language\n",
       "Canada              35.467   1785387       9984670  0.913   America  English\n",
       "France              63.951   2833687        640679  0.888    Europe   France\n",
       "Germany             80.940   3874437        357114  0.916    Europe   German\n",
       "Italy               60.655   2167744        301336  0.873    Europe  Italian\n",
       "Japan              127.061   4602367        377930  0.891      Asia  English\n",
       "United Kingdom      64.511   2950039        242495  0.907    Europe  English\n",
       "United States      318.523  17348075       9525067  0.915   America  English"
      ]
     },
     "execution_count": 166,
     "metadata": {},
     "output_type": "execute_result"
    }
   ],
   "source": [
    "df"
   ]
  },
  {
   "cell_type": "code",
   "execution_count": 167,
   "id": "302f23f2-0c9d-490f-afaf-df1d713ac513",
   "metadata": {},
   "outputs": [
    {
     "data": {
      "text/html": [
       "<div>\n",
       "<style scoped>\n",
       "    .dataframe tbody tr th:only-of-type {\n",
       "        vertical-align: middle;\n",
       "    }\n",
       "\n",
       "    .dataframe tbody tr th {\n",
       "        vertical-align: top;\n",
       "    }\n",
       "\n",
       "    .dataframe thead th {\n",
       "        text-align: right;\n",
       "    }\n",
       "</style>\n",
       "<table border=\"1\" class=\"dataframe\">\n",
       "  <thead>\n",
       "    <tr style=\"text-align: right;\">\n",
       "      <th></th>\n",
       "      <th>Population</th>\n",
       "      <th>GDP</th>\n",
       "      <th>Surface Area</th>\n",
       "      <th>Human Development Index</th>\n",
       "      <th>Continent</th>\n",
       "      <th>Language</th>\n",
       "    </tr>\n",
       "  </thead>\n",
       "  <tbody>\n",
       "    <tr>\n",
       "      <th>Canada</th>\n",
       "      <td>35.467</td>\n",
       "      <td>1785387</td>\n",
       "      <td>9984670</td>\n",
       "      <td>0.913</td>\n",
       "      <td>America</td>\n",
       "      <td>English</td>\n",
       "    </tr>\n",
       "    <tr>\n",
       "      <th>France</th>\n",
       "      <td>63.951</td>\n",
       "      <td>2833687</td>\n",
       "      <td>640679</td>\n",
       "      <td>0.888</td>\n",
       "      <td>Europe</td>\n",
       "      <td>France</td>\n",
       "    </tr>\n",
       "    <tr>\n",
       "      <th>Germany</th>\n",
       "      <td>80.940</td>\n",
       "      <td>3874437</td>\n",
       "      <td>357114</td>\n",
       "      <td>0.916</td>\n",
       "      <td>Europe</td>\n",
       "      <td>German</td>\n",
       "    </tr>\n",
       "    <tr>\n",
       "      <th>Italy</th>\n",
       "      <td>60.655</td>\n",
       "      <td>2167744</td>\n",
       "      <td>301336</td>\n",
       "      <td>0.873</td>\n",
       "      <td>Europe</td>\n",
       "      <td>Italian</td>\n",
       "    </tr>\n",
       "    <tr>\n",
       "      <th>Japan</th>\n",
       "      <td>127.061</td>\n",
       "      <td>4602367</td>\n",
       "      <td>377930</td>\n",
       "      <td>0.891</td>\n",
       "      <td>Asia</td>\n",
       "      <td>English</td>\n",
       "    </tr>\n",
       "    <tr>\n",
       "      <th>UK</th>\n",
       "      <td>64.511</td>\n",
       "      <td>2950039</td>\n",
       "      <td>242495</td>\n",
       "      <td>0.907</td>\n",
       "      <td>Europe</td>\n",
       "      <td>English</td>\n",
       "    </tr>\n",
       "    <tr>\n",
       "      <th>USA</th>\n",
       "      <td>318.523</td>\n",
       "      <td>17348075</td>\n",
       "      <td>9525067</td>\n",
       "      <td>0.915</td>\n",
       "      <td>America</td>\n",
       "      <td>English</td>\n",
       "    </tr>\n",
       "  </tbody>\n",
       "</table>\n",
       "</div>"
      ],
      "text/plain": [
       "         Population       GDP  Surface Area  Human Development Index  \\\n",
       "Canada       35.467   1785387       9984670                    0.913   \n",
       "France       63.951   2833687        640679                    0.888   \n",
       "Germany      80.940   3874437        357114                    0.916   \n",
       "Italy        60.655   2167744        301336                    0.873   \n",
       "Japan       127.061   4602367        377930                    0.891   \n",
       "UK           64.511   2950039        242495                    0.907   \n",
       "USA         318.523  17348075       9525067                    0.915   \n",
       "\n",
       "        Continent Language  \n",
       "Canada    America  English  \n",
       "France     Europe   France  \n",
       "Germany    Europe   German  \n",
       "Italy      Europe  Italian  \n",
       "Japan        Asia  English  \n",
       "UK         Europe  English  \n",
       "USA       America  English  "
      ]
     },
     "execution_count": 167,
     "metadata": {},
     "output_type": "execute_result"
    }
   ],
   "source": [
    "df.rename(\n",
    "    columns={\n",
    "        'HDI': 'Human Development Index',\n",
    "        'Anual Popcorn Consumption': 'APC'\n",
    "    }, index={\n",
    "        'United States': 'USA',\n",
    "        'United Kingdom': 'UK',\n",
    "        'Argentina': 'AG'\n",
    "    })"
   ]
  },
  {
   "cell_type": "code",
   "execution_count": 168,
   "id": "b51270af-b748-4227-a417-e70e19ac910a",
   "metadata": {},
   "outputs": [
    {
     "data": {
      "text/html": [
       "<div>\n",
       "<style scoped>\n",
       "    .dataframe tbody tr th:only-of-type {\n",
       "        vertical-align: middle;\n",
       "    }\n",
       "\n",
       "    .dataframe tbody tr th {\n",
       "        vertical-align: top;\n",
       "    }\n",
       "\n",
       "    .dataframe thead th {\n",
       "        text-align: right;\n",
       "    }\n",
       "</style>\n",
       "<table border=\"1\" class=\"dataframe\">\n",
       "  <thead>\n",
       "    <tr style=\"text-align: right;\">\n",
       "      <th></th>\n",
       "      <th>Population</th>\n",
       "      <th>GDP</th>\n",
       "      <th>Surface Area</th>\n",
       "      <th>HDI</th>\n",
       "      <th>Continent</th>\n",
       "      <th>Language</th>\n",
       "    </tr>\n",
       "  </thead>\n",
       "  <tbody>\n",
       "    <tr>\n",
       "      <th>Canada</th>\n",
       "      <td>35.467</td>\n",
       "      <td>1785387</td>\n",
       "      <td>9984670</td>\n",
       "      <td>0.913</td>\n",
       "      <td>America</td>\n",
       "      <td>English</td>\n",
       "    </tr>\n",
       "    <tr>\n",
       "      <th>France</th>\n",
       "      <td>63.951</td>\n",
       "      <td>2833687</td>\n",
       "      <td>640679</td>\n",
       "      <td>0.888</td>\n",
       "      <td>Europe</td>\n",
       "      <td>France</td>\n",
       "    </tr>\n",
       "    <tr>\n",
       "      <th>Germany</th>\n",
       "      <td>80.940</td>\n",
       "      <td>3874437</td>\n",
       "      <td>357114</td>\n",
       "      <td>0.916</td>\n",
       "      <td>Europe</td>\n",
       "      <td>German</td>\n",
       "    </tr>\n",
       "    <tr>\n",
       "      <th>Italy</th>\n",
       "      <td>60.655</td>\n",
       "      <td>2167744</td>\n",
       "      <td>301336</td>\n",
       "      <td>0.873</td>\n",
       "      <td>Europe</td>\n",
       "      <td>Italian</td>\n",
       "    </tr>\n",
       "    <tr>\n",
       "      <th>Japan</th>\n",
       "      <td>127.061</td>\n",
       "      <td>4602367</td>\n",
       "      <td>377930</td>\n",
       "      <td>0.891</td>\n",
       "      <td>Asia</td>\n",
       "      <td>English</td>\n",
       "    </tr>\n",
       "    <tr>\n",
       "      <th>United Kingdom</th>\n",
       "      <td>64.511</td>\n",
       "      <td>2950039</td>\n",
       "      <td>242495</td>\n",
       "      <td>0.907</td>\n",
       "      <td>Europe</td>\n",
       "      <td>English</td>\n",
       "    </tr>\n",
       "    <tr>\n",
       "      <th>United States</th>\n",
       "      <td>318.523</td>\n",
       "      <td>17348075</td>\n",
       "      <td>9525067</td>\n",
       "      <td>0.915</td>\n",
       "      <td>America</td>\n",
       "      <td>English</td>\n",
       "    </tr>\n",
       "  </tbody>\n",
       "</table>\n",
       "</div>"
      ],
      "text/plain": [
       "                Population       GDP  Surface Area    HDI Continent Language\n",
       "Canada              35.467   1785387       9984670  0.913   America  English\n",
       "France              63.951   2833687        640679  0.888    Europe   France\n",
       "Germany             80.940   3874437        357114  0.916    Europe   German\n",
       "Italy               60.655   2167744        301336  0.873    Europe  Italian\n",
       "Japan              127.061   4602367        377930  0.891      Asia  English\n",
       "United Kingdom      64.511   2950039        242495  0.907    Europe  English\n",
       "United States      318.523  17348075       9525067  0.915   America  English"
      ]
     },
     "execution_count": 168,
     "metadata": {},
     "output_type": "execute_result"
    }
   ],
   "source": [
    "df"
   ]
  },
  {
   "cell_type": "code",
   "execution_count": 169,
   "id": "22e0909b-4ec9-4425-ab76-2d65e218bf41",
   "metadata": {},
   "outputs": [
    {
     "data": {
      "text/html": [
       "<div>\n",
       "<style scoped>\n",
       "    .dataframe tbody tr th:only-of-type {\n",
       "        vertical-align: middle;\n",
       "    }\n",
       "\n",
       "    .dataframe tbody tr th {\n",
       "        vertical-align: top;\n",
       "    }\n",
       "\n",
       "    .dataframe thead th {\n",
       "        text-align: right;\n",
       "    }\n",
       "</style>\n",
       "<table border=\"1\" class=\"dataframe\">\n",
       "  <thead>\n",
       "    <tr style=\"text-align: right;\">\n",
       "      <th></th>\n",
       "      <th>Population</th>\n",
       "      <th>GDP</th>\n",
       "      <th>Surface Area</th>\n",
       "      <th>HDI</th>\n",
       "      <th>Continent</th>\n",
       "      <th>Language</th>\n",
       "    </tr>\n",
       "  </thead>\n",
       "  <tbody>\n",
       "    <tr>\n",
       "      <th>CANADA</th>\n",
       "      <td>35.467</td>\n",
       "      <td>1785387</td>\n",
       "      <td>9984670</td>\n",
       "      <td>0.913</td>\n",
       "      <td>America</td>\n",
       "      <td>English</td>\n",
       "    </tr>\n",
       "    <tr>\n",
       "      <th>FRANCE</th>\n",
       "      <td>63.951</td>\n",
       "      <td>2833687</td>\n",
       "      <td>640679</td>\n",
       "      <td>0.888</td>\n",
       "      <td>Europe</td>\n",
       "      <td>France</td>\n",
       "    </tr>\n",
       "    <tr>\n",
       "      <th>GERMANY</th>\n",
       "      <td>80.940</td>\n",
       "      <td>3874437</td>\n",
       "      <td>357114</td>\n",
       "      <td>0.916</td>\n",
       "      <td>Europe</td>\n",
       "      <td>German</td>\n",
       "    </tr>\n",
       "    <tr>\n",
       "      <th>ITALY</th>\n",
       "      <td>60.655</td>\n",
       "      <td>2167744</td>\n",
       "      <td>301336</td>\n",
       "      <td>0.873</td>\n",
       "      <td>Europe</td>\n",
       "      <td>Italian</td>\n",
       "    </tr>\n",
       "    <tr>\n",
       "      <th>JAPAN</th>\n",
       "      <td>127.061</td>\n",
       "      <td>4602367</td>\n",
       "      <td>377930</td>\n",
       "      <td>0.891</td>\n",
       "      <td>Asia</td>\n",
       "      <td>English</td>\n",
       "    </tr>\n",
       "    <tr>\n",
       "      <th>UNITED KINGDOM</th>\n",
       "      <td>64.511</td>\n",
       "      <td>2950039</td>\n",
       "      <td>242495</td>\n",
       "      <td>0.907</td>\n",
       "      <td>Europe</td>\n",
       "      <td>English</td>\n",
       "    </tr>\n",
       "    <tr>\n",
       "      <th>UNITED STATES</th>\n",
       "      <td>318.523</td>\n",
       "      <td>17348075</td>\n",
       "      <td>9525067</td>\n",
       "      <td>0.915</td>\n",
       "      <td>America</td>\n",
       "      <td>English</td>\n",
       "    </tr>\n",
       "  </tbody>\n",
       "</table>\n",
       "</div>"
      ],
      "text/plain": [
       "                Population       GDP  Surface Area    HDI Continent Language\n",
       "CANADA              35.467   1785387       9984670  0.913   America  English\n",
       "FRANCE              63.951   2833687        640679  0.888    Europe   France\n",
       "GERMANY             80.940   3874437        357114  0.916    Europe   German\n",
       "ITALY               60.655   2167744        301336  0.873    Europe  Italian\n",
       "JAPAN              127.061   4602367        377930  0.891      Asia  English\n",
       "UNITED KINGDOM      64.511   2950039        242495  0.907    Europe  English\n",
       "UNITED STATES      318.523  17348075       9525067  0.915   America  English"
      ]
     },
     "execution_count": 169,
     "metadata": {},
     "output_type": "execute_result"
    }
   ],
   "source": [
    "df.rename(index=str.upper)"
   ]
  },
  {
   "cell_type": "code",
   "execution_count": 171,
   "id": "b9149a6b-258c-460a-a072-34c0891a041d",
   "metadata": {},
   "outputs": [
    {
     "data": {
      "text/html": [
       "<div>\n",
       "<style scoped>\n",
       "    .dataframe tbody tr th:only-of-type {\n",
       "        vertical-align: middle;\n",
       "    }\n",
       "\n",
       "    .dataframe tbody tr th {\n",
       "        vertical-align: top;\n",
       "    }\n",
       "\n",
       "    .dataframe thead th {\n",
       "        text-align: right;\n",
       "    }\n",
       "</style>\n",
       "<table border=\"1\" class=\"dataframe\">\n",
       "  <thead>\n",
       "    <tr style=\"text-align: right;\">\n",
       "      <th></th>\n",
       "      <th>Population</th>\n",
       "      <th>GDP</th>\n",
       "      <th>Surface Area</th>\n",
       "      <th>HDI</th>\n",
       "      <th>Continent</th>\n",
       "      <th>Language</th>\n",
       "    </tr>\n",
       "  </thead>\n",
       "  <tbody>\n",
       "    <tr>\n",
       "      <th>canada</th>\n",
       "      <td>35.467</td>\n",
       "      <td>1785387</td>\n",
       "      <td>9984670</td>\n",
       "      <td>0.913</td>\n",
       "      <td>America</td>\n",
       "      <td>English</td>\n",
       "    </tr>\n",
       "    <tr>\n",
       "      <th>france</th>\n",
       "      <td>63.951</td>\n",
       "      <td>2833687</td>\n",
       "      <td>640679</td>\n",
       "      <td>0.888</td>\n",
       "      <td>Europe</td>\n",
       "      <td>France</td>\n",
       "    </tr>\n",
       "    <tr>\n",
       "      <th>germany</th>\n",
       "      <td>80.940</td>\n",
       "      <td>3874437</td>\n",
       "      <td>357114</td>\n",
       "      <td>0.916</td>\n",
       "      <td>Europe</td>\n",
       "      <td>German</td>\n",
       "    </tr>\n",
       "    <tr>\n",
       "      <th>italy</th>\n",
       "      <td>60.655</td>\n",
       "      <td>2167744</td>\n",
       "      <td>301336</td>\n",
       "      <td>0.873</td>\n",
       "      <td>Europe</td>\n",
       "      <td>Italian</td>\n",
       "    </tr>\n",
       "    <tr>\n",
       "      <th>japan</th>\n",
       "      <td>127.061</td>\n",
       "      <td>4602367</td>\n",
       "      <td>377930</td>\n",
       "      <td>0.891</td>\n",
       "      <td>Asia</td>\n",
       "      <td>English</td>\n",
       "    </tr>\n",
       "    <tr>\n",
       "      <th>united kingdom</th>\n",
       "      <td>64.511</td>\n",
       "      <td>2950039</td>\n",
       "      <td>242495</td>\n",
       "      <td>0.907</td>\n",
       "      <td>Europe</td>\n",
       "      <td>English</td>\n",
       "    </tr>\n",
       "    <tr>\n",
       "      <th>united states</th>\n",
       "      <td>318.523</td>\n",
       "      <td>17348075</td>\n",
       "      <td>9525067</td>\n",
       "      <td>0.915</td>\n",
       "      <td>America</td>\n",
       "      <td>English</td>\n",
       "    </tr>\n",
       "  </tbody>\n",
       "</table>\n",
       "</div>"
      ],
      "text/plain": [
       "                Population       GDP  Surface Area    HDI Continent Language\n",
       "canada              35.467   1785387       9984670  0.913   America  English\n",
       "france              63.951   2833687        640679  0.888    Europe   France\n",
       "germany             80.940   3874437        357114  0.916    Europe   German\n",
       "italy               60.655   2167744        301336  0.873    Europe  Italian\n",
       "japan              127.061   4602367        377930  0.891      Asia  English\n",
       "united kingdom      64.511   2950039        242495  0.907    Europe  English\n",
       "united states      318.523  17348075       9525067  0.915   America  English"
      ]
     },
     "execution_count": 171,
     "metadata": {},
     "output_type": "execute_result"
    }
   ],
   "source": [
    "df.rename(index=lambda x: x.lower())"
   ]
  },
  {
   "cell_type": "code",
   "execution_count": 172,
   "id": "5db97a5b-dd86-45f1-a38d-f3a722e514f1",
   "metadata": {},
   "outputs": [],
   "source": [
    "df.drop(columns='Language', inplace=True)"
   ]
  },
  {
   "cell_type": "code",
   "execution_count": 173,
   "id": "6d1f0d4b-98c5-462a-8d36-48fef58d691f",
   "metadata": {},
   "outputs": [
    {
     "data": {
      "text/html": [
       "<div>\n",
       "<style scoped>\n",
       "    .dataframe tbody tr th:only-of-type {\n",
       "        vertical-align: middle;\n",
       "    }\n",
       "\n",
       "    .dataframe tbody tr th {\n",
       "        vertical-align: top;\n",
       "    }\n",
       "\n",
       "    .dataframe thead th {\n",
       "        text-align: right;\n",
       "    }\n",
       "</style>\n",
       "<table border=\"1\" class=\"dataframe\">\n",
       "  <thead>\n",
       "    <tr style=\"text-align: right;\">\n",
       "      <th></th>\n",
       "      <th>Population</th>\n",
       "      <th>GDP</th>\n",
       "      <th>Surface Area</th>\n",
       "      <th>HDI</th>\n",
       "      <th>Continent</th>\n",
       "    </tr>\n",
       "  </thead>\n",
       "  <tbody>\n",
       "    <tr>\n",
       "      <th>Canada</th>\n",
       "      <td>35.467</td>\n",
       "      <td>1785387</td>\n",
       "      <td>9984670</td>\n",
       "      <td>0.913</td>\n",
       "      <td>America</td>\n",
       "    </tr>\n",
       "    <tr>\n",
       "      <th>France</th>\n",
       "      <td>63.951</td>\n",
       "      <td>2833687</td>\n",
       "      <td>640679</td>\n",
       "      <td>0.888</td>\n",
       "      <td>Europe</td>\n",
       "    </tr>\n",
       "    <tr>\n",
       "      <th>Germany</th>\n",
       "      <td>80.940</td>\n",
       "      <td>3874437</td>\n",
       "      <td>357114</td>\n",
       "      <td>0.916</td>\n",
       "      <td>Europe</td>\n",
       "    </tr>\n",
       "    <tr>\n",
       "      <th>Italy</th>\n",
       "      <td>60.655</td>\n",
       "      <td>2167744</td>\n",
       "      <td>301336</td>\n",
       "      <td>0.873</td>\n",
       "      <td>Europe</td>\n",
       "    </tr>\n",
       "    <tr>\n",
       "      <th>Japan</th>\n",
       "      <td>127.061</td>\n",
       "      <td>4602367</td>\n",
       "      <td>377930</td>\n",
       "      <td>0.891</td>\n",
       "      <td>Asia</td>\n",
       "    </tr>\n",
       "    <tr>\n",
       "      <th>United Kingdom</th>\n",
       "      <td>64.511</td>\n",
       "      <td>2950039</td>\n",
       "      <td>242495</td>\n",
       "      <td>0.907</td>\n",
       "      <td>Europe</td>\n",
       "    </tr>\n",
       "    <tr>\n",
       "      <th>United States</th>\n",
       "      <td>318.523</td>\n",
       "      <td>17348075</td>\n",
       "      <td>9525067</td>\n",
       "      <td>0.915</td>\n",
       "      <td>America</td>\n",
       "    </tr>\n",
       "  </tbody>\n",
       "</table>\n",
       "</div>"
      ],
      "text/plain": [
       "                Population       GDP  Surface Area    HDI Continent\n",
       "Canada              35.467   1785387       9984670  0.913   America\n",
       "France              63.951   2833687        640679  0.888    Europe\n",
       "Germany             80.940   3874437        357114  0.916    Europe\n",
       "Italy               60.655   2167744        301336  0.873    Europe\n",
       "Japan              127.061   4602367        377930  0.891      Asia\n",
       "United Kingdom      64.511   2950039        242495  0.907    Europe\n",
       "United States      318.523  17348075       9525067  0.915   America"
      ]
     },
     "execution_count": 173,
     "metadata": {},
     "output_type": "execute_result"
    }
   ],
   "source": [
    "df"
   ]
  },
  {
   "cell_type": "code",
   "execution_count": 176,
   "id": "ac02d300-fc84-455a-98c2-d1f76c0fa79c",
   "metadata": {},
   "outputs": [],
   "source": [
    "df.loc['China'] = pd.Series({'Population':1_400_000_000, 'Continent':'Asia'})"
   ]
  },
  {
   "cell_type": "code",
   "execution_count": 177,
   "id": "a62508d7-c43a-4ef1-8b6a-695091e40658",
   "metadata": {},
   "outputs": [
    {
     "data": {
      "text/html": [
       "<div>\n",
       "<style scoped>\n",
       "    .dataframe tbody tr th:only-of-type {\n",
       "        vertical-align: middle;\n",
       "    }\n",
       "\n",
       "    .dataframe tbody tr th {\n",
       "        vertical-align: top;\n",
       "    }\n",
       "\n",
       "    .dataframe thead th {\n",
       "        text-align: right;\n",
       "    }\n",
       "</style>\n",
       "<table border=\"1\" class=\"dataframe\">\n",
       "  <thead>\n",
       "    <tr style=\"text-align: right;\">\n",
       "      <th></th>\n",
       "      <th>Population</th>\n",
       "      <th>GDP</th>\n",
       "      <th>Surface Area</th>\n",
       "      <th>HDI</th>\n",
       "      <th>Continent</th>\n",
       "    </tr>\n",
       "  </thead>\n",
       "  <tbody>\n",
       "    <tr>\n",
       "      <th>Canada</th>\n",
       "      <td>3.546700e+01</td>\n",
       "      <td>1785387.0</td>\n",
       "      <td>9984670.0</td>\n",
       "      <td>0.913</td>\n",
       "      <td>America</td>\n",
       "    </tr>\n",
       "    <tr>\n",
       "      <th>France</th>\n",
       "      <td>6.395100e+01</td>\n",
       "      <td>2833687.0</td>\n",
       "      <td>640679.0</td>\n",
       "      <td>0.888</td>\n",
       "      <td>Europe</td>\n",
       "    </tr>\n",
       "    <tr>\n",
       "      <th>Germany</th>\n",
       "      <td>8.094000e+01</td>\n",
       "      <td>3874437.0</td>\n",
       "      <td>357114.0</td>\n",
       "      <td>0.916</td>\n",
       "      <td>Europe</td>\n",
       "    </tr>\n",
       "    <tr>\n",
       "      <th>Italy</th>\n",
       "      <td>6.065500e+01</td>\n",
       "      <td>2167744.0</td>\n",
       "      <td>301336.0</td>\n",
       "      <td>0.873</td>\n",
       "      <td>Europe</td>\n",
       "    </tr>\n",
       "    <tr>\n",
       "      <th>Japan</th>\n",
       "      <td>1.270610e+02</td>\n",
       "      <td>4602367.0</td>\n",
       "      <td>377930.0</td>\n",
       "      <td>0.891</td>\n",
       "      <td>Asia</td>\n",
       "    </tr>\n",
       "    <tr>\n",
       "      <th>United Kingdom</th>\n",
       "      <td>6.451100e+01</td>\n",
       "      <td>2950039.0</td>\n",
       "      <td>242495.0</td>\n",
       "      <td>0.907</td>\n",
       "      <td>Europe</td>\n",
       "    </tr>\n",
       "    <tr>\n",
       "      <th>United States</th>\n",
       "      <td>3.185230e+02</td>\n",
       "      <td>17348075.0</td>\n",
       "      <td>9525067.0</td>\n",
       "      <td>0.915</td>\n",
       "      <td>America</td>\n",
       "    </tr>\n",
       "    <tr>\n",
       "      <th>China</th>\n",
       "      <td>1.400000e+09</td>\n",
       "      <td>NaN</td>\n",
       "      <td>NaN</td>\n",
       "      <td>NaN</td>\n",
       "      <td>Asia</td>\n",
       "    </tr>\n",
       "  </tbody>\n",
       "</table>\n",
       "</div>"
      ],
      "text/plain": [
       "                  Population         GDP  Surface Area    HDI Continent\n",
       "Canada          3.546700e+01   1785387.0     9984670.0  0.913   America\n",
       "France          6.395100e+01   2833687.0      640679.0  0.888    Europe\n",
       "Germany         8.094000e+01   3874437.0      357114.0  0.916    Europe\n",
       "Italy           6.065500e+01   2167744.0      301336.0  0.873    Europe\n",
       "Japan           1.270610e+02   4602367.0      377930.0  0.891      Asia\n",
       "United Kingdom  6.451100e+01   2950039.0      242495.0  0.907    Europe\n",
       "United States   3.185230e+02  17348075.0     9525067.0  0.915   America\n",
       "China           1.400000e+09         NaN           NaN    NaN      Asia"
      ]
     },
     "execution_count": 177,
     "metadata": {},
     "output_type": "execute_result"
    }
   ],
   "source": [
    "df"
   ]
  },
  {
   "cell_type": "code",
   "execution_count": 178,
   "id": "5537f166-58e9-4144-820e-0c247e5ac3de",
   "metadata": {},
   "outputs": [],
   "source": [
    "df.drop('China',inplace=True)"
   ]
  },
  {
   "cell_type": "code",
   "execution_count": 179,
   "id": "3eaef7a9-e3ad-4a5f-b368-78dd77823b0e",
   "metadata": {},
   "outputs": [
    {
     "data": {
      "text/html": [
       "<div>\n",
       "<style scoped>\n",
       "    .dataframe tbody tr th:only-of-type {\n",
       "        vertical-align: middle;\n",
       "    }\n",
       "\n",
       "    .dataframe tbody tr th {\n",
       "        vertical-align: top;\n",
       "    }\n",
       "\n",
       "    .dataframe thead th {\n",
       "        text-align: right;\n",
       "    }\n",
       "</style>\n",
       "<table border=\"1\" class=\"dataframe\">\n",
       "  <thead>\n",
       "    <tr style=\"text-align: right;\">\n",
       "      <th></th>\n",
       "      <th>Population</th>\n",
       "      <th>GDP</th>\n",
       "      <th>Surface Area</th>\n",
       "      <th>HDI</th>\n",
       "      <th>Continent</th>\n",
       "    </tr>\n",
       "  </thead>\n",
       "  <tbody>\n",
       "    <tr>\n",
       "      <th>Canada</th>\n",
       "      <td>35.467</td>\n",
       "      <td>1785387.0</td>\n",
       "      <td>9984670.0</td>\n",
       "      <td>0.913</td>\n",
       "      <td>America</td>\n",
       "    </tr>\n",
       "    <tr>\n",
       "      <th>France</th>\n",
       "      <td>63.951</td>\n",
       "      <td>2833687.0</td>\n",
       "      <td>640679.0</td>\n",
       "      <td>0.888</td>\n",
       "      <td>Europe</td>\n",
       "    </tr>\n",
       "    <tr>\n",
       "      <th>Germany</th>\n",
       "      <td>80.940</td>\n",
       "      <td>3874437.0</td>\n",
       "      <td>357114.0</td>\n",
       "      <td>0.916</td>\n",
       "      <td>Europe</td>\n",
       "    </tr>\n",
       "    <tr>\n",
       "      <th>Italy</th>\n",
       "      <td>60.655</td>\n",
       "      <td>2167744.0</td>\n",
       "      <td>301336.0</td>\n",
       "      <td>0.873</td>\n",
       "      <td>Europe</td>\n",
       "    </tr>\n",
       "    <tr>\n",
       "      <th>Japan</th>\n",
       "      <td>127.061</td>\n",
       "      <td>4602367.0</td>\n",
       "      <td>377930.0</td>\n",
       "      <td>0.891</td>\n",
       "      <td>Asia</td>\n",
       "    </tr>\n",
       "    <tr>\n",
       "      <th>United Kingdom</th>\n",
       "      <td>64.511</td>\n",
       "      <td>2950039.0</td>\n",
       "      <td>242495.0</td>\n",
       "      <td>0.907</td>\n",
       "      <td>Europe</td>\n",
       "    </tr>\n",
       "    <tr>\n",
       "      <th>United States</th>\n",
       "      <td>318.523</td>\n",
       "      <td>17348075.0</td>\n",
       "      <td>9525067.0</td>\n",
       "      <td>0.915</td>\n",
       "      <td>America</td>\n",
       "    </tr>\n",
       "  </tbody>\n",
       "</table>\n",
       "</div>"
      ],
      "text/plain": [
       "                Population         GDP  Surface Area    HDI Continent\n",
       "Canada              35.467   1785387.0     9984670.0  0.913   America\n",
       "France              63.951   2833687.0      640679.0  0.888    Europe\n",
       "Germany             80.940   3874437.0      357114.0  0.916    Europe\n",
       "Italy               60.655   2167744.0      301336.0  0.873    Europe\n",
       "Japan              127.061   4602367.0      377930.0  0.891      Asia\n",
       "United Kingdom      64.511   2950039.0      242495.0  0.907    Europe\n",
       "United States      318.523  17348075.0     9525067.0  0.915   America"
      ]
     },
     "execution_count": 179,
     "metadata": {},
     "output_type": "execute_result"
    }
   ],
   "source": [
    "df"
   ]
  },
  {
   "cell_type": "code",
   "execution_count": 180,
   "id": "3010e653-0223-483f-9b95-0766bc7c51e0",
   "metadata": {},
   "outputs": [
    {
     "data": {
      "text/html": [
       "<div>\n",
       "<style scoped>\n",
       "    .dataframe tbody tr th:only-of-type {\n",
       "        vertical-align: middle;\n",
       "    }\n",
       "\n",
       "    .dataframe tbody tr th {\n",
       "        vertical-align: top;\n",
       "    }\n",
       "\n",
       "    .dataframe thead th {\n",
       "        text-align: right;\n",
       "    }\n",
       "</style>\n",
       "<table border=\"1\" class=\"dataframe\">\n",
       "  <thead>\n",
       "    <tr style=\"text-align: right;\">\n",
       "      <th></th>\n",
       "      <th>index</th>\n",
       "      <th>Population</th>\n",
       "      <th>GDP</th>\n",
       "      <th>Surface Area</th>\n",
       "      <th>HDI</th>\n",
       "      <th>Continent</th>\n",
       "    </tr>\n",
       "  </thead>\n",
       "  <tbody>\n",
       "    <tr>\n",
       "      <th>0</th>\n",
       "      <td>Canada</td>\n",
       "      <td>35.467</td>\n",
       "      <td>1785387.0</td>\n",
       "      <td>9984670.0</td>\n",
       "      <td>0.913</td>\n",
       "      <td>America</td>\n",
       "    </tr>\n",
       "    <tr>\n",
       "      <th>1</th>\n",
       "      <td>France</td>\n",
       "      <td>63.951</td>\n",
       "      <td>2833687.0</td>\n",
       "      <td>640679.0</td>\n",
       "      <td>0.888</td>\n",
       "      <td>Europe</td>\n",
       "    </tr>\n",
       "    <tr>\n",
       "      <th>2</th>\n",
       "      <td>Germany</td>\n",
       "      <td>80.940</td>\n",
       "      <td>3874437.0</td>\n",
       "      <td>357114.0</td>\n",
       "      <td>0.916</td>\n",
       "      <td>Europe</td>\n",
       "    </tr>\n",
       "    <tr>\n",
       "      <th>3</th>\n",
       "      <td>Italy</td>\n",
       "      <td>60.655</td>\n",
       "      <td>2167744.0</td>\n",
       "      <td>301336.0</td>\n",
       "      <td>0.873</td>\n",
       "      <td>Europe</td>\n",
       "    </tr>\n",
       "    <tr>\n",
       "      <th>4</th>\n",
       "      <td>Japan</td>\n",
       "      <td>127.061</td>\n",
       "      <td>4602367.0</td>\n",
       "      <td>377930.0</td>\n",
       "      <td>0.891</td>\n",
       "      <td>Asia</td>\n",
       "    </tr>\n",
       "    <tr>\n",
       "      <th>5</th>\n",
       "      <td>United Kingdom</td>\n",
       "      <td>64.511</td>\n",
       "      <td>2950039.0</td>\n",
       "      <td>242495.0</td>\n",
       "      <td>0.907</td>\n",
       "      <td>Europe</td>\n",
       "    </tr>\n",
       "    <tr>\n",
       "      <th>6</th>\n",
       "      <td>United States</td>\n",
       "      <td>318.523</td>\n",
       "      <td>17348075.0</td>\n",
       "      <td>9525067.0</td>\n",
       "      <td>0.915</td>\n",
       "      <td>America</td>\n",
       "    </tr>\n",
       "  </tbody>\n",
       "</table>\n",
       "</div>"
      ],
      "text/plain": [
       "            index  Population         GDP  Surface Area    HDI Continent\n",
       "0          Canada      35.467   1785387.0     9984670.0  0.913   America\n",
       "1          France      63.951   2833687.0      640679.0  0.888    Europe\n",
       "2         Germany      80.940   3874437.0      357114.0  0.916    Europe\n",
       "3           Italy      60.655   2167744.0      301336.0  0.873    Europe\n",
       "4           Japan     127.061   4602367.0      377930.0  0.891      Asia\n",
       "5  United Kingdom      64.511   2950039.0      242495.0  0.907    Europe\n",
       "6   United States     318.523  17348075.0     9525067.0  0.915   America"
      ]
     },
     "execution_count": 180,
     "metadata": {},
     "output_type": "execute_result"
    }
   ],
   "source": [
    "df.reset_index()"
   ]
  },
  {
   "cell_type": "code",
   "execution_count": 181,
   "id": "5ae36a16-8886-4ed0-b447-7756bcbbd387",
   "metadata": {},
   "outputs": [
    {
     "data": {
      "text/html": [
       "<div>\n",
       "<style scoped>\n",
       "    .dataframe tbody tr th:only-of-type {\n",
       "        vertical-align: middle;\n",
       "    }\n",
       "\n",
       "    .dataframe tbody tr th {\n",
       "        vertical-align: top;\n",
       "    }\n",
       "\n",
       "    .dataframe thead th {\n",
       "        text-align: right;\n",
       "    }\n",
       "</style>\n",
       "<table border=\"1\" class=\"dataframe\">\n",
       "  <thead>\n",
       "    <tr style=\"text-align: right;\">\n",
       "      <th></th>\n",
       "      <th>GDP</th>\n",
       "      <th>Surface Area</th>\n",
       "      <th>HDI</th>\n",
       "      <th>Continent</th>\n",
       "    </tr>\n",
       "    <tr>\n",
       "      <th>Population</th>\n",
       "      <th></th>\n",
       "      <th></th>\n",
       "      <th></th>\n",
       "      <th></th>\n",
       "    </tr>\n",
       "  </thead>\n",
       "  <tbody>\n",
       "    <tr>\n",
       "      <th>35.467</th>\n",
       "      <td>1785387.0</td>\n",
       "      <td>9984670.0</td>\n",
       "      <td>0.913</td>\n",
       "      <td>America</td>\n",
       "    </tr>\n",
       "    <tr>\n",
       "      <th>63.951</th>\n",
       "      <td>2833687.0</td>\n",
       "      <td>640679.0</td>\n",
       "      <td>0.888</td>\n",
       "      <td>Europe</td>\n",
       "    </tr>\n",
       "    <tr>\n",
       "      <th>80.940</th>\n",
       "      <td>3874437.0</td>\n",
       "      <td>357114.0</td>\n",
       "      <td>0.916</td>\n",
       "      <td>Europe</td>\n",
       "    </tr>\n",
       "    <tr>\n",
       "      <th>60.655</th>\n",
       "      <td>2167744.0</td>\n",
       "      <td>301336.0</td>\n",
       "      <td>0.873</td>\n",
       "      <td>Europe</td>\n",
       "    </tr>\n",
       "    <tr>\n",
       "      <th>127.061</th>\n",
       "      <td>4602367.0</td>\n",
       "      <td>377930.0</td>\n",
       "      <td>0.891</td>\n",
       "      <td>Asia</td>\n",
       "    </tr>\n",
       "    <tr>\n",
       "      <th>64.511</th>\n",
       "      <td>2950039.0</td>\n",
       "      <td>242495.0</td>\n",
       "      <td>0.907</td>\n",
       "      <td>Europe</td>\n",
       "    </tr>\n",
       "    <tr>\n",
       "      <th>318.523</th>\n",
       "      <td>17348075.0</td>\n",
       "      <td>9525067.0</td>\n",
       "      <td>0.915</td>\n",
       "      <td>America</td>\n",
       "    </tr>\n",
       "  </tbody>\n",
       "</table>\n",
       "</div>"
      ],
      "text/plain": [
       "                   GDP  Surface Area    HDI Continent\n",
       "Population                                           \n",
       "35.467       1785387.0     9984670.0  0.913   America\n",
       "63.951       2833687.0      640679.0  0.888    Europe\n",
       "80.940       3874437.0      357114.0  0.916    Europe\n",
       "60.655       2167744.0      301336.0  0.873    Europe\n",
       "127.061      4602367.0      377930.0  0.891      Asia\n",
       "64.511       2950039.0      242495.0  0.907    Europe\n",
       "318.523     17348075.0     9525067.0  0.915   America"
      ]
     },
     "execution_count": 181,
     "metadata": {},
     "output_type": "execute_result"
    }
   ],
   "source": [
    "df.set_index('Population')"
   ]
  },
  {
   "cell_type": "code",
   "execution_count": 182,
   "id": "710ff9ab-49cd-49fd-ae14-2a4c94161b61",
   "metadata": {},
   "outputs": [
    {
     "data": {
      "text/html": [
       "<div>\n",
       "<style scoped>\n",
       "    .dataframe tbody tr th:only-of-type {\n",
       "        vertical-align: middle;\n",
       "    }\n",
       "\n",
       "    .dataframe tbody tr th {\n",
       "        vertical-align: top;\n",
       "    }\n",
       "\n",
       "    .dataframe thead th {\n",
       "        text-align: right;\n",
       "    }\n",
       "</style>\n",
       "<table border=\"1\" class=\"dataframe\">\n",
       "  <thead>\n",
       "    <tr style=\"text-align: right;\">\n",
       "      <th></th>\n",
       "      <th>Population</th>\n",
       "      <th>GDP</th>\n",
       "      <th>Surface Area</th>\n",
       "      <th>HDI</th>\n",
       "      <th>Continent</th>\n",
       "    </tr>\n",
       "  </thead>\n",
       "  <tbody>\n",
       "    <tr>\n",
       "      <th>Canada</th>\n",
       "      <td>35.467</td>\n",
       "      <td>1785387.0</td>\n",
       "      <td>9984670.0</td>\n",
       "      <td>0.913</td>\n",
       "      <td>America</td>\n",
       "    </tr>\n",
       "    <tr>\n",
       "      <th>France</th>\n",
       "      <td>63.951</td>\n",
       "      <td>2833687.0</td>\n",
       "      <td>640679.0</td>\n",
       "      <td>0.888</td>\n",
       "      <td>Europe</td>\n",
       "    </tr>\n",
       "    <tr>\n",
       "      <th>Germany</th>\n",
       "      <td>80.940</td>\n",
       "      <td>3874437.0</td>\n",
       "      <td>357114.0</td>\n",
       "      <td>0.916</td>\n",
       "      <td>Europe</td>\n",
       "    </tr>\n",
       "    <tr>\n",
       "      <th>Italy</th>\n",
       "      <td>60.655</td>\n",
       "      <td>2167744.0</td>\n",
       "      <td>301336.0</td>\n",
       "      <td>0.873</td>\n",
       "      <td>Europe</td>\n",
       "    </tr>\n",
       "    <tr>\n",
       "      <th>Japan</th>\n",
       "      <td>127.061</td>\n",
       "      <td>4602367.0</td>\n",
       "      <td>377930.0</td>\n",
       "      <td>0.891</td>\n",
       "      <td>Asia</td>\n",
       "    </tr>\n",
       "    <tr>\n",
       "      <th>United Kingdom</th>\n",
       "      <td>64.511</td>\n",
       "      <td>2950039.0</td>\n",
       "      <td>242495.0</td>\n",
       "      <td>0.907</td>\n",
       "      <td>Europe</td>\n",
       "    </tr>\n",
       "    <tr>\n",
       "      <th>United States</th>\n",
       "      <td>318.523</td>\n",
       "      <td>17348075.0</td>\n",
       "      <td>9525067.0</td>\n",
       "      <td>0.915</td>\n",
       "      <td>America</td>\n",
       "    </tr>\n",
       "  </tbody>\n",
       "</table>\n",
       "</div>"
      ],
      "text/plain": [
       "                Population         GDP  Surface Area    HDI Continent\n",
       "Canada              35.467   1785387.0     9984670.0  0.913   America\n",
       "France              63.951   2833687.0      640679.0  0.888    Europe\n",
       "Germany             80.940   3874437.0      357114.0  0.916    Europe\n",
       "Italy               60.655   2167744.0      301336.0  0.873    Europe\n",
       "Japan              127.061   4602367.0      377930.0  0.891      Asia\n",
       "United Kingdom      64.511   2950039.0      242495.0  0.907    Europe\n",
       "United States      318.523  17348075.0     9525067.0  0.915   America"
      ]
     },
     "execution_count": 182,
     "metadata": {},
     "output_type": "execute_result"
    }
   ],
   "source": [
    "df"
   ]
  },
  {
   "cell_type": "code",
   "execution_count": 184,
   "id": "9ecb3cf5-91a9-4867-8b42-c95f5b90528f",
   "metadata": {},
   "outputs": [
    {
     "data": {
      "text/html": [
       "<div>\n",
       "<style scoped>\n",
       "    .dataframe tbody tr th:only-of-type {\n",
       "        vertical-align: middle;\n",
       "    }\n",
       "\n",
       "    .dataframe tbody tr th {\n",
       "        vertical-align: top;\n",
       "    }\n",
       "\n",
       "    .dataframe thead th {\n",
       "        text-align: right;\n",
       "    }\n",
       "</style>\n",
       "<table border=\"1\" class=\"dataframe\">\n",
       "  <thead>\n",
       "    <tr style=\"text-align: right;\">\n",
       "      <th></th>\n",
       "      <th>Population</th>\n",
       "      <th>GDP</th>\n",
       "    </tr>\n",
       "  </thead>\n",
       "  <tbody>\n",
       "    <tr>\n",
       "      <th>Canada</th>\n",
       "      <td>35.467</td>\n",
       "      <td>1785387.0</td>\n",
       "    </tr>\n",
       "    <tr>\n",
       "      <th>France</th>\n",
       "      <td>63.951</td>\n",
       "      <td>2833687.0</td>\n",
       "    </tr>\n",
       "    <tr>\n",
       "      <th>Germany</th>\n",
       "      <td>80.940</td>\n",
       "      <td>3874437.0</td>\n",
       "    </tr>\n",
       "    <tr>\n",
       "      <th>Italy</th>\n",
       "      <td>60.655</td>\n",
       "      <td>2167744.0</td>\n",
       "    </tr>\n",
       "    <tr>\n",
       "      <th>Japan</th>\n",
       "      <td>127.061</td>\n",
       "      <td>4602367.0</td>\n",
       "    </tr>\n",
       "    <tr>\n",
       "      <th>United Kingdom</th>\n",
       "      <td>64.511</td>\n",
       "      <td>2950039.0</td>\n",
       "    </tr>\n",
       "    <tr>\n",
       "      <th>United States</th>\n",
       "      <td>318.523</td>\n",
       "      <td>17348075.0</td>\n",
       "    </tr>\n",
       "  </tbody>\n",
       "</table>\n",
       "</div>"
      ],
      "text/plain": [
       "                Population         GDP\n",
       "Canada              35.467   1785387.0\n",
       "France              63.951   2833687.0\n",
       "Germany             80.940   3874437.0\n",
       "Italy               60.655   2167744.0\n",
       "Japan              127.061   4602367.0\n",
       "United Kingdom      64.511   2950039.0\n",
       "United States      318.523  17348075.0"
      ]
     },
     "execution_count": 184,
     "metadata": {},
     "output_type": "execute_result"
    }
   ],
   "source": [
    "df[['Population','GDP']]"
   ]
  },
  {
   "cell_type": "code",
   "execution_count": 185,
   "id": "8f479e38-5e81-414b-ae3b-c74e7d949a08",
   "metadata": {},
   "outputs": [
    {
     "data": {
      "text/plain": [
       "Canada            50339.385908\n",
       "France            44310.284437\n",
       "Germany           47868.013343\n",
       "Italy             35738.916825\n",
       "Japan             36221.712406\n",
       "United Kingdom    45729.239975\n",
       "United States     54464.120330\n",
       "dtype: float64"
      ]
     },
     "execution_count": 185,
     "metadata": {},
     "output_type": "execute_result"
    }
   ],
   "source": [
    "df['GDP']/df['Population']"
   ]
  },
  {
   "cell_type": "code",
   "execution_count": 188,
   "id": "50d696f6-2214-4a91-97e9-95e552f54538",
   "metadata": {},
   "outputs": [],
   "source": [
    "df['GDP Per Capita'] = df['GDP'] / df['Population']"
   ]
  },
  {
   "cell_type": "code",
   "execution_count": 189,
   "id": "7cb3908e-696d-4312-a46d-c3380421f75e",
   "metadata": {},
   "outputs": [
    {
     "data": {
      "text/html": [
       "<div>\n",
       "<style scoped>\n",
       "    .dataframe tbody tr th:only-of-type {\n",
       "        vertical-align: middle;\n",
       "    }\n",
       "\n",
       "    .dataframe tbody tr th {\n",
       "        vertical-align: top;\n",
       "    }\n",
       "\n",
       "    .dataframe thead th {\n",
       "        text-align: right;\n",
       "    }\n",
       "</style>\n",
       "<table border=\"1\" class=\"dataframe\">\n",
       "  <thead>\n",
       "    <tr style=\"text-align: right;\">\n",
       "      <th></th>\n",
       "      <th>Population</th>\n",
       "      <th>GDP</th>\n",
       "      <th>Surface Area</th>\n",
       "      <th>HDI</th>\n",
       "      <th>Continent</th>\n",
       "      <th>GDP Per Capita</th>\n",
       "    </tr>\n",
       "  </thead>\n",
       "  <tbody>\n",
       "    <tr>\n",
       "      <th>Canada</th>\n",
       "      <td>35.467</td>\n",
       "      <td>1785387.0</td>\n",
       "      <td>9984670.0</td>\n",
       "      <td>0.913</td>\n",
       "      <td>America</td>\n",
       "      <td>50339.385908</td>\n",
       "    </tr>\n",
       "    <tr>\n",
       "      <th>France</th>\n",
       "      <td>63.951</td>\n",
       "      <td>2833687.0</td>\n",
       "      <td>640679.0</td>\n",
       "      <td>0.888</td>\n",
       "      <td>Europe</td>\n",
       "      <td>44310.284437</td>\n",
       "    </tr>\n",
       "    <tr>\n",
       "      <th>Germany</th>\n",
       "      <td>80.940</td>\n",
       "      <td>3874437.0</td>\n",
       "      <td>357114.0</td>\n",
       "      <td>0.916</td>\n",
       "      <td>Europe</td>\n",
       "      <td>47868.013343</td>\n",
       "    </tr>\n",
       "    <tr>\n",
       "      <th>Italy</th>\n",
       "      <td>60.655</td>\n",
       "      <td>2167744.0</td>\n",
       "      <td>301336.0</td>\n",
       "      <td>0.873</td>\n",
       "      <td>Europe</td>\n",
       "      <td>35738.916825</td>\n",
       "    </tr>\n",
       "    <tr>\n",
       "      <th>Japan</th>\n",
       "      <td>127.061</td>\n",
       "      <td>4602367.0</td>\n",
       "      <td>377930.0</td>\n",
       "      <td>0.891</td>\n",
       "      <td>Asia</td>\n",
       "      <td>36221.712406</td>\n",
       "    </tr>\n",
       "    <tr>\n",
       "      <th>United Kingdom</th>\n",
       "      <td>64.511</td>\n",
       "      <td>2950039.0</td>\n",
       "      <td>242495.0</td>\n",
       "      <td>0.907</td>\n",
       "      <td>Europe</td>\n",
       "      <td>45729.239975</td>\n",
       "    </tr>\n",
       "    <tr>\n",
       "      <th>United States</th>\n",
       "      <td>318.523</td>\n",
       "      <td>17348075.0</td>\n",
       "      <td>9525067.0</td>\n",
       "      <td>0.915</td>\n",
       "      <td>America</td>\n",
       "      <td>54464.120330</td>\n",
       "    </tr>\n",
       "  </tbody>\n",
       "</table>\n",
       "</div>"
      ],
      "text/plain": [
       "                Population         GDP  Surface Area    HDI Continent  \\\n",
       "Canada              35.467   1785387.0     9984670.0  0.913   America   \n",
       "France              63.951   2833687.0      640679.0  0.888    Europe   \n",
       "Germany             80.940   3874437.0      357114.0  0.916    Europe   \n",
       "Italy               60.655   2167744.0      301336.0  0.873    Europe   \n",
       "Japan              127.061   4602367.0      377930.0  0.891      Asia   \n",
       "United Kingdom      64.511   2950039.0      242495.0  0.907    Europe   \n",
       "United States      318.523  17348075.0     9525067.0  0.915   America   \n",
       "\n",
       "                GDP Per Capita  \n",
       "Canada            50339.385908  \n",
       "France            44310.284437  \n",
       "Germany           47868.013343  \n",
       "Italy             35738.916825  \n",
       "Japan             36221.712406  \n",
       "United Kingdom    45729.239975  \n",
       "United States     54464.120330  "
      ]
     },
     "execution_count": 189,
     "metadata": {},
     "output_type": "execute_result"
    }
   ],
   "source": [
    "df"
   ]
  },
  {
   "cell_type": "code",
   "execution_count": 190,
   "id": "071d7067-c173-4b8e-a2cb-5e496d3ae30a",
   "metadata": {},
   "outputs": [
    {
     "data": {
      "text/html": [
       "<div>\n",
       "<style scoped>\n",
       "    .dataframe tbody tr th:only-of-type {\n",
       "        vertical-align: middle;\n",
       "    }\n",
       "\n",
       "    .dataframe tbody tr th {\n",
       "        vertical-align: top;\n",
       "    }\n",
       "\n",
       "    .dataframe thead th {\n",
       "        text-align: right;\n",
       "    }\n",
       "</style>\n",
       "<table border=\"1\" class=\"dataframe\">\n",
       "  <thead>\n",
       "    <tr style=\"text-align: right;\">\n",
       "      <th></th>\n",
       "      <th>Population</th>\n",
       "      <th>GDP</th>\n",
       "      <th>Surface Area</th>\n",
       "      <th>HDI</th>\n",
       "      <th>Continent</th>\n",
       "      <th>GDP Per Capita</th>\n",
       "    </tr>\n",
       "  </thead>\n",
       "  <tbody>\n",
       "    <tr>\n",
       "      <th>Canada</th>\n",
       "      <td>35.467</td>\n",
       "      <td>1785387.0</td>\n",
       "      <td>9984670.0</td>\n",
       "      <td>0.913</td>\n",
       "      <td>America</td>\n",
       "      <td>50339.385908</td>\n",
       "    </tr>\n",
       "    <tr>\n",
       "      <th>France</th>\n",
       "      <td>63.951</td>\n",
       "      <td>2833687.0</td>\n",
       "      <td>640679.0</td>\n",
       "      <td>0.888</td>\n",
       "      <td>Europe</td>\n",
       "      <td>44310.284437</td>\n",
       "    </tr>\n",
       "    <tr>\n",
       "      <th>Germany</th>\n",
       "      <td>80.940</td>\n",
       "      <td>3874437.0</td>\n",
       "      <td>357114.0</td>\n",
       "      <td>0.916</td>\n",
       "      <td>Europe</td>\n",
       "      <td>47868.013343</td>\n",
       "    </tr>\n",
       "    <tr>\n",
       "      <th>Italy</th>\n",
       "      <td>60.655</td>\n",
       "      <td>2167744.0</td>\n",
       "      <td>301336.0</td>\n",
       "      <td>0.873</td>\n",
       "      <td>Europe</td>\n",
       "      <td>35738.916825</td>\n",
       "    </tr>\n",
       "    <tr>\n",
       "      <th>Japan</th>\n",
       "      <td>127.061</td>\n",
       "      <td>4602367.0</td>\n",
       "      <td>377930.0</td>\n",
       "      <td>0.891</td>\n",
       "      <td>Asia</td>\n",
       "      <td>36221.712406</td>\n",
       "    </tr>\n",
       "  </tbody>\n",
       "</table>\n",
       "</div>"
      ],
      "text/plain": [
       "         Population        GDP  Surface Area    HDI Continent  GDP Per Capita\n",
       "Canada       35.467  1785387.0     9984670.0  0.913   America    50339.385908\n",
       "France       63.951  2833687.0      640679.0  0.888    Europe    44310.284437\n",
       "Germany      80.940  3874437.0      357114.0  0.916    Europe    47868.013343\n",
       "Italy        60.655  2167744.0      301336.0  0.873    Europe    35738.916825\n",
       "Japan       127.061  4602367.0      377930.0  0.891      Asia    36221.712406"
      ]
     },
     "execution_count": 190,
     "metadata": {},
     "output_type": "execute_result"
    }
   ],
   "source": [
    "df.head()"
   ]
  },
  {
   "cell_type": "code",
   "execution_count": 191,
   "id": "83e879d1-521c-4bfa-90eb-a079b9777a0d",
   "metadata": {},
   "outputs": [
    {
     "data": {
      "text/html": [
       "<div>\n",
       "<style scoped>\n",
       "    .dataframe tbody tr th:only-of-type {\n",
       "        vertical-align: middle;\n",
       "    }\n",
       "\n",
       "    .dataframe tbody tr th {\n",
       "        vertical-align: top;\n",
       "    }\n",
       "\n",
       "    .dataframe thead th {\n",
       "        text-align: right;\n",
       "    }\n",
       "</style>\n",
       "<table border=\"1\" class=\"dataframe\">\n",
       "  <thead>\n",
       "    <tr style=\"text-align: right;\">\n",
       "      <th></th>\n",
       "      <th>Population</th>\n",
       "      <th>GDP</th>\n",
       "      <th>Surface Area</th>\n",
       "      <th>HDI</th>\n",
       "      <th>GDP Per Capita</th>\n",
       "    </tr>\n",
       "  </thead>\n",
       "  <tbody>\n",
       "    <tr>\n",
       "      <th>count</th>\n",
       "      <td>7.000000</td>\n",
       "      <td>7.000000e+00</td>\n",
       "      <td>7.000000e+00</td>\n",
       "      <td>7.000000</td>\n",
       "      <td>7.000000</td>\n",
       "    </tr>\n",
       "    <tr>\n",
       "      <th>mean</th>\n",
       "      <td>107.301143</td>\n",
       "      <td>5.080248e+06</td>\n",
       "      <td>3.061327e+06</td>\n",
       "      <td>0.900429</td>\n",
       "      <td>44953.096175</td>\n",
       "    </tr>\n",
       "    <tr>\n",
       "      <th>std</th>\n",
       "      <td>97.250769</td>\n",
       "      <td>5.494020e+06</td>\n",
       "      <td>4.576187e+06</td>\n",
       "      <td>0.016592</td>\n",
       "      <td>6953.682591</td>\n",
       "    </tr>\n",
       "    <tr>\n",
       "      <th>min</th>\n",
       "      <td>35.467000</td>\n",
       "      <td>1.785387e+06</td>\n",
       "      <td>2.424950e+05</td>\n",
       "      <td>0.873000</td>\n",
       "      <td>35738.916825</td>\n",
       "    </tr>\n",
       "    <tr>\n",
       "      <th>25%</th>\n",
       "      <td>62.303000</td>\n",
       "      <td>2.500716e+06</td>\n",
       "      <td>3.292250e+05</td>\n",
       "      <td>0.889500</td>\n",
       "      <td>40265.998421</td>\n",
       "    </tr>\n",
       "    <tr>\n",
       "      <th>50%</th>\n",
       "      <td>64.511000</td>\n",
       "      <td>2.950039e+06</td>\n",
       "      <td>3.779300e+05</td>\n",
       "      <td>0.907000</td>\n",
       "      <td>45729.239975</td>\n",
       "    </tr>\n",
       "    <tr>\n",
       "      <th>75%</th>\n",
       "      <td>104.000500</td>\n",
       "      <td>4.238402e+06</td>\n",
       "      <td>5.082873e+06</td>\n",
       "      <td>0.914000</td>\n",
       "      <td>49103.699626</td>\n",
       "    </tr>\n",
       "    <tr>\n",
       "      <th>max</th>\n",
       "      <td>318.523000</td>\n",
       "      <td>1.734808e+07</td>\n",
       "      <td>9.984670e+06</td>\n",
       "      <td>0.916000</td>\n",
       "      <td>54464.120330</td>\n",
       "    </tr>\n",
       "  </tbody>\n",
       "</table>\n",
       "</div>"
      ],
      "text/plain": [
       "       Population           GDP  Surface Area       HDI  GDP Per Capita\n",
       "count    7.000000  7.000000e+00  7.000000e+00  7.000000        7.000000\n",
       "mean   107.301143  5.080248e+06  3.061327e+06  0.900429    44953.096175\n",
       "std     97.250769  5.494020e+06  4.576187e+06  0.016592     6953.682591\n",
       "min     35.467000  1.785387e+06  2.424950e+05  0.873000    35738.916825\n",
       "25%     62.303000  2.500716e+06  3.292250e+05  0.889500    40265.998421\n",
       "50%     64.511000  2.950039e+06  3.779300e+05  0.907000    45729.239975\n",
       "75%    104.000500  4.238402e+06  5.082873e+06  0.914000    49103.699626\n",
       "max    318.523000  1.734808e+07  9.984670e+06  0.916000    54464.120330"
      ]
     },
     "execution_count": 191,
     "metadata": {},
     "output_type": "execute_result"
    }
   ],
   "source": [
    "df.describe()"
   ]
  },
  {
   "cell_type": "code",
   "execution_count": 193,
   "id": "9b04950a-e6f4-470d-8b84-ef87a7008578",
   "metadata": {},
   "outputs": [],
   "source": [
    "population = df['Population']"
   ]
  },
  {
   "cell_type": "code",
   "execution_count": 194,
   "id": "6e0cab50-9ab2-430b-acec-9b810f5ce1fa",
   "metadata": {},
   "outputs": [
    {
     "data": {
      "text/plain": [
       "(35.467, 318.523)"
      ]
     },
     "execution_count": 194,
     "metadata": {},
     "output_type": "execute_result"
    }
   ],
   "source": [
    "population.min(), population.max()"
   ]
  },
  {
   "cell_type": "code",
   "execution_count": 195,
   "id": "a7e5b712-5f63-4096-a656-03737367d4ba",
   "metadata": {},
   "outputs": [
    {
     "data": {
      "text/plain": [
       "751.1080000000001"
      ]
     },
     "execution_count": 195,
     "metadata": {},
     "output_type": "execute_result"
    }
   ],
   "source": [
    "population.sum()"
   ]
  },
  {
   "cell_type": "code",
   "execution_count": 196,
   "id": "991f9ace-40d5-4074-9b9c-0676eb090db6",
   "metadata": {},
   "outputs": [
    {
     "data": {
      "text/plain": [
       "107.30114285714286"
      ]
     },
     "execution_count": 196,
     "metadata": {},
     "output_type": "execute_result"
    }
   ],
   "source": [
    "population.sum()/len(population)"
   ]
  },
  {
   "cell_type": "code",
   "execution_count": 197,
   "id": "6433c287-2e41-4eb7-8e39-a89dbb9890fa",
   "metadata": {},
   "outputs": [
    {
     "data": {
      "text/plain": [
       "107.30114285714286"
      ]
     },
     "execution_count": 197,
     "metadata": {},
     "output_type": "execute_result"
    }
   ],
   "source": [
    "population.mean()"
   ]
  },
  {
   "cell_type": "code",
   "execution_count": 198,
   "id": "bb4b0d74-128b-44f1-aa55-e3ffabbc2654",
   "metadata": {},
   "outputs": [
    {
     "data": {
      "text/plain": [
       "97.25076921448759"
      ]
     },
     "execution_count": 198,
     "metadata": {},
     "output_type": "execute_result"
    }
   ],
   "source": [
    "population.std()"
   ]
  },
  {
   "cell_type": "code",
   "execution_count": 201,
   "id": "7ac6a058-0201-4bfc-a3f6-c16bf49af309",
   "metadata": {},
   "outputs": [
    {
     "data": {
      "text/plain": [
       "64.511"
      ]
     },
     "execution_count": 201,
     "metadata": {},
     "output_type": "execute_result"
    }
   ],
   "source": [
    "population.median()"
   ]
  },
  {
   "cell_type": "code",
   "execution_count": 202,
   "id": "6803273a-73f7-4f1b-bf76-af127f60bf5c",
   "metadata": {},
   "outputs": [
    {
     "data": {
      "text/plain": [
       "count      7.000000\n",
       "mean     107.301143\n",
       "std       97.250769\n",
       "min       35.467000\n",
       "25%       62.303000\n",
       "50%       64.511000\n",
       "75%      104.000500\n",
       "max      318.523000\n",
       "Name: Population, dtype: float64"
      ]
     },
     "execution_count": 202,
     "metadata": {},
     "output_type": "execute_result"
    }
   ],
   "source": [
    "population.describe()"
   ]
  },
  {
   "cell_type": "code",
   "execution_count": 203,
   "id": "c002720b-feff-4575-89f5-4c8e8469822a",
   "metadata": {},
   "outputs": [
    {
     "data": {
      "text/plain": [
       "62.303"
      ]
     },
     "execution_count": 203,
     "metadata": {},
     "output_type": "execute_result"
    }
   ],
   "source": [
    "population.quantile(.25)"
   ]
  },
  {
   "cell_type": "code",
   "execution_count": 204,
   "id": "07141487-2235-4798-8c1f-10a7dd329e71",
   "metadata": {},
   "outputs": [
    {
     "data": {
      "text/plain": [
       "0.2     61.3142\n",
       "0.4     64.1750\n",
       "0.6     74.3684\n",
       "0.8    117.8368\n",
       "1.0    318.5230\n",
       "Name: Population, dtype: float64"
      ]
     },
     "execution_count": 204,
     "metadata": {},
     "output_type": "execute_result"
    }
   ],
   "source": [
    "population.quantile([.2,.4,.6,.8,1])"
   ]
  }
 ],
 "metadata": {
  "kernelspec": {
   "display_name": "Python 3 (ipykernel)",
   "language": "python",
   "name": "python3"
  },
  "language_info": {
   "codemirror_mode": {
    "name": "ipython",
    "version": 3
   },
   "file_extension": ".py",
   "mimetype": "text/x-python",
   "name": "python",
   "nbconvert_exporter": "python",
   "pygments_lexer": "ipython3",
   "version": "3.12.4"
  }
 },
 "nbformat": 4,
 "nbformat_minor": 5
}
