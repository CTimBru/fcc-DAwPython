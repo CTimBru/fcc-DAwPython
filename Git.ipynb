{
 "cells": [
  {
   "cell_type": "markdown",
   "id": "e3d5714f-2d5b-4fea-88bb-ad9842bbef95",
   "metadata": {},
   "source": [
    "## Git Basics"
   ]
  },
  {
   "cell_type": "markdown",
   "id": "0cfe869b-24fa-4a93-9c05-631cae459aa4",
   "metadata": {},
   "source": [
    "### Commands"
   ]
  },
  {
   "cell_type": "raw",
   "id": "5741a12b-f059-4317-9906-7fa756feabe5",
   "metadata": {},
   "source": [
    "git clone [link]"
   ]
  },
  {
   "cell_type": "markdown",
   "id": "173abfe7-e7ea-43fb-a758-31b1a54f2263",
   "metadata": {},
   "source": [
    "_Clones the linked repo to current dir_"
   ]
  },
  {
   "cell_type": "raw",
   "id": "a60bf66c-4136-4bba-83ac-93494a62c6e3",
   "metadata": {},
   "source": [
    "git add ."
   ]
  },
  {
   "cell_type": "markdown",
   "id": "95713f54-ee1b-4714-a99b-4efbd1c0b49f",
   "metadata": {},
   "source": [
    "_Add all files, ready to update repo_"
   ]
  },
  {
   "cell_type": "raw",
   "id": "5ea58c82-9b58-454b-9d49-d0efd5d00819",
   "metadata": {},
   "source": [
    "file: .gitignore\n",
    ">>\n",
    "dir_name_here/"
   ]
  },
  {
   "cell_type": "markdown",
   "id": "a36ffded-aff9-4b15-bf44-eed13d3ba8ca",
   "metadata": {},
   "source": [
    "_Add will subsequently ignore all files in this dir_"
   ]
  }
 ],
 "metadata": {
  "kernelspec": {
   "display_name": "Python 3 (ipykernel)",
   "language": "python",
   "name": "python3"
  },
  "language_info": {
   "codemirror_mode": {
    "name": "ipython",
    "version": 3
   },
   "file_extension": ".py",
   "mimetype": "text/x-python",
   "name": "python",
   "nbconvert_exporter": "python",
   "pygments_lexer": "ipython3",
   "version": "3.12.4"
  }
 },
 "nbformat": 4,
 "nbformat_minor": 5
}
